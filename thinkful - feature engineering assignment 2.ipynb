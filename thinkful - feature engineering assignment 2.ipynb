{
 "cells": [
  {
   "cell_type": "code",
   "execution_count": 1,
   "metadata": {},
   "outputs": [],
   "source": [
    "import pandas as pd\n",
    "import matplotlib.pyplot as plt\n",
    "import seaborn as sns\n",
    "from sqlalchemy import create_engine\n",
    "import warnings\n",
    "\n",
    "warnings.filterwarnings('ignore')"
   ]
  },
  {
   "cell_type": "code",
   "execution_count": 12,
   "metadata": {},
   "outputs": [],
   "source": [
    "postgres_user = 'dsbc_student'\n",
    "postgres_pw = '7*.8G9QH21'\n",
    "postgres_host = '142.93.121.174'\n",
    "postgres_port = '5432'\n",
    "postgres_db = 'useducation'\n",
    "\n",
    "engine = create_engine('postgresql://{}:{}@{}:{}/{}'.format(\n",
    "    postgres_user, postgres_pw, postgres_host, postgres_port, postgres_db))\n",
    "\n",
    "education = pd.read_sql_query('select * from useducation',con=engine)\n",
    "\n",
    "engine.dispose()"
   ]
  },
  {
   "cell_type": "code",
   "execution_count": 13,
   "metadata": {},
   "outputs": [],
   "source": [
    "fill_list = [\"ENROLL\", \"TOTAL_REVENUE\", \"FEDERAL_REVENUE\",\n",
    "             \"STATE_REVENUE\", \"LOCAL_REVENUE\", \"TOTAL_EXPENDITURE\",\n",
    "             \"INSTRUCTION_EXPENDITURE\", \"SUPPORT_SERVICES_EXPENDITURE\",\n",
    "             \"OTHER_EXPENDITURE\", \"CAPITAL_OUTLAY_EXPENDITURE\", \"GRADES_PK_G\",\n",
    "             \"GRADES_KG_G\", \"GRADES_4_G\", \"GRADES_8_G\", \"GRADES_12_G\", \"GRADES_1_8_G\",\n",
    "             \"GRADES_9_12_G\", \"GRADES_ALL_G\"]\n",
    "\n",
    "states = education[\"STATE\"].unique()\n",
    "\n",
    "for state in states:\n",
    "    education.loc[education[\"STATE\"] == state, fill_list] = education.loc[education[\"STATE\"] == state, fill_list].interpolate()\n",
    "\n",
    "education.dropna(inplace=True)"
   ]
  },
  {
   "cell_type": "markdown",
   "metadata": {},
   "source": [
    "### 1. Create a new score variable from the weighted averages of all score variables in the datasets. Notice that the number of students in the 4th grade isn't the same as the number of students in the 8th grade. So, you should appropriately weigh the scores!"
   ]
  },
  {
   "cell_type": "code",
   "execution_count": 26,
   "metadata": {},
   "outputs": [
    {
     "data": {
      "text/html": [
       "<div>\n",
       "<style scoped>\n",
       "    .dataframe tbody tr th:only-of-type {\n",
       "        vertical-align: middle;\n",
       "    }\n",
       "\n",
       "    .dataframe tbody tr th {\n",
       "        vertical-align: top;\n",
       "    }\n",
       "\n",
       "    .dataframe thead th {\n",
       "        text-align: right;\n",
       "    }\n",
       "</style>\n",
       "<table border=\"1\" class=\"dataframe\">\n",
       "  <thead>\n",
       "    <tr style=\"text-align: right;\">\n",
       "      <th></th>\n",
       "      <th>PRIMARY_KEY</th>\n",
       "      <th>STATE</th>\n",
       "      <th>YEAR</th>\n",
       "      <th>ENROLL</th>\n",
       "      <th>TOTAL_REVENUE</th>\n",
       "      <th>FEDERAL_REVENUE</th>\n",
       "      <th>STATE_REVENUE</th>\n",
       "      <th>LOCAL_REVENUE</th>\n",
       "      <th>TOTAL_EXPENDITURE</th>\n",
       "      <th>INSTRUCTION_EXPENDITURE</th>\n",
       "      <th>...</th>\n",
       "      <th>GRADES_8_G</th>\n",
       "      <th>GRADES_12_G</th>\n",
       "      <th>GRADES_1_8_G</th>\n",
       "      <th>GRADES_9_12_G</th>\n",
       "      <th>GRADES_ALL_G</th>\n",
       "      <th>AVG_MATH_4_SCORE</th>\n",
       "      <th>AVG_MATH_8_SCORE</th>\n",
       "      <th>AVG_READING_4_SCORE</th>\n",
       "      <th>AVG_READING_8_SCORE</th>\n",
       "      <th>total_score</th>\n",
       "    </tr>\n",
       "  </thead>\n",
       "  <tbody>\n",
       "    <tr>\n",
       "      <th>209</th>\n",
       "      <td>1996_ALABAMA</td>\n",
       "      <td>ALABAMA</td>\n",
       "      <td>1996</td>\n",
       "      <td>735912.0</td>\n",
       "      <td>3365113.0</td>\n",
       "      <td>334858.0</td>\n",
       "      <td>2138717.0</td>\n",
       "      <td>891538.0</td>\n",
       "      <td>3572283.0</td>\n",
       "      <td>1987018.0</td>\n",
       "      <td>...</td>\n",
       "      <td>58305.0</td>\n",
       "      <td>42510.0</td>\n",
       "      <td>469370.0</td>\n",
       "      <td>207980.0</td>\n",
       "      <td>686983.0</td>\n",
       "      <td>211.646974</td>\n",
       "      <td>256.594863</td>\n",
       "      <td>210.920767</td>\n",
       "      <td>260.276441</td>\n",
       "      <td>235.106342</td>\n",
       "    </tr>\n",
       "    <tr>\n",
       "      <th>211</th>\n",
       "      <td>1996_ARIZONA</td>\n",
       "      <td>ARIZONA</td>\n",
       "      <td>1996</td>\n",
       "      <td>764681.0</td>\n",
       "      <td>4143304.0</td>\n",
       "      <td>378917.0</td>\n",
       "      <td>1798363.0</td>\n",
       "      <td>1966024.0</td>\n",
       "      <td>4391555.0</td>\n",
       "      <td>1860007.0</td>\n",
       "      <td>...</td>\n",
       "      <td>60514.0</td>\n",
       "      <td>42041.0</td>\n",
       "      <td>511925.0</td>\n",
       "      <td>210289.0</td>\n",
       "      <td>726709.0</td>\n",
       "      <td>217.575940</td>\n",
       "      <td>267.874834</td>\n",
       "      <td>206.529788</td>\n",
       "      <td>263.283638</td>\n",
       "      <td>238.321404</td>\n",
       "    </tr>\n",
       "    <tr>\n",
       "      <th>212</th>\n",
       "      <td>1996_ARKANSAS</td>\n",
       "      <td>ARKANSAS</td>\n",
       "      <td>1996</td>\n",
       "      <td>452907.0</td>\n",
       "      <td>2183384.0</td>\n",
       "      <td>192152.0</td>\n",
       "      <td>1296247.0</td>\n",
       "      <td>694985.0</td>\n",
       "      <td>2297381.0</td>\n",
       "      <td>1264275.0</td>\n",
       "      <td>...</td>\n",
       "      <td>37064.0</td>\n",
       "      <td>27613.0</td>\n",
       "      <td>283883.0</td>\n",
       "      <td>131997.0</td>\n",
       "      <td>417860.0</td>\n",
       "      <td>215.846436</td>\n",
       "      <td>261.652745</td>\n",
       "      <td>208.837716</td>\n",
       "      <td>271.834590</td>\n",
       "      <td>240.773675</td>\n",
       "    </tr>\n",
       "    <tr>\n",
       "      <th>213</th>\n",
       "      <td>1996_CALIFORNIA</td>\n",
       "      <td>CALIFORNIA</td>\n",
       "      <td>1996</td>\n",
       "      <td>5460484.0</td>\n",
       "      <td>31282981.0</td>\n",
       "      <td>2603882.0</td>\n",
       "      <td>17061474.0</td>\n",
       "      <td>11617625.0</td>\n",
       "      <td>31561692.0</td>\n",
       "      <td>16880730.0</td>\n",
       "      <td>...</td>\n",
       "      <td>406456.0</td>\n",
       "      <td>298669.0</td>\n",
       "      <td>3516572.0</td>\n",
       "      <td>1525618.0</td>\n",
       "      <td>5115423.0</td>\n",
       "      <td>209.129083</td>\n",
       "      <td>262.772478</td>\n",
       "      <td>201.912591</td>\n",
       "      <td>269.197451</td>\n",
       "      <td>234.719834</td>\n",
       "    </tr>\n",
       "    <tr>\n",
       "      <th>214</th>\n",
       "      <td>1996_COLORADO</td>\n",
       "      <td>COLORADO</td>\n",
       "      <td>1996</td>\n",
       "      <td>655679.0</td>\n",
       "      <td>3891203.0</td>\n",
       "      <td>194998.0</td>\n",
       "      <td>1664676.0</td>\n",
       "      <td>2031529.0</td>\n",
       "      <td>4075165.0</td>\n",
       "      <td>2052264.0</td>\n",
       "      <td>...</td>\n",
       "      <td>52269.0</td>\n",
       "      <td>37179.0</td>\n",
       "      <td>423510.0</td>\n",
       "      <td>185700.0</td>\n",
       "      <td>621730.0</td>\n",
       "      <td>225.805858</td>\n",
       "      <td>275.608214</td>\n",
       "      <td>221.653243</td>\n",
       "      <td>268.168154</td>\n",
       "      <td>247.750273</td>\n",
       "    </tr>\n",
       "  </tbody>\n",
       "</table>\n",
       "<p>5 rows × 26 columns</p>\n",
       "</div>"
      ],
      "text/plain": [
       "         PRIMARY_KEY       STATE  YEAR     ENROLL  TOTAL_REVENUE  \\\n",
       "209     1996_ALABAMA     ALABAMA  1996   735912.0      3365113.0   \n",
       "211     1996_ARIZONA     ARIZONA  1996   764681.0      4143304.0   \n",
       "212    1996_ARKANSAS    ARKANSAS  1996   452907.0      2183384.0   \n",
       "213  1996_CALIFORNIA  CALIFORNIA  1996  5460484.0     31282981.0   \n",
       "214    1996_COLORADO    COLORADO  1996   655679.0      3891203.0   \n",
       "\n",
       "     FEDERAL_REVENUE  STATE_REVENUE  LOCAL_REVENUE  TOTAL_EXPENDITURE  \\\n",
       "209         334858.0      2138717.0       891538.0          3572283.0   \n",
       "211         378917.0      1798363.0      1966024.0          4391555.0   \n",
       "212         192152.0      1296247.0       694985.0          2297381.0   \n",
       "213        2603882.0     17061474.0     11617625.0         31561692.0   \n",
       "214         194998.0      1664676.0      2031529.0          4075165.0   \n",
       "\n",
       "     INSTRUCTION_EXPENDITURE  ...  GRADES_8_G  GRADES_12_G  GRADES_1_8_G  \\\n",
       "209                1987018.0  ...     58305.0      42510.0      469370.0   \n",
       "211                1860007.0  ...     60514.0      42041.0      511925.0   \n",
       "212                1264275.0  ...     37064.0      27613.0      283883.0   \n",
       "213               16880730.0  ...    406456.0     298669.0     3516572.0   \n",
       "214                2052264.0  ...     52269.0      37179.0      423510.0   \n",
       "\n",
       "     GRADES_9_12_G  GRADES_ALL_G  AVG_MATH_4_SCORE  AVG_MATH_8_SCORE  \\\n",
       "209       207980.0      686983.0        211.646974        256.594863   \n",
       "211       210289.0      726709.0        217.575940        267.874834   \n",
       "212       131997.0      417860.0        215.846436        261.652745   \n",
       "213      1525618.0     5115423.0        209.129083        262.772478   \n",
       "214       185700.0      621730.0        225.805858        275.608214   \n",
       "\n",
       "     AVG_READING_4_SCORE  AVG_READING_8_SCORE  total_score  \n",
       "209           210.920767           260.276441   235.106342  \n",
       "211           206.529788           263.283638   238.321404  \n",
       "212           208.837716           271.834590   240.773675  \n",
       "213           201.912591           269.197451   234.719834  \n",
       "214           221.653243           268.168154   247.750273  \n",
       "\n",
       "[5 rows x 26 columns]"
      ]
     },
     "execution_count": 26,
     "metadata": {},
     "output_type": "execute_result"
    }
   ],
   "source": [
    "education['total_score'] = ((education['GRADES_4_G'] * ((education['AVG_MATH_4_SCORE'] + education['AVG_READING_4_SCORE'])*0.5)) + (education['GRADES_8_G'] * ((education['AVG_MATH_8_SCORE'] + education['AVG_READING_8_SCORE'])*0.5))) / (education['GRADES_4_G'] + education['GRADES_8_G'])\n",
    "\n",
    "education.head()"
   ]
  },
  {
   "cell_type": "markdown",
   "metadata": {},
   "source": [
    "### 2. What are the correlations between this newly created score variable and the expenditure types? Which 1 of the expenditure types is more correlated than the others?"
   ]
  },
  {
   "cell_type": "code",
   "execution_count": 30,
   "metadata": {},
   "outputs": [
    {
     "data": {
      "text/html": [
       "<div>\n",
       "<style scoped>\n",
       "    .dataframe tbody tr th:only-of-type {\n",
       "        vertical-align: middle;\n",
       "    }\n",
       "\n",
       "    .dataframe tbody tr th {\n",
       "        vertical-align: top;\n",
       "    }\n",
       "\n",
       "    .dataframe thead th {\n",
       "        text-align: right;\n",
       "    }\n",
       "</style>\n",
       "<table border=\"1\" class=\"dataframe\">\n",
       "  <thead>\n",
       "    <tr style=\"text-align: right;\">\n",
       "      <th></th>\n",
       "      <th>total_score</th>\n",
       "      <th>TOTAL_EXPENDITURE</th>\n",
       "      <th>INSTRUCTION_EXPENDITURE</th>\n",
       "      <th>SUPPORT_SERVICES_EXPENDITURE</th>\n",
       "      <th>OTHER_EXPENDITURE</th>\n",
       "      <th>CAPITAL_OUTLAY_EXPENDITURE</th>\n",
       "    </tr>\n",
       "  </thead>\n",
       "  <tbody>\n",
       "    <tr>\n",
       "      <th>total_score</th>\n",
       "      <td>1.000000</td>\n",
       "      <td>0.074155</td>\n",
       "      <td>0.087386</td>\n",
       "      <td>0.079002</td>\n",
       "      <td>0.010959</td>\n",
       "      <td>-0.005389</td>\n",
       "    </tr>\n",
       "    <tr>\n",
       "      <th>TOTAL_EXPENDITURE</th>\n",
       "      <td>0.074155</td>\n",
       "      <td>1.000000</td>\n",
       "      <td>0.990255</td>\n",
       "      <td>0.992988</td>\n",
       "      <td>0.943702</td>\n",
       "      <td>0.925784</td>\n",
       "    </tr>\n",
       "    <tr>\n",
       "      <th>INSTRUCTION_EXPENDITURE</th>\n",
       "      <td>0.087386</td>\n",
       "      <td>0.990255</td>\n",
       "      <td>1.000000</td>\n",
       "      <td>0.974399</td>\n",
       "      <td>0.902173</td>\n",
       "      <td>0.884798</td>\n",
       "    </tr>\n",
       "    <tr>\n",
       "      <th>SUPPORT_SERVICES_EXPENDITURE</th>\n",
       "      <td>0.079002</td>\n",
       "      <td>0.992988</td>\n",
       "      <td>0.974399</td>\n",
       "      <td>1.000000</td>\n",
       "      <td>0.952282</td>\n",
       "      <td>0.911245</td>\n",
       "    </tr>\n",
       "    <tr>\n",
       "      <th>OTHER_EXPENDITURE</th>\n",
       "      <td>0.010959</td>\n",
       "      <td>0.943702</td>\n",
       "      <td>0.902173</td>\n",
       "      <td>0.952282</td>\n",
       "      <td>1.000000</td>\n",
       "      <td>0.918188</td>\n",
       "    </tr>\n",
       "    <tr>\n",
       "      <th>CAPITAL_OUTLAY_EXPENDITURE</th>\n",
       "      <td>-0.005389</td>\n",
       "      <td>0.925784</td>\n",
       "      <td>0.884798</td>\n",
       "      <td>0.911245</td>\n",
       "      <td>0.918188</td>\n",
       "      <td>1.000000</td>\n",
       "    </tr>\n",
       "  </tbody>\n",
       "</table>\n",
       "</div>"
      ],
      "text/plain": [
       "                              total_score  TOTAL_EXPENDITURE  \\\n",
       "total_score                      1.000000           0.074155   \n",
       "TOTAL_EXPENDITURE                0.074155           1.000000   \n",
       "INSTRUCTION_EXPENDITURE          0.087386           0.990255   \n",
       "SUPPORT_SERVICES_EXPENDITURE     0.079002           0.992988   \n",
       "OTHER_EXPENDITURE                0.010959           0.943702   \n",
       "CAPITAL_OUTLAY_EXPENDITURE      -0.005389           0.925784   \n",
       "\n",
       "                              INSTRUCTION_EXPENDITURE  \\\n",
       "total_score                                  0.087386   \n",
       "TOTAL_EXPENDITURE                            0.990255   \n",
       "INSTRUCTION_EXPENDITURE                      1.000000   \n",
       "SUPPORT_SERVICES_EXPENDITURE                 0.974399   \n",
       "OTHER_EXPENDITURE                            0.902173   \n",
       "CAPITAL_OUTLAY_EXPENDITURE                   0.884798   \n",
       "\n",
       "                              SUPPORT_SERVICES_EXPENDITURE  OTHER_EXPENDITURE  \\\n",
       "total_score                                       0.079002           0.010959   \n",
       "TOTAL_EXPENDITURE                                 0.992988           0.943702   \n",
       "INSTRUCTION_EXPENDITURE                           0.974399           0.902173   \n",
       "SUPPORT_SERVICES_EXPENDITURE                      1.000000           0.952282   \n",
       "OTHER_EXPENDITURE                                 0.952282           1.000000   \n",
       "CAPITAL_OUTLAY_EXPENDITURE                        0.911245           0.918188   \n",
       "\n",
       "                              CAPITAL_OUTLAY_EXPENDITURE  \n",
       "total_score                                    -0.005389  \n",
       "TOTAL_EXPENDITURE                               0.925784  \n",
       "INSTRUCTION_EXPENDITURE                         0.884798  \n",
       "SUPPORT_SERVICES_EXPENDITURE                    0.911245  \n",
       "OTHER_EXPENDITURE                               0.918188  \n",
       "CAPITAL_OUTLAY_EXPENDITURE                      1.000000  "
      ]
     },
     "execution_count": 30,
     "metadata": {},
     "output_type": "execute_result"
    }
   ],
   "source": [
    "education[[\"total_score\", \"TOTAL_EXPENDITURE\", \"INSTRUCTION_EXPENDITURE\", \"SUPPORT_SERVICES_EXPENDITURE\", \"OTHER_EXPENDITURE\", \"CAPITAL_OUTLAY_EXPENDITURE\"]].corr()"
   ]
  },
  {
   "cell_type": "markdown",
   "metadata": {},
   "source": [
    "Instruction expenditure is the most correlated to the total score variable, but it is a weak correlation at only 0.0874. "
   ]
  },
  {
   "cell_type": "markdown",
   "metadata": {},
   "source": [
    "### 3. Now, apply PCA to the 4 expenditure types. How much of the total variance is explained by the 1st component? "
   ]
  },
  {
   "cell_type": "code",
   "execution_count": 29,
   "metadata": {},
   "outputs": [
    {
     "name": "stdout",
     "output_type": "stream",
     "text": [
      "The percentage of total variance in the dataset explained by the top component from Sklearn PCA.\n",
      " [0.9430175]\n"
     ]
    }
   ],
   "source": [
    "from sklearn.decomposition import PCA\n",
    "from sklearn.preprocessing import StandardScaler\n",
    "\n",
    "X = education[[\"INSTRUCTION_EXPENDITURE\", \"SUPPORT_SERVICES_EXPENDITURE\", \"OTHER_EXPENDITURE\", \"CAPITAL_OUTLAY_EXPENDITURE\"]]\n",
    "\n",
    "X = StandardScaler().fit_transform(X)\n",
    "\n",
    "sklearn_pca = PCA(n_components=1)\n",
    "education[\"PCA_1\"] = sklearn_pca.fit_transform(X)\n",
    "\n",
    "print(\n",
    "    'The percentage of total variance in the dataset explained by the top component from Sklearn PCA.\\n',\n",
    "    sklearn_pca.explained_variance_ratio_\n",
    ")"
   ]
  },
  {
   "cell_type": "markdown",
   "metadata": {},
   "source": [
    "The first component explains more than 94 percent of the total variance. "
   ]
  },
  {
   "cell_type": "markdown",
   "metadata": {},
   "source": [
    "### 4. What is the correlation between the overall score variable and the 1st principal component?"
   ]
  },
  {
   "cell_type": "code",
   "execution_count": 31,
   "metadata": {},
   "outputs": [
    {
     "data": {
      "text/html": [
       "<div>\n",
       "<style scoped>\n",
       "    .dataframe tbody tr th:only-of-type {\n",
       "        vertical-align: middle;\n",
       "    }\n",
       "\n",
       "    .dataframe tbody tr th {\n",
       "        vertical-align: top;\n",
       "    }\n",
       "\n",
       "    .dataframe thead th {\n",
       "        text-align: right;\n",
       "    }\n",
       "</style>\n",
       "<table border=\"1\" class=\"dataframe\">\n",
       "  <thead>\n",
       "    <tr style=\"text-align: right;\">\n",
       "      <th></th>\n",
       "      <th>PCA_1</th>\n",
       "      <th>total_score</th>\n",
       "    </tr>\n",
       "  </thead>\n",
       "  <tbody>\n",
       "    <tr>\n",
       "      <th>PCA_1</th>\n",
       "      <td>1.000000</td>\n",
       "      <td>0.044596</td>\n",
       "    </tr>\n",
       "    <tr>\n",
       "      <th>total_score</th>\n",
       "      <td>0.044596</td>\n",
       "      <td>1.000000</td>\n",
       "    </tr>\n",
       "  </tbody>\n",
       "</table>\n",
       "</div>"
      ],
      "text/plain": [
       "                PCA_1  total_score\n",
       "PCA_1        1.000000     0.044596\n",
       "total_score  0.044596     1.000000"
      ]
     },
     "execution_count": 31,
     "metadata": {},
     "output_type": "execute_result"
    }
   ],
   "source": [
    "education[[\"PCA_1\", \"total_score\"]].corr()"
   ]
  },
  {
   "cell_type": "markdown",
   "metadata": {},
   "source": [
    "The correlation between first principle component and total score variable is 0.0446, which is less than three of the expenditure variables. "
   ]
  },
  {
   "cell_type": "markdown",
   "metadata": {},
   "source": [
    "### 5. If you were to choose the best variables for your model, would you prefer using the 1st principal component instead of the expenditure variables? Why?"
   ]
  },
  {
   "cell_type": "markdown",
   "metadata": {},
   "source": [
    "   If I were to choose variables for a model I would choose the expenditure variables, however I don't think either would be a wise choice. There are three expenditure variables that are more highly correlated with the total score than the PCA variable is (but they are all very close to 0) which is why I would make this choice. PCA works best for normally distributed data, and we see below from the histogram that the expenditure features are not normally distributed. If we took care of this, perhaps PCA would be the better choice. Additionally, as mentioned above the correlation between the 1st principal component and total score variable is close to 0, meaning there is little shared information. On the other hand, since the expenditure variables are all highly correlated with each other this can cause unstable solutions in a model using the these variables."
   ]
  },
  {
   "cell_type": "code",
   "execution_count": 35,
   "metadata": {},
   "outputs": [
    {
     "data": {
      "text/plain": [
       "Text(0.5, 1.0, 'Total Expenditure')"
      ]
     },
     "execution_count": 35,
     "metadata": {},
     "output_type": "execute_result"
    },
    {
     "data": {
      "image/png": "[encoded data removed]",
      "text/plain": [
       "<Figure size 432x288 with 1 Axes>"
      ]
     },
     "metadata": {
      "needs_background": "light"
     },
     "output_type": "display_data"
    }
   ],
   "source": [
    "plt.hist(education['TOTAL_EXPENDITURE'])\n",
    "plt.title(\"Total Expenditure\")"
   ]
  }
 ],
 "metadata": {
  "kernelspec": {
   "display_name": "Python 3",
   "language": "python",
   "name": "python3"
  },
  "language_info": {
   "codemirror_mode": {
    "name": "ipython",
    "version": 3
   },
   "file_extension": ".py",
   "mimetype": "text/x-python",
   "name": "python",
   "nbconvert_exporter": "python",
   "pygments_lexer": "ipython3",
   "version": "3.7.3"
  }
 },
 "nbformat": 4,
 "nbformat_minor": 2
}
