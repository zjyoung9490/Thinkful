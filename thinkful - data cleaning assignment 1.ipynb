{
 "cells": [
  {
   "cell_type": "markdown",
   "metadata": {},
   "source": [
    "### 1. Consider the advantages and disadvantages of treating the Rank variable as categorical. Discuss your arguments with your mentor."
   ]
  },
  {
   "cell_type": "markdown",
   "metadata": {},
   "source": [
    "Treating the rank variable as categorical makes sense because there is not an unlimited number of values it could take and it gives us no information on the difference between variables. The advantages of treating rank as a categorical variable is that it is an effective way to be able to display the order of the data. However, if we just look at the order, we may overlook the differences between the variables and miss key insights on variation and outliers.  "
   ]
  },
  {
   "cell_type": "markdown",
   "metadata": {},
   "source": [
    "### 2. What are the types of the following variables?"
   ]
  },
  {
   "cell_type": "markdown",
   "metadata": {},
   "source": [
    "Age - Continuous, ratio (could also treat as categorical, ordinal)\n",
    "\n",
    "Salary - Continuous, ratio\n",
    "\n",
    "Revenue - Continuous, ratio\n",
    "\n",
    "Customer type - Categorical, nominal\n",
    "\n",
    "Stock price - Continuous, ratio"
   ]
  },
  {
   "cell_type": "code",
   "execution_count": null,
   "metadata": {},
   "outputs": [],
   "source": []
  }
 ],
 "metadata": {
  "kernelspec": {
   "display_name": "Python 3",
   "language": "python",
   "name": "python3"
  },
  "language_info": {
   "codemirror_mode": {
    "name": "ipython",
    "version": 3
   },
   "file_extension": ".py",
   "mimetype": "text/x-python",
   "name": "python",
   "nbconvert_exporter": "python",
   "pygments_lexer": "ipython3",
   "version": "3.7.3"
  }
 },
 "nbformat": 4,
 "nbformat_minor": 2
}
