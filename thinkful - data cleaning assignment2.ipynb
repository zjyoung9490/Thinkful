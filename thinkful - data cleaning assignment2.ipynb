{
 "cells": [
  {
   "cell_type": "code",
   "execution_count": 1,
   "metadata": {},
   "outputs": [],
   "source": [
    "import numpy as np\n",
    "import pandas as pd\n",
    "from sqlalchemy import create_engine\n",
    "import warnings\n",
    "\n",
    "warnings.filterwarnings('ignore')"
   ]
  },
  {
   "cell_type": "code",
   "execution_count": 2,
   "metadata": {},
   "outputs": [],
   "source": [
    "postgres_user = 'dsbc_student'\n",
    "postgres_pw = '7*.8G9QH21'\n",
    "postgres_host = '142.93.121.174'\n",
    "postgres_port = '5432'\n",
    "postgres_db = 'useducation'\n",
    "\n",
    "engine = create_engine('postgresql://{}:{}@{}:{}/{}'.format(\n",
    "    postgres_user, postgres_pw, postgres_host, postgres_port, postgres_db))\n",
    "\n",
    "education = pd.read_sql_query('select * from useducation',con=engine)\n",
    "\n",
    "engine.dispose()"
   ]
  },
  {
   "cell_type": "markdown",
   "metadata": {},
   "source": [
    "### 1. Determine all the variable types and find the fraction of the missing values for each variable."
   ]
  },
  {
   "cell_type": "code",
   "execution_count": 3,
   "metadata": {},
   "outputs": [
    {
     "name": "stdout",
     "output_type": "stream",
     "text": [
      "<class 'pandas.core.frame.DataFrame'>\n",
      "RangeIndex: 1492 entries, 0 to 1491\n",
      "Data columns (total 25 columns):\n",
      "PRIMARY_KEY                     1492 non-null object\n",
      "STATE                           1492 non-null object\n",
      "YEAR                            1492 non-null int64\n",
      "ENROLL                          1229 non-null float64\n",
      "TOTAL_REVENUE                   1280 non-null float64\n",
      "FEDERAL_REVENUE                 1280 non-null float64\n",
      "STATE_REVENUE                   1280 non-null float64\n",
      "LOCAL_REVENUE                   1280 non-null float64\n",
      "TOTAL_EXPENDITURE               1280 non-null float64\n",
      "INSTRUCTION_EXPENDITURE         1280 non-null float64\n",
      "SUPPORT_SERVICES_EXPENDITURE    1280 non-null float64\n",
      "OTHER_EXPENDITURE               1229 non-null float64\n",
      "CAPITAL_OUTLAY_EXPENDITURE      1280 non-null float64\n",
      "GRADES_PK_G                     1319 non-null float64\n",
      "GRADES_KG_G                     1360 non-null float64\n",
      "GRADES_4_G                      1361 non-null float64\n",
      "GRADES_8_G                      1361 non-null float64\n",
      "GRADES_12_G                     1361 non-null float64\n",
      "GRADES_1_8_G                    1361 non-null float64\n",
      "GRADES_9_12_G                   1361 non-null float64\n",
      "GRADES_ALL_G                    1319 non-null float64\n",
      "AVG_MATH_4_SCORE                536 non-null float64\n",
      "AVG_MATH_8_SCORE                532 non-null float64\n",
      "AVG_READING_4_SCORE             533 non-null float64\n",
      "AVG_READING_8_SCORE             498 non-null float64\n",
      "dtypes: float64(22), int64(1), object(2)\n",
      "memory usage: 291.5+ KB\n"
     ]
    }
   ],
   "source": [
    "# Variable types of education data frame\n",
    "education.info()"
   ]
  },
  {
   "cell_type": "code",
   "execution_count": 4,
   "metadata": {},
   "outputs": [
    {
     "data": {
      "text/plain": [
       "PRIMARY_KEY                      0.000000\n",
       "STATE                            0.000000\n",
       "YEAR                             0.000000\n",
       "ENROLL                          17.627346\n",
       "TOTAL_REVENUE                   14.209115\n",
       "FEDERAL_REVENUE                 14.209115\n",
       "STATE_REVENUE                   14.209115\n",
       "LOCAL_REVENUE                   14.209115\n",
       "TOTAL_EXPENDITURE               14.209115\n",
       "INSTRUCTION_EXPENDITURE         14.209115\n",
       "SUPPORT_SERVICES_EXPENDITURE    14.209115\n",
       "OTHER_EXPENDITURE               17.627346\n",
       "CAPITAL_OUTLAY_EXPENDITURE      14.209115\n",
       "GRADES_PK_G                     11.595174\n",
       "GRADES_KG_G                      8.847185\n",
       "GRADES_4_G                       8.780161\n",
       "GRADES_8_G                       8.780161\n",
       "GRADES_12_G                      8.780161\n",
       "GRADES_1_8_G                     8.780161\n",
       "GRADES_9_12_G                    8.780161\n",
       "GRADES_ALL_G                    11.595174\n",
       "AVG_MATH_4_SCORE                64.075067\n",
       "AVG_MATH_8_SCORE                64.343164\n",
       "AVG_READING_4_SCORE             64.276139\n",
       "AVG_READING_8_SCORE             66.621984\n",
       "dtype: float64"
      ]
     },
     "execution_count": 4,
     "metadata": {},
     "output_type": "execute_result"
    }
   ],
   "source": [
    "# Fraction of missing values for each variable in data frame\n",
    "education.isnull().sum()*100/education.isnull().count()"
   ]
  },
  {
   "cell_type": "markdown",
   "metadata": {},
   "source": [
    "### 2. Notice that the data has a time dimension (year). For this assignment, forget about time and treat all the observations as if they're from the same year. Choose a strategy to deal with the missing values for each variables. For which variables would filling in the missing values with some value make sense? For which might tossing out the records entirely make sense?"
   ]
  },
  {
   "cell_type": "markdown",
   "metadata": {},
   "source": [
    "For the enrollment and financials variables I think it makes sense to replace with averages. However, I don't think we can do anything with the academic achievements variables. "
   ]
  },
  {
   "cell_type": "code",
   "execution_count": 5,
   "metadata": {},
   "outputs": [],
   "source": [
    "col_list = [\"ENROLL\", \"TOTAL_REVENUE\", \"FEDERAL_REVENUE\", \n",
    "             \"STATE_REVENUE\", \"LOCAL_REVENUE\", \"TOTAL_EXPENDITURE\", \n",
    "             \"INSTRUCTION_EXPENDITURE\", \"SUPPORT_SERVICES_EXPENDITURE\",\n",
    "             \"OTHER_EXPENDITURE\", \"CAPITAL_OUTLAY_EXPENDITURE\", \"GRADES_PK_G\", \n",
    "             \"GRADES_KG_G\", \"GRADES_4_G\", \"GRADES_8_G\", \"GRADES_12_G\", \"GRADES_1_8_G\", \n",
    "             \"GRADES_9_12_G\", \"GRADES_ALL_G\"]"
   ]
  },
  {
   "cell_type": "code",
   "execution_count": 6,
   "metadata": {},
   "outputs": [
    {
     "name": "stdout",
     "output_type": "stream",
     "text": [
      "PRIMARY_KEY                      0.000000\n",
      "STATE                            0.000000\n",
      "YEAR                             0.000000\n",
      "ENROLL                           0.000000\n",
      "TOTAL_REVENUE                    0.000000\n",
      "FEDERAL_REVENUE                  0.000000\n",
      "STATE_REVENUE                    0.000000\n",
      "LOCAL_REVENUE                    0.000000\n",
      "TOTAL_EXPENDITURE                0.000000\n",
      "INSTRUCTION_EXPENDITURE          0.000000\n",
      "SUPPORT_SERVICES_EXPENDITURE     0.000000\n",
      "OTHER_EXPENDITURE                0.000000\n",
      "CAPITAL_OUTLAY_EXPENDITURE       0.000000\n",
      "GRADES_PK_G                      0.000000\n",
      "GRADES_KG_G                      0.000000\n",
      "GRADES_4_G                       0.000000\n",
      "GRADES_8_G                       0.000000\n",
      "GRADES_12_G                      0.000000\n",
      "GRADES_1_8_G                     0.000000\n",
      "GRADES_9_12_G                    0.000000\n",
      "GRADES_ALL_G                     0.000000\n",
      "AVG_MATH_4_SCORE                64.075067\n",
      "AVG_MATH_8_SCORE                64.343164\n",
      "AVG_READING_4_SCORE             64.276139\n",
      "AVG_READING_8_SCORE             66.621984\n",
      "dtype: float64\n"
     ]
    }
   ],
   "source": [
    "# If we ignore the time element we can fill in missing values using an average value for each respective state\n",
    "\n",
    "education2 = education.copy()   \n",
    "\n",
    "# sample solution\n",
    "for col in col_list:\n",
    "    education2.loc[:, col] = education2.loc[:, col].fillna(education2.loc[:, col].mean())\n",
    "        \n",
    "print((education2.isnull().sum()/education2.isnull().count())*100)"
   ]
  },
  {
   "cell_type": "code",
   "execution_count": 7,
   "metadata": {},
   "outputs": [
    {
     "name": "stdout",
     "output_type": "stream",
     "text": [
      "PRIMARY_KEY                      0.000000\n",
      "STATE                            0.000000\n",
      "YEAR                             0.000000\n",
      "ENROLL                          10.790885\n",
      "TOTAL_REVENUE                   10.790885\n",
      "FEDERAL_REVENUE                 10.790885\n",
      "STATE_REVENUE                   10.790885\n",
      "LOCAL_REVENUE                   10.790885\n",
      "TOTAL_EXPENDITURE               10.790885\n",
      "INSTRUCTION_EXPENDITURE         10.790885\n",
      "SUPPORT_SERVICES_EXPENDITURE    10.790885\n",
      "OTHER_EXPENDITURE               10.790885\n",
      "CAPITAL_OUTLAY_EXPENDITURE      10.790885\n",
      "GRADES_PK_G                      2.747989\n",
      "GRADES_KG_G                      0.268097\n",
      "GRADES_4_G                       0.268097\n",
      "GRADES_8_G                       0.268097\n",
      "GRADES_12_G                      0.268097\n",
      "GRADES_1_8_G                     0.268097\n",
      "GRADES_9_12_G                    0.268097\n",
      "GRADES_ALL_G                     2.747989\n",
      "AVG_MATH_4_SCORE                64.075067\n",
      "AVG_MATH_8_SCORE                64.343164\n",
      "AVG_READING_4_SCORE             64.276139\n",
      "AVG_READING_8_SCORE             66.621984\n",
      "dtype: float64\n"
     ]
    }
   ],
   "source": [
    "#my version - would do same for question 3\n",
    "education2b = education.copy()\n",
    "\n",
    "for col in col_list:\n",
    "    education2b.loc[:, col] = education2b.groupby('STATE').transform(lambda x: x.fillna(x.mean()))\n",
    "    \n",
    "print((education2b.isnull().sum()/education2b.isnull().count())*100)"
   ]
  },
  {
   "cell_type": "markdown",
   "metadata": {},
   "source": [
    "### 3. Now, take into account the time factor. Replicate your second answer but this time fill in the missing values by using a statistic that is calculated within the year of the observation. For example, if you want to fill a missing value for a variable with the mean of that variable, calculate the mean by using only the observations for that specific year."
   ]
  },
  {
   "cell_type": "code",
   "execution_count": 8,
   "metadata": {},
   "outputs": [
    {
     "name": "stdout",
     "output_type": "stream",
     "text": [
      "PRIMARY_KEY                      0.000000\n",
      "STATE                            0.000000\n",
      "YEAR                             0.000000\n",
      "ENROLL                           7.171582\n",
      "TOTAL_REVENUE                    3.418231\n",
      "FEDERAL_REVENUE                  3.418231\n",
      "STATE_REVENUE                    3.418231\n",
      "LOCAL_REVENUE                    3.418231\n",
      "TOTAL_EXPENDITURE                3.418231\n",
      "INSTRUCTION_EXPENDITURE          3.418231\n",
      "SUPPORT_SERVICES_EXPENDITURE     3.418231\n",
      "OTHER_EXPENDITURE                7.171582\n",
      "CAPITAL_OUTLAY_EXPENDITURE       3.418231\n",
      "GRADES_PK_G                      6.836461\n",
      "GRADES_KG_G                      6.836461\n",
      "GRADES_4_G                       6.836461\n",
      "GRADES_8_G                       6.836461\n",
      "GRADES_12_G                      6.836461\n",
      "GRADES_1_8_G                     6.836461\n",
      "GRADES_9_12_G                    6.836461\n",
      "GRADES_ALL_G                     6.836461\n",
      "AVG_MATH_4_SCORE                64.075067\n",
      "AVG_MATH_8_SCORE                64.343164\n",
      "AVG_READING_4_SCORE             64.276139\n",
      "AVG_READING_8_SCORE             66.621984\n",
      "dtype: float64\n"
     ]
    }
   ],
   "source": [
    "education3 = education.copy()\n",
    "\n",
    "years = education3[\"YEAR\"].unique()\n",
    "\n",
    "for col in col_list:\n",
    "    for year in years:\n",
    "        education3.loc[education3[\"YEAR\"] == year, col] = education3.loc[education3[\"YEAR\"] == year, col].fillna(\n",
    "            education3[education3[\"YEAR\"] == year][col].mean())\n",
    "        \n",
    "print((education3.isnull().sum()/education3.isnull().count())*100)"
   ]
  },
  {
   "cell_type": "markdown",
   "metadata": {},
   "source": [
    "### 4. This time, fill in the missing values using interpolation (extrapolation)."
   ]
  },
  {
   "cell_type": "code",
   "execution_count": 9,
   "metadata": {},
   "outputs": [
    {
     "name": "stdout",
     "output_type": "stream",
     "text": [
      "PRIMARY_KEY                      0.000000\n",
      "STATE                            0.000000\n",
      "YEAR                             0.000000\n",
      "ENROLL                           0.000000\n",
      "TOTAL_REVENUE                    0.000000\n",
      "FEDERAL_REVENUE                  0.000000\n",
      "STATE_REVENUE                    0.000000\n",
      "LOCAL_REVENUE                    0.000000\n",
      "TOTAL_EXPENDITURE                0.000000\n",
      "INSTRUCTION_EXPENDITURE          0.000000\n",
      "SUPPORT_SERVICES_EXPENDITURE     0.000000\n",
      "OTHER_EXPENDITURE                0.000000\n",
      "CAPITAL_OUTLAY_EXPENDITURE       0.000000\n",
      "GRADES_PK_G                      0.000000\n",
      "GRADES_KG_G                      0.000000\n",
      "GRADES_4_G                       0.000000\n",
      "GRADES_8_G                       0.000000\n",
      "GRADES_12_G                      0.000000\n",
      "GRADES_1_8_G                     0.000000\n",
      "GRADES_9_12_G                    0.000000\n",
      "GRADES_ALL_G                     0.000000\n",
      "AVG_MATH_4_SCORE                64.075067\n",
      "AVG_MATH_8_SCORE                64.343164\n",
      "AVG_READING_4_SCORE             64.276139\n",
      "AVG_READING_8_SCORE             66.621984\n",
      "dtype: float64\n"
     ]
    }
   ],
   "source": [
    "education4 = education.copy()\n",
    "\n",
    "for col in col_list:\n",
    "    education4.loc[:, col] = education4.loc[:, col].interpolate(limit_direction = 'both')\n",
    "    \n",
    "print((education4.isnull().sum()/education4.isnull().count())*100)"
   ]
  },
  {
   "cell_type": "markdown",
   "metadata": {},
   "source": [
    "### 5. Compare your results for the 2nd, 3rd, and 4th questions. Do you find any meaningful differences?"
   ]
  },
  {
   "cell_type": "code",
   "execution_count": 11,
   "metadata": {},
   "outputs": [
    {
     "name": "stdout",
     "output_type": "stream",
     "text": [
      "915930.820992677\n",
      "915930.8209926813\n",
      "916165.4318368364\n",
      "983875.9004691689\n"
     ]
    }
   ],
   "source": [
    "print(education[\"ENROLL\"].mean())\n",
    "print(education2[\"ENROLL\"].mean())\n",
    "print(education3[\"ENROLL\"].mean())\n",
    "print(education4[\"ENROLL\"].mean())\n",
    "\n",
    "# If we just look at the mean for our enroll values the first two are the same as we would expect. \n",
    "# The mean in the third question is slightly higher than the first two, however our interpolation mean appears significantly\n",
    "# higher than the other three. My guess is that we would find similar results when we go through the other variables.\n",
    "# Because the data set is ordered by state and then year, the interpolation is probably less accurate than the other methods"
   ]
  }
 ],
 "metadata": {
  "kernelspec": {
   "display_name": "Python 3",
   "language": "python",
   "name": "python3"
  },
  "language_info": {
   "codemirror_mode": {
    "name": "ipython",
    "version": 3
   },
   "file_extension": ".py",
   "mimetype": "text/x-python",
   "name": "python",
   "nbconvert_exporter": "python",
   "pygments_lexer": "ipython3",
   "version": "3.7.3"
  }
 },
 "nbformat": 4,
 "nbformat_minor": 2
}
