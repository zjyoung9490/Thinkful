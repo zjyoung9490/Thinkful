{
 "cells": [
  {
   "cell_type": "markdown",
   "metadata": {},
   "source": [
    "### Let's assume that you have World Bank data on financial, economic and social indicators for several countries. You want to measure the factors that affect the level of development in these countries. To this end, you decide to use per capita income as a proxy for the development level, which is defined as the national income divided by the population. You want to use some features in your dataset to predict per capita income. Is this task a classification or a regression task? Why?"
   ]
  },
  {
   "cell_type": "markdown",
   "metadata": {},
   "source": [
    "Since per capita income is a continuous variable and can take a seemingly infinite number of values, this would be a regression task. If there were a discrete number of outcomes it would be a classification problem."
   ]
  },
  {
   "cell_type": "markdown",
   "metadata": {},
   "source": [
    "### Which of the following arguments are false and why?\n",
    "#### OLS is a special type of linear regression models\n",
    "This is false. OLS is an algorithm, not a model, that tries to minimize the sum of the residuals. \n",
    "\n",
    "#### Regression models become useless if they don’t meet the assumptions of linear regression.\n",
    "This is true, however there are methods we can try to use to fix any problems that arise so that they do meet the assumptions. \n",
    "\n",
    "#### Estimation and prediction are the same thing in the context of linear regression models.\n",
    "False. Estimation involves plotting the line of best fit, given the existing data. Prediction on the otherhand is using that line to come up with outcomes for observations we haven't seen before. \n",
    "\n",
    "#### Linear regression is only one kind of regression model. Regression problems can also be solved with other kind of models like Support Vector Machines or Random Forests.\n",
    "This is false. Support Vector Machines and Random Forests are classification models. "
   ]
  },
  {
   "cell_type": "markdown",
   "metadata": {},
   "source": [
    "### Assume that your project manager wants you to discover which free services your company offers make your customers buy more of your paid services. Formulate this task as a regression problem and write down the potential outcome and features that you’d like to work on."
   ]
  },
  {
   "cell_type": "markdown",
   "metadata": {},
   "source": [
    "So to form this as a regression problem, we would have our continuous outcome which is the amount paid for services. As a customer utilizes more free services, we would expect the customers to buy more paid services. Since I work in the electrical industry I'll formulate the task through that industry. Some of the free services we offer would be examining small electrical issues within a residence, for example if a breaker has been tripped or why a switch isn't working. As the number of these free services goes up for a customer, we would expect that there are more problems with that residence and as a result fixing those problems will be more costly and result in more paid services. Upon our analysis we may find that some of the free inspections actually lead to more profitable repairs and this could be beneficial for the company. "
   ]
  },
  {
   "cell_type": "code",
   "execution_count": null,
   "metadata": {},
   "outputs": [],
   "source": []
  }
 ],
 "metadata": {
  "kernelspec": {
   "display_name": "Python 3",
   "language": "python",
   "name": "python3"
  },
  "language_info": {
   "codemirror_mode": {
    "name": "ipython",
    "version": 3
   },
   "file_extension": ".py",
   "mimetype": "text/x-python",
   "name": "python",
   "nbconvert_exporter": "python",
   "pygments_lexer": "ipython3",
   "version": "3.7.3"
  }
 },
 "nbformat": 4,
 "nbformat_minor": 2
}
