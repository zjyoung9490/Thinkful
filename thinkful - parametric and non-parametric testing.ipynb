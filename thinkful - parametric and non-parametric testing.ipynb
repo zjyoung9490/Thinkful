{
 "cells": [
  {
   "cell_type": "code",
   "execution_count": 1,
   "metadata": {},
   "outputs": [],
   "source": [
    "import numpy as np\n",
    "import pandas as pd\n",
    "import matplotlib.pyplot as plt\n",
    "import seaborn as sns\n",
    "import scipy.stats as stats\n",
    "%matplotlib inline"
   ]
  },
  {
   "cell_type": "code",
   "execution_count": 2,
   "metadata": {},
   "outputs": [
    {
     "data": {
      "text/html": [
       "<div>\n",
       "<style scoped>\n",
       "    .dataframe tbody tr th:only-of-type {\n",
       "        vertical-align: middle;\n",
       "    }\n",
       "\n",
       "    .dataframe tbody tr th {\n",
       "        vertical-align: top;\n",
       "    }\n",
       "\n",
       "    .dataframe thead th {\n",
       "        text-align: right;\n",
       "    }\n",
       "</style>\n",
       "<table border=\"1\" class=\"dataframe\">\n",
       "  <thead>\n",
       "    <tr style=\"text-align: right;\">\n",
       "      <th></th>\n",
       "      <th>cntry</th>\n",
       "      <th>idno</th>\n",
       "      <th>year</th>\n",
       "      <th>tvtot</th>\n",
       "      <th>ppltrst</th>\n",
       "      <th>pplfair</th>\n",
       "      <th>pplhlp</th>\n",
       "      <th>happy</th>\n",
       "      <th>sclmeet</th>\n",
       "      <th>sclact</th>\n",
       "      <th>gndr</th>\n",
       "      <th>agea</th>\n",
       "      <th>partner</th>\n",
       "    </tr>\n",
       "  </thead>\n",
       "  <tbody>\n",
       "    <tr>\n",
       "      <th>0</th>\n",
       "      <td>CH</td>\n",
       "      <td>5.0</td>\n",
       "      <td>6</td>\n",
       "      <td>3.0</td>\n",
       "      <td>3.0</td>\n",
       "      <td>10.0</td>\n",
       "      <td>5.0</td>\n",
       "      <td>8.0</td>\n",
       "      <td>5.0</td>\n",
       "      <td>4.0</td>\n",
       "      <td>2.0</td>\n",
       "      <td>60.0</td>\n",
       "      <td>1.0</td>\n",
       "    </tr>\n",
       "    <tr>\n",
       "      <th>1</th>\n",
       "      <td>CH</td>\n",
       "      <td>25.0</td>\n",
       "      <td>6</td>\n",
       "      <td>6.0</td>\n",
       "      <td>5.0</td>\n",
       "      <td>7.0</td>\n",
       "      <td>5.0</td>\n",
       "      <td>9.0</td>\n",
       "      <td>3.0</td>\n",
       "      <td>2.0</td>\n",
       "      <td>2.0</td>\n",
       "      <td>59.0</td>\n",
       "      <td>1.0</td>\n",
       "    </tr>\n",
       "    <tr>\n",
       "      <th>2</th>\n",
       "      <td>CH</td>\n",
       "      <td>26.0</td>\n",
       "      <td>6</td>\n",
       "      <td>1.0</td>\n",
       "      <td>8.0</td>\n",
       "      <td>8.0</td>\n",
       "      <td>8.0</td>\n",
       "      <td>7.0</td>\n",
       "      <td>6.0</td>\n",
       "      <td>3.0</td>\n",
       "      <td>1.0</td>\n",
       "      <td>24.0</td>\n",
       "      <td>2.0</td>\n",
       "    </tr>\n",
       "    <tr>\n",
       "      <th>3</th>\n",
       "      <td>CH</td>\n",
       "      <td>28.0</td>\n",
       "      <td>6</td>\n",
       "      <td>4.0</td>\n",
       "      <td>6.0</td>\n",
       "      <td>6.0</td>\n",
       "      <td>7.0</td>\n",
       "      <td>10.0</td>\n",
       "      <td>6.0</td>\n",
       "      <td>2.0</td>\n",
       "      <td>2.0</td>\n",
       "      <td>64.0</td>\n",
       "      <td>1.0</td>\n",
       "    </tr>\n",
       "    <tr>\n",
       "      <th>4</th>\n",
       "      <td>CH</td>\n",
       "      <td>29.0</td>\n",
       "      <td>6</td>\n",
       "      <td>5.0</td>\n",
       "      <td>6.0</td>\n",
       "      <td>7.0</td>\n",
       "      <td>5.0</td>\n",
       "      <td>8.0</td>\n",
       "      <td>7.0</td>\n",
       "      <td>2.0</td>\n",
       "      <td>2.0</td>\n",
       "      <td>55.0</td>\n",
       "      <td>1.0</td>\n",
       "    </tr>\n",
       "  </tbody>\n",
       "</table>\n",
       "</div>"
      ],
      "text/plain": [
       "  cntry  idno  year  tvtot  ppltrst  pplfair  pplhlp  happy  sclmeet  sclact  \\\n",
       "0    CH   5.0     6    3.0      3.0     10.0     5.0    8.0      5.0     4.0   \n",
       "1    CH  25.0     6    6.0      5.0      7.0     5.0    9.0      3.0     2.0   \n",
       "2    CH  26.0     6    1.0      8.0      8.0     8.0    7.0      6.0     3.0   \n",
       "3    CH  28.0     6    4.0      6.0      6.0     7.0   10.0      6.0     2.0   \n",
       "4    CH  29.0     6    5.0      6.0      7.0     5.0    8.0      7.0     2.0   \n",
       "\n",
       "   gndr  agea  partner  \n",
       "0   2.0  60.0      1.0  \n",
       "1   2.0  59.0      1.0  \n",
       "2   1.0  24.0      2.0  \n",
       "3   2.0  64.0      1.0  \n",
       "4   2.0  55.0      1.0  "
      ]
     },
     "execution_count": 2,
     "metadata": {},
     "output_type": "execute_result"
    }
   ],
   "source": [
    "data = pd.read_csv('https://raw.githubusercontent.com/Thinkful-Ed/data-201-resources/master/ESS_practice_data/ESSdata_Thinkful.csv')\n",
    "data.head()"
   ]
  },
  {
   "cell_type": "code",
   "execution_count": 3,
   "metadata": {},
   "outputs": [
    {
     "name": "stdout",
     "output_type": "stream",
     "text": [
      "<class 'pandas.core.frame.DataFrame'>\n",
      "RangeIndex: 8594 entries, 0 to 8593\n",
      "Data columns (total 13 columns):\n",
      "cntry      8594 non-null object\n",
      "idno       8594 non-null float64\n",
      "year       8594 non-null int64\n",
      "tvtot      8594 non-null float64\n",
      "ppltrst    8594 non-null float64\n",
      "pplfair    8594 non-null float64\n",
      "pplhlp     8594 non-null float64\n",
      "happy      8594 non-null float64\n",
      "sclmeet    8594 non-null float64\n",
      "sclact     8594 non-null float64\n",
      "gndr       8594 non-null float64\n",
      "agea       8594 non-null float64\n",
      "partner    8594 non-null float64\n",
      "dtypes: float64(11), int64(1), object(1)\n",
      "memory usage: 872.9+ KB\n"
     ]
    }
   ],
   "source": [
    "data.fillna(data.mean(), inplace=True)\n",
    "data.info()"
   ]
  },
  {
   "cell_type": "code",
   "execution_count": 4,
   "metadata": {},
   "outputs": [
    {
     "data": {
      "text/plain": [
       "array(['CH', 'CZ', 'DE', 'ES', 'NO', 'SE'], dtype=object)"
      ]
     },
     "execution_count": 4,
     "metadata": {},
     "output_type": "execute_result"
    }
   ],
   "source": [
    "data['cntry'].unique()"
   ]
  },
  {
   "cell_type": "markdown",
   "metadata": {},
   "source": [
    "### 1. Did people become less trusting from 2012 to 2014? Compute results for each country in the sample."
   ]
  },
  {
   "cell_type": "code",
   "execution_count": 5,
   "metadata": {},
   "outputs": [
    {
     "data": {
      "text/plain": [
       "(array([ 271.,  170.,  440.,  715.,  767., 1711., 1098., 1639., 1299.,\n",
       "         484.]),\n",
       " array([ 0.,  1.,  2.,  3.,  4.,  5.,  6.,  7.,  8.,  9., 10.]),\n",
       " <a list of 10 Patch objects>)"
      ]
     },
     "execution_count": 5,
     "metadata": {},
     "output_type": "execute_result"
    },
    {
     "data": {
      "image/png": "[encoded data removed]",
      "text/plain": [
       "<Figure size 432x288 with 1 Axes>"
      ]
     },
     "metadata": {
      "needs_background": "light"
     },
     "output_type": "display_data"
    }
   ],
   "source": [
    "plt.hist(data['ppltrst'])"
   ]
  },
  {
   "cell_type": "code",
   "execution_count": 6,
   "metadata": {},
   "outputs": [
    {
     "data": {
      "text/plain": [
       "cntry  year\n",
       "CH     6       5.677878\n",
       "       7       5.751617\n",
       "CZ     6       4.375257\n",
       "       7       4.426383\n",
       "DE     6       5.214286\n",
       "       7       5.357143\n",
       "ES     6       5.114592\n",
       "       7       4.896224\n",
       "NO     6       6.647825\n",
       "       7       6.597209\n",
       "SE     6       6.057401\n",
       "       7       6.257709\n",
       "Name: ppltrst, dtype: float64"
      ]
     },
     "execution_count": 6,
     "metadata": {},
     "output_type": "execute_result"
    }
   ],
   "source": [
    "trust = data.groupby(['cntry', 'year'])\n",
    "trust['ppltrst'].mean()"
   ]
  },
  {
   "cell_type": "code",
   "execution_count": 7,
   "metadata": {},
   "outputs": [
    {
     "name": "stdout",
     "output_type": "stream",
     "text": [
      "Switzerland: Ttest_indResult(statistic=-0.6782716584661505, pvalue=0.49770110247151234)\n",
      "Czech Republic: Ttest_indResult(statistic=-0.39418543261711414, pvalue=0.6935081020969057)\n",
      "Germany: Ttest_indResult(statistic=-0.18084358577434545, pvalue=0.8578926631223287)\n",
      "Spain: Ttest_indResult(statistic=2.4837720623641446, pvalue=0.013067001200379165)\n",
      "Norway: Ttest_indResult(statistic=0.5436344941028719, pvalue=0.5867760147589384)\n",
      "Sweden: Ttest_indResult(statistic=-2.1029309554508333, pvalue=0.03560925311628811)\n"
     ]
    }
   ],
   "source": [
    "#Switzerland\n",
    "CH = data[data['cntry']=='CH']\n",
    "CH6 = CH[CH['year']==6]\n",
    "CH7 = CH[CH['year']==7]\n",
    "print(\"Switzerland:\", stats.ttest_ind(CH6['ppltrst'], CH7['ppltrst']))\n",
    "\n",
    "#Czech Republic\n",
    "CZ = data[data['cntry']=='CZ']\n",
    "CZ6 = CZ[CZ['year']==6]\n",
    "CZ7 = CZ[CZ['year']==7]\n",
    "print(\"Czech Republic:\", stats.ttest_ind(CZ6['ppltrst'], CZ7['ppltrst']))\n",
    "\n",
    "#Germany\n",
    "DE = data[data['cntry']=='DE']\n",
    "DE6 = DE[DE['year']==6]\n",
    "DE7 = DE[DE['year']==7]\n",
    "print(\"Germany:\", stats.ttest_ind(DE6['ppltrst'], DE7['ppltrst']))\n",
    "\n",
    "#Spain\n",
    "ES = data[data['cntry']=='ES']\n",
    "ES6 = ES[ES['year']==6]\n",
    "ES7 = ES[ES['year']==7]\n",
    "print(\"Spain:\", stats.ttest_ind(ES6['ppltrst'], ES7['ppltrst']))\n",
    "\n",
    "#Norway\n",
    "NO = data[data['cntry']=='NO']\n",
    "NO6 = NO[NO['year']==6]\n",
    "NO7 = NO[NO['year']==7]\n",
    "print(\"Norway:\", stats.ttest_ind(NO6['ppltrst'], NO7['ppltrst']))\n",
    "\n",
    "#Sweden\n",
    "SE = data[data['cntry']=='SE']\n",
    "SE6 = SE[SE['year']==6]\n",
    "SE7 = SE[SE['year']==7]\n",
    "print(\"Sweden:\", stats.ttest_ind(SE6['ppltrst'], SE7['ppltrst']))"
   ]
  },
  {
   "cell_type": "markdown",
   "metadata": {},
   "source": [
    "It appears that the change in trust only reached statistical significance in Spain and Sweden. The rest of the countries were mixed but none reached significance. "
   ]
  },
  {
   "cell_type": "markdown",
   "metadata": {},
   "source": [
    "### 2. Did people become happier from 2012 to 2014? Compute results for each country in the sample."
   ]
  },
  {
   "cell_type": "code",
   "execution_count": 8,
   "metadata": {},
   "outputs": [
    {
     "data": {
      "text/plain": [
       "(array([  29.,   22.,   57.,  125.,  174.,  607.,  612., 1555., 2543.,\n",
       "        2870.]),\n",
       " array([ 0.,  1.,  2.,  3.,  4.,  5.,  6.,  7.,  8.,  9., 10.]),\n",
       " <a list of 10 Patch objects>)"
      ]
     },
     "execution_count": 8,
     "metadata": {},
     "output_type": "execute_result"
    },
    {
     "data": {
      "image/png": "[encoded data removed]",
      "text/plain": [
       "<Figure size 432x288 with 1 Axes>"
      ]
     },
     "metadata": {
      "needs_background": "light"
     },
     "output_type": "display_data"
    }
   ],
   "source": [
    "plt.hist(data['happy'])"
   ]
  },
  {
   "cell_type": "code",
   "execution_count": 9,
   "metadata": {},
   "outputs": [
    {
     "data": {
      "text/plain": [
       "cntry  year\n",
       "CH     6       8.086784\n",
       "       7       8.116429\n",
       "CZ     6       6.787744\n",
       "       7       6.921228\n",
       "DE     6       7.428571\n",
       "       7       7.857143\n",
       "ES     6       7.548800\n",
       "       7       7.420193\n",
       "NO     6       8.248671\n",
       "       7       7.915185\n",
       "SE     6       7.907153\n",
       "       7       7.946128\n",
       "Name: happy, dtype: float64"
      ]
     },
     "execution_count": 9,
     "metadata": {},
     "output_type": "execute_result"
    }
   ],
   "source": [
    "happy = data.groupby(['cntry', 'year'])\n",
    "happy['happy'].mean()"
   ]
  },
  {
   "cell_type": "code",
   "execution_count": 10,
   "metadata": {},
   "outputs": [
    {
     "name": "stdout",
     "output_type": "stream",
     "text": [
      "Switzerland: WilcoxonResult(statistic=93199.5, pvalue=0.8908303608327776)\n",
      "Czech Republic: WilcoxonResult(statistic=79039.0, pvalue=0.2756811173565926)\n",
      "Germany: WilcoxonResult(statistic=23.5, pvalue=0.393351316918508)\n",
      "Spain: WilcoxonResult(statistic=232720.5, pvalue=0.05979608639061816)\n",
      "Norway: WilcoxonResult(statistic=68932.5, pvalue=1.3328464907648905e-05)\n",
      "Sweden: WilcoxonResult(statistic=126893.0, pvalue=0.6924584472351083)\n"
     ]
    }
   ],
   "source": [
    "#Switzerland\n",
    "print(\"Switzerland:\", stats.wilcoxon(CH6['happy'], CH7['happy']))\n",
    "\n",
    "#Czech Republic\n",
    "print(\"Czech Republic:\", stats.wilcoxon(CZ6['happy'], CZ7['happy']))\n",
    "\n",
    "#Germany\n",
    "print(\"Germany:\", stats.wilcoxon(DE6['happy'], DE7['happy']))\n",
    "\n",
    "#Spain\n",
    "print(\"Spain:\", stats.wilcoxon(ES6['happy'], ES7['happy']))\n",
    "\n",
    "#Norway\n",
    "print(\"Norway:\", stats.wilcoxon(NO6['happy'], NO7['happy']))\n",
    "\n",
    "#Sweden\n",
    "print(\"Sweden:\", stats.wilcoxon(SE6['happy'], SE7['happy']))"
   ]
  },
  {
   "cell_type": "markdown",
   "metadata": {},
   "source": [
    "It appears that only in Norway was there a significant difference in happiness from 2012 to 2014."
   ]
  },
  {
   "cell_type": "markdown",
   "metadata": {},
   "source": [
    "### 3. Who reported watching more TV in 2012, men or women?"
   ]
  },
  {
   "cell_type": "code",
   "execution_count": 11,
   "metadata": {},
   "outputs": [
    {
     "data": {
      "text/plain": [
       "(array([ 372.,  691., 1435.,    0., 1393., 1412.,    0., 1215.,  804.,\n",
       "        1272.]),\n",
       " array([0. , 0.7, 1.4, 2.1, 2.8, 3.5, 4.2, 4.9, 5.6, 6.3, 7. ]),\n",
       " <a list of 10 Patch objects>)"
      ]
     },
     "execution_count": 11,
     "metadata": {},
     "output_type": "execute_result"
    },
    {
     "data": {
      "image/png": "[encoded data removed]",
      "text/plain": [
       "<Figure size 432x288 with 1 Axes>"
      ]
     },
     "metadata": {
      "needs_background": "light"
     },
     "output_type": "display_data"
    }
   ],
   "source": [
    "plt.hist(data['tvtot'])"
   ]
  },
  {
   "cell_type": "code",
   "execution_count": 12,
   "metadata": {},
   "outputs": [
    {
     "name": "stdout",
     "output_type": "stream",
     "text": [
      "Average TV men: 3.901850489265741\n",
      "Average TV women: 3.944277159999256\n",
      "Ttest_indResult(statistic=-0.6899854275080107, pvalue=0.49024063084629854)\n"
     ]
    }
   ],
   "source": [
    "TV = data[data['year']==6]\n",
    "men = TV[TV['gndr']==1.0]\n",
    "women = TV[TV['gndr']==2.0]\n",
    "\n",
    "print(\"Average TV men:\", men['tvtot'].mean())\n",
    "print(\"Average TV women:\", women['tvtot'].mean())\n",
    "print(stats.ttest_ind(men['tvtot'], women['tvtot']))"
   ]
  },
  {
   "cell_type": "markdown",
   "metadata": {},
   "source": [
    "For 2012, on average women reoported watching more TV than men. However, the differences were not statistically significant. "
   ]
  },
  {
   "cell_type": "markdown",
   "metadata": {},
   "source": [
    "### 4. Who was more likely to believe people were fair in 2012, people living with a partner or people living alone?"
   ]
  },
  {
   "cell_type": "code",
   "execution_count": 13,
   "metadata": {},
   "outputs": [
    {
     "data": {
      "text/plain": [
       "(array([ 162.,  112.,  303.,  576.,  617., 1611., 1075., 1822., 1629.,\n",
       "         687.]),\n",
       " array([ 0.,  1.,  2.,  3.,  4.,  5.,  6.,  7.,  8.,  9., 10.]),\n",
       " <a list of 10 Patch objects>)"
      ]
     },
     "execution_count": 13,
     "metadata": {},
     "output_type": "execute_result"
    },
    {
     "data": {
      "image/png": "[encoded data removed]",
      "text/plain": [
       "<Figure size 432x288 with 1 Axes>"
      ]
     },
     "metadata": {
      "needs_background": "light"
     },
     "output_type": "display_data"
    }
   ],
   "source": [
    "plt.hist(data['pplfair'])"
   ]
  },
  {
   "cell_type": "code",
   "execution_count": 14,
   "metadata": {},
   "outputs": [
    {
     "name": "stdout",
     "output_type": "stream",
     "text": [
      "Average partner: 6.080425046784697\n",
      "Average alone: 5.857698728668892\n",
      "Ttest_indResult(statistic=3.3196342169381756, pvalue=0.0009088839089194009)\n"
     ]
    }
   ],
   "source": [
    "fair = data[data['year']==6]\n",
    "partner = fair[fair['partner']==1.0]\n",
    "alone = fair[fair['partner']==2.0]\n",
    "\n",
    "print(\"Average partner:\", partner['pplfair'].mean())\n",
    "print(\"Average alone:\", alone['pplfair'].mean())\n",
    "print(stats.ttest_ind(partner['pplfair'], alone['pplfair']))"
   ]
  },
  {
   "cell_type": "markdown",
   "metadata": {},
   "source": [
    "People living alone felt that people were less fair on average and the results were statistically significant. "
   ]
  },
  {
   "cell_type": "markdown",
   "metadata": {},
   "source": [
    "### 5. Pick three or four of the countries in the sample and compare how often people met socially in 2014. Are there differences, and if so, which countries stand out?"
   ]
  },
  {
   "cell_type": "code",
   "execution_count": 15,
   "metadata": {},
   "outputs": [
    {
     "name": "stdout",
     "output_type": "stream",
     "text": [
      "Germany: 4.428571428571429\n",
      "Spain: 5.260004226275035\n",
      "Sweden: 5.426211453744493\n"
     ]
    },
    {
     "data": {
      "image/png": "[encoded data removed]",
      "text/plain": [
       "<Figure size 1080x360 with 3 Axes>"
      ]
     },
     "metadata": {
      "needs_background": "light"
     },
     "output_type": "display_data"
    }
   ],
   "source": [
    "print(\"Germany:\", DE7['sclmeet'].mean())\n",
    "print(\"Spain:\", ES7['sclmeet'].mean())\n",
    "print(\"Sweden:\", SE7['sclmeet'].mean())\n",
    "\n",
    "#look at target variable distribution\n",
    "plt.figure(figsize = (15, 5))\n",
    "\n",
    "plt.subplot(1, 3, 1)\n",
    "plt.hist(DE7['sclmeet'])\n",
    "plt.title(\"Germany Social Meets\")\n",
    "\n",
    "plt.subplot(1, 3, 2)\n",
    "plt.hist(ES7['sclmeet'])\n",
    "plt.title(\"Spain Social Meets\")\n",
    "\n",
    "plt.subplot(1, 3, 3)\n",
    "plt.hist(SE7['sclmeet'])\n",
    "plt.title(\"Sweden Social Meets\")\n",
    "\n",
    "plt.show()"
   ]
  },
  {
   "cell_type": "code",
   "execution_count": 20,
   "metadata": {},
   "outputs": [
    {
     "name": "stdout",
     "output_type": "stream",
     "text": [
      "Germany vs Spain: Ttest_indResult(statistic=2.117253722830867, pvalue=0.03443940370040571)\n",
      "Germany vs Sweden: Ttest_indResult(statistic=2.7112078703542792, pvalue=0.006828774243218391)\n",
      "Sweden vs Spain: Ttest_indResult(statistic=-2.653510849691308, pvalue=0.008025436266698395)\n"
     ]
    }
   ],
   "source": [
    "print(\"Germany vs Spain:\", stats.ttest_ind(ES7['sclmeet'], DE7['sclmeet']))\n",
    "print(\"Germany vs Sweden:\", stats.ttest_ind(SE7['sclmeet'], DE7['sclmeet']))\n",
    "print(\"Sweden vs Spain:\", stats.ttest_ind(ES7['sclmeet'], SE7['sclmeet']))"
   ]
  },
  {
   "cell_type": "markdown",
   "metadata": {},
   "source": [
    "There was a statistically significant difference between all three countries in terms of how often people meet socially. This was especially true when comparing Germany to Sweden. It appears that people in Sweden meet much more frequently than people in Germany."
   ]
  },
  {
   "cell_type": "markdown",
   "metadata": {},
   "source": [
    "### 6. Pick three or four of the countries in the sample and compare how often people took part in social activities, relative to others their age, in 2014. Are there differences, and if so, which countries stand out?"
   ]
  },
  {
   "cell_type": "code",
   "execution_count": 17,
   "metadata": {},
   "outputs": [
    {
     "name": "stdout",
     "output_type": "stream",
     "text": [
      "Germany: 2.7142857142857144\n",
      "Spain: 2.6199260947577705\n",
      "Sweden: 2.8788499611298266\n"
     ]
    },
    {
     "data": {
      "image/png": "[encoded data removed]",
      "text/plain": [
       "<Figure size 1080x360 with 3 Axes>"
      ]
     },
     "metadata": {
      "needs_background": "light"
     },
     "output_type": "display_data"
    }
   ],
   "source": [
    "print(\"Germany:\", DE7['sclact'].mean())\n",
    "print(\"Spain:\", ES7['sclact'].mean())\n",
    "print(\"Sweden:\", SE7['sclact'].mean())\n",
    "\n",
    "#look at target variable distribution\n",
    "plt.figure(figsize = (15, 5))\n",
    "\n",
    "plt.subplot(1, 3, 1)\n",
    "plt.hist(DE7['sclact'])\n",
    "plt.title(\"Germany Social Activities\")\n",
    "\n",
    "plt.subplot(1, 3, 2)\n",
    "plt.hist(ES7['sclact'])\n",
    "plt.title(\"Spain Social Activities\")\n",
    "\n",
    "plt.subplot(1, 3, 3)\n",
    "plt.hist(SE7['sclact'])\n",
    "plt.title(\"Sweden Social Activities\")\n",
    "\n",
    "plt.show()"
   ]
  },
  {
   "cell_type": "code",
   "execution_count": 18,
   "metadata": {},
   "outputs": [
    {
     "name": "stdout",
     "output_type": "stream",
     "text": [
      "Germany vs Spain: Ttest_indResult(statistic=-0.3732781905877244, pvalue=0.7090059903476165)\n",
      "Germany vs Sweden: Ttest_indResult(statistic=0.7124368955742764, pvalue=0.4763749125793194)\n",
      "Sweden vs Spain: Ttest_indResult(statistic=-6.499211288703283, pvalue=1.0036109660751136e-10)\n"
     ]
    }
   ],
   "source": [
    "print(\"Germany vs Spain:\", stats.ttest_ind(ES7['sclact'], DE7['sclact']))\n",
    "print(\"Germany vs Sweden:\", stats.ttest_ind(SE7['sclact'], DE7['sclact']))\n",
    "print(\"Sweden vs Spain:\", stats.ttest_ind(ES7['sclact'], SE7['sclact']))"
   ]
  },
  {
   "cell_type": "markdown",
   "metadata": {},
   "source": [
    "There didn't appear to be much of a difference between the three countries and only the difference between Sweden and Spain reached signficance. "
   ]
  },
  {
   "cell_type": "code",
   "execution_count": null,
   "metadata": {},
   "outputs": [],
   "source": []
  }
 ],
 "metadata": {
  "kernelspec": {
   "display_name": "Python 3",
   "language": "python",
   "name": "python3"
  },
  "language_info": {
   "codemirror_mode": {
    "name": "ipython",
    "version": 3
   },
   "file_extension": ".py",
   "mimetype": "text/x-python",
   "name": "python",
   "nbconvert_exporter": "python",
   "pygments_lexer": "ipython3",
   "version": "3.7.3"
  }
 },
 "nbformat": 4,
 "nbformat_minor": 2
}
