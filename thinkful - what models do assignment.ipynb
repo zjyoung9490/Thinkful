{
 "cells": [
  {
   "cell_type": "markdown",
   "metadata": {},
   "source": [
    "### 1. Try to model the result of a coin toss. In your model, include any features that you think important in explaining the result. Discuss with your mentor about the pros and cons of adding too many features into your model."
   ]
  },
  {
   "cell_type": "markdown",
   "metadata": {},
   "source": [
    "### _Simple Statistical Model:_"
   ]
  },
  {
   "cell_type": "code",
   "execution_count": 13,
   "metadata": {
    "scrolled": true
   },
   "outputs": [
    {
     "name": "stdout",
     "output_type": "stream",
     "text": [
      "Result:  240  heads, and  260  tails.\n"
     ]
    }
   ],
   "source": [
    "import random \n",
    "\n",
    "flips = 1\n",
    "heads = 0\n",
    "tails = 0\n",
    "\n",
    "while flips <= 500:\n",
    "    if random.randint(1,2) == 1:\n",
    "        heads += 1\n",
    "    else:\n",
    "        tails += 1\n",
    "    flips += 1\n",
    "\n",
    "print(\"Result: \", heads,\" heads, and \", tails,\" tails.\")"
   ]
  },
  {
   "cell_type": "markdown",
   "metadata": {},
   "source": [
    "### _Mathematical Model:_"
   ]
  },
  {
   "cell_type": "markdown",
   "metadata": {},
   "source": [
    "Features we could include in the model:\n",
    "    1. Height of the coin toss\n",
    "    2. Force applied to the coin\n",
    "    3. Angular velocity of the coin\n",
    "    4. Surface the coin will land on\n",
    "\n",
    "These are just a few of the features we could include in the model. Adding too many features will exponentially increase the complexity of the model and make computation a problem. While this may be a more accurate model, at the end of the day since there are only two outcomes both the simple statistical model above and a more complex mathematical model would likely converge to the same result as the number of trials increases. "
   ]
  },
  {
   "cell_type": "markdown",
   "metadata": {},
   "source": [
    "### 2. If you ever used Netflix, you should already have realized that it provides some recommendations for you to watch. In data science, this is an example of the so-called **recommendations systems**. Read this nontechnical blog post of [Netflix](https://help.netflix.com/en/node/100639) about how they model their recommendations systems. Then, derive the features they use in their recommendations engines and discuss what else can be incorporated into this model. "
   ]
  },
  {
   "cell_type": "markdown",
   "metadata": {},
   "source": [
    "Features Netflix uses in their recommendations system:\n",
    "    1. Movie or show information i.e. actors, directors, genre, etc.\n",
    "    2. Viewing history\n",
    "    3. Viewer ratings\n",
    "    4. Time of day viewers watch\n",
    "    5. Length of time viewers watch\n",
    "    6. Information from other viewers with similar tastes/preferences\n",
    "    7. Devices viewers watch on\n",
    "\n",
    "Additional features Netflix could use:\n",
    "    1. Some devices can be labeled for a certain location within a household (i.e. bedroom, family room, etc.) so this could be another feature that could be included\n",
    "    2. They could include a viewer's physical location at the state or city level as it may be the case that viewers in the same location prefer the same shows or movies\n",
    "    3. If they don't already, Netflix could also include a time of year feature so for example starting after Thanksgiving more Christmas movies could be recommended \n",
    "    \n",
    "Netflix says that it does not include demographics such as age or gender in its recommendation systems but this could be another thing to consider. I think age would be a good feature to include, but I see why including features such as gender or race could become problematic and/or lead to bias. "
   ]
  },
  {
   "cell_type": "code",
   "execution_count": null,
   "metadata": {},
   "outputs": [],
   "source": []
  }
 ],
 "metadata": {
  "kernelspec": {
   "display_name": "Python 3",
   "language": "python",
   "name": "python3"
  },
  "language_info": {
   "codemirror_mode": {
    "name": "ipython",
    "version": 3
   },
   "file_extension": ".py",
   "mimetype": "text/x-python",
   "name": "python",
   "nbconvert_exporter": "python",
   "pygments_lexer": "ipython3",
   "version": "3.7.3"
  }
 },
 "nbformat": 4,
 "nbformat_minor": 2
}
