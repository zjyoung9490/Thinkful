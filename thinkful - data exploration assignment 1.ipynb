{
 "cells": [
  {
   "cell_type": "code",
   "execution_count": 1,
   "metadata": {},
   "outputs": [],
   "source": [
    "import numpy as np\n",
    "import pandas as pd\n",
    "import matplotlib.pyplot as plt\n",
    "import scipy.stats as stats\n",
    "from scipy.stats.mstats import winsorize\n",
    "import seaborn as sns\n",
    "from sqlalchemy import create_engine\n",
    "import warnings\n",
    "\n",
    "warnings.filterwarnings('ignore')"
   ]
  },
  {
   "cell_type": "code",
   "execution_count": 2,
   "metadata": {},
   "outputs": [],
   "source": [
    "postgres_user = 'dsbc_student'\n",
    "postgres_pw = '7*.8G9QH21'\n",
    "postgres_host = '142.93.121.174'\n",
    "postgres_port = '5432'\n",
    "postgres_db = 'useducation'\n",
    "\n",
    "engine = create_engine('postgresql://{}:{}@{}:{}/{}'.format(\n",
    "    postgres_user, postgres_pw, postgres_host, postgres_port, postgres_db))\n",
    "\n",
    "education = pd.read_sql_query('select * from useducation',con=engine)\n",
    "\n",
    "engine.dispose()"
   ]
  },
  {
   "cell_type": "markdown",
   "metadata": {},
   "source": [
    "## Initial Cleaning: Taking care of missing values\n"
   ]
  },
  {
   "cell_type": "code",
   "execution_count": 3,
   "metadata": {},
   "outputs": [
    {
     "name": "stdout",
     "output_type": "stream",
     "text": [
      "PRIMARY_KEY                      0.000000\n",
      "STATE                            0.000000\n",
      "YEAR                             0.000000\n",
      "ENROLL                           0.000000\n",
      "TOTAL_REVENUE                    0.000000\n",
      "FEDERAL_REVENUE                  0.000000\n",
      "STATE_REVENUE                    0.000000\n",
      "LOCAL_REVENUE                    0.000000\n",
      "TOTAL_EXPENDITURE                0.000000\n",
      "INSTRUCTION_EXPENDITURE          0.000000\n",
      "SUPPORT_SERVICES_EXPENDITURE     0.000000\n",
      "OTHER_EXPENDITURE                0.000000\n",
      "CAPITAL_OUTLAY_EXPENDITURE       0.000000\n",
      "GRADES_PK_G                      0.000000\n",
      "GRADES_KG_G                      0.000000\n",
      "GRADES_4_G                       0.000000\n",
      "GRADES_8_G                       0.000000\n",
      "GRADES_12_G                      0.000000\n",
      "GRADES_1_8_G                     0.000000\n",
      "GRADES_9_12_G                    0.000000\n",
      "GRADES_ALL_G                     0.000000\n",
      "AVG_MATH_4_SCORE                64.075067\n",
      "AVG_MATH_8_SCORE                64.343164\n",
      "AVG_READING_4_SCORE             64.276139\n",
      "AVG_READING_8_SCORE             66.621984\n",
      "dtype: float64\n"
     ]
    }
   ],
   "source": [
    "col_list = [\"ENROLL\", \"TOTAL_REVENUE\", \"FEDERAL_REVENUE\", \n",
    "             \"STATE_REVENUE\", \"LOCAL_REVENUE\", \"TOTAL_EXPENDITURE\", \n",
    "             \"INSTRUCTION_EXPENDITURE\", \"SUPPORT_SERVICES_EXPENDITURE\",\n",
    "             \"OTHER_EXPENDITURE\", \"CAPITAL_OUTLAY_EXPENDITURE\", \"GRADES_PK_G\", \n",
    "             \"GRADES_KG_G\", \"GRADES_4_G\", \"GRADES_8_G\", \"GRADES_12_G\", \"GRADES_1_8_G\", \n",
    "             \"GRADES_9_12_G\", \"GRADES_ALL_G\"]\n",
    "\n",
    "education2 = education.copy() \n",
    "\n",
    "for col in col_list:\n",
    "    education2.loc[:, col] = education2.groupby('STATE').transform(lambda x: x.fillna(x.mean()))\n",
    "    \n",
    "for col in col_list:\n",
    "    education2.loc[:, col] = education2.loc[:, col].fillna(education2.loc[:, col].mean())\n",
    "        \n",
    "print((education2.isnull().sum()/education2.isnull().count())*100)"
   ]
  },
  {
   "cell_type": "markdown",
   "metadata": {},
   "source": [
    "### 1. Derive the descriptive statistics of the data and discuss the points you find remarkable."
   ]
  },
  {
   "cell_type": "code",
   "execution_count": 4,
   "metadata": {},
   "outputs": [
    {
     "data": {
      "text/html": [
       "<div>\n",
       "<style scoped>\n",
       "    .dataframe tbody tr th:only-of-type {\n",
       "        vertical-align: middle;\n",
       "    }\n",
       "\n",
       "    .dataframe tbody tr th {\n",
       "        vertical-align: top;\n",
       "    }\n",
       "\n",
       "    .dataframe thead th {\n",
       "        text-align: right;\n",
       "    }\n",
       "</style>\n",
       "<table border=\"1\" class=\"dataframe\">\n",
       "  <thead>\n",
       "    <tr style=\"text-align: right;\">\n",
       "      <th></th>\n",
       "      <th>YEAR</th>\n",
       "      <th>ENROLL</th>\n",
       "      <th>TOTAL_REVENUE</th>\n",
       "      <th>FEDERAL_REVENUE</th>\n",
       "      <th>STATE_REVENUE</th>\n",
       "      <th>LOCAL_REVENUE</th>\n",
       "      <th>TOTAL_EXPENDITURE</th>\n",
       "      <th>INSTRUCTION_EXPENDITURE</th>\n",
       "      <th>SUPPORT_SERVICES_EXPENDITURE</th>\n",
       "      <th>OTHER_EXPENDITURE</th>\n",
       "      <th>...</th>\n",
       "      <th>GRADES_4_G</th>\n",
       "      <th>GRADES_8_G</th>\n",
       "      <th>GRADES_12_G</th>\n",
       "      <th>GRADES_1_8_G</th>\n",
       "      <th>GRADES_9_12_G</th>\n",
       "      <th>GRADES_ALL_G</th>\n",
       "      <th>AVG_MATH_4_SCORE</th>\n",
       "      <th>AVG_MATH_8_SCORE</th>\n",
       "      <th>AVG_READING_4_SCORE</th>\n",
       "      <th>AVG_READING_8_SCORE</th>\n",
       "    </tr>\n",
       "  </thead>\n",
       "  <tbody>\n",
       "    <tr>\n",
       "      <th>count</th>\n",
       "      <td>1492.000000</td>\n",
       "      <td>1.492000e+03</td>\n",
       "      <td>1.492000e+03</td>\n",
       "      <td>1.492000e+03</td>\n",
       "      <td>1.492000e+03</td>\n",
       "      <td>1.492000e+03</td>\n",
       "      <td>1.492000e+03</td>\n",
       "      <td>1.492000e+03</td>\n",
       "      <td>1.492000e+03</td>\n",
       "      <td>1.492000e+03</td>\n",
       "      <td>...</td>\n",
       "      <td>1492.000000</td>\n",
       "      <td>1492.000000</td>\n",
       "      <td>1492.000000</td>\n",
       "      <td>1.492000e+03</td>\n",
       "      <td>1.492000e+03</td>\n",
       "      <td>1.492000e+03</td>\n",
       "      <td>536.000000</td>\n",
       "      <td>532.000000</td>\n",
       "      <td>533.000000</td>\n",
       "      <td>498.000000</td>\n",
       "    </tr>\n",
       "    <tr>\n",
       "      <th>mean</th>\n",
       "      <td>2004.433646</td>\n",
       "      <td>9.160580e+05</td>\n",
       "      <td>9.092664e+06</td>\n",
       "      <td>7.664310e+05</td>\n",
       "      <td>4.216914e+06</td>\n",
       "      <td>4.109319e+06</td>\n",
       "      <td>9.197265e+06</td>\n",
       "      <td>4.763269e+06</td>\n",
       "      <td>2.680485e+06</td>\n",
       "      <td>4.292705e+05</td>\n",
       "      <td>...</td>\n",
       "      <td>63920.470186</td>\n",
       "      <td>63649.323593</td>\n",
       "      <td>53742.326058</td>\n",
       "      <td>5.142279e+05</td>\n",
       "      <td>2.446825e+05</td>\n",
       "      <td>7.947983e+05</td>\n",
       "      <td>234.768293</td>\n",
       "      <td>278.414711</td>\n",
       "      <td>218.866154</td>\n",
       "      <td>263.661132</td>\n",
       "    </tr>\n",
       "    <tr>\n",
       "      <th>std</th>\n",
       "      <td>7.393983</td>\n",
       "      <td>1.005701e+06</td>\n",
       "      <td>1.106024e+07</td>\n",
       "      <td>1.076284e+06</td>\n",
       "      <td>5.220854e+06</td>\n",
       "      <td>5.163003e+06</td>\n",
       "      <td>1.128030e+07</td>\n",
       "      <td>5.926444e+06</td>\n",
       "      <td>3.157737e+06</td>\n",
       "      <td>5.023493e+05</td>\n",
       "      <td>...</td>\n",
       "      <td>80027.568044</td>\n",
       "      <td>78646.031831</td>\n",
       "      <td>67566.267860</td>\n",
       "      <td>6.415325e+05</td>\n",
       "      <td>3.065506e+05</td>\n",
       "      <td>9.623289e+05</td>\n",
       "      <td>10.221511</td>\n",
       "      <td>10.159722</td>\n",
       "      <td>7.769616</td>\n",
       "      <td>6.803725</td>\n",
       "    </tr>\n",
       "    <tr>\n",
       "      <th>min</th>\n",
       "      <td>1992.000000</td>\n",
       "      <td>4.386600e+04</td>\n",
       "      <td>4.656500e+05</td>\n",
       "      <td>3.102000e+04</td>\n",
       "      <td>0.000000e+00</td>\n",
       "      <td>2.209300e+04</td>\n",
       "      <td>4.816650e+05</td>\n",
       "      <td>2.655490e+05</td>\n",
       "      <td>1.399630e+05</td>\n",
       "      <td>1.154100e+04</td>\n",
       "      <td>...</td>\n",
       "      <td>633.000000</td>\n",
       "      <td>437.000000</td>\n",
       "      <td>311.000000</td>\n",
       "      <td>4.878000e+03</td>\n",
       "      <td>1.808000e+03</td>\n",
       "      <td>7.254000e+03</td>\n",
       "      <td>187.134670</td>\n",
       "      <td>232.831510</td>\n",
       "      <td>178.557612</td>\n",
       "      <td>236.379102</td>\n",
       "    </tr>\n",
       "    <tr>\n",
       "      <th>25%</th>\n",
       "      <td>1998.000000</td>\n",
       "      <td>2.870410e+05</td>\n",
       "      <td>2.422636e+06</td>\n",
       "      <td>2.081370e+05</td>\n",
       "      <td>1.319451e+06</td>\n",
       "      <td>8.765120e+05</td>\n",
       "      <td>2.419590e+06</td>\n",
       "      <td>1.302379e+06</td>\n",
       "      <td>7.349388e+05</td>\n",
       "      <td>1.201725e+05</td>\n",
       "      <td>...</td>\n",
       "      <td>13336.500000</td>\n",
       "      <td>12989.250000</td>\n",
       "      <td>10748.406250</td>\n",
       "      <td>1.072088e+05</td>\n",
       "      <td>4.992725e+04</td>\n",
       "      <td>1.769522e+05</td>\n",
       "      <td>229.694352</td>\n",
       "      <td>272.761598</td>\n",
       "      <td>214.663401</td>\n",
       "      <td>259.533171</td>\n",
       "    </tr>\n",
       "    <tr>\n",
       "      <th>50%</th>\n",
       "      <td>2004.000000</td>\n",
       "      <td>7.362482e+05</td>\n",
       "      <td>6.055223e+06</td>\n",
       "      <td>4.880957e+05</td>\n",
       "      <td>2.956335e+06</td>\n",
       "      <td>2.494314e+06</td>\n",
       "      <td>6.161170e+06</td>\n",
       "      <td>3.153096e+06</td>\n",
       "      <td>1.832252e+06</td>\n",
       "      <td>3.301260e+05</td>\n",
       "      <td>...</td>\n",
       "      <td>42767.000000</td>\n",
       "      <td>42993.500000</td>\n",
       "      <td>36585.000000</td>\n",
       "      <td>3.422030e+05</td>\n",
       "      <td>1.618015e+05</td>\n",
       "      <td>5.636270e+05</td>\n",
       "      <td>237.238552</td>\n",
       "      <td>280.618803</td>\n",
       "      <td>220.416034</td>\n",
       "      <td>265.010912</td>\n",
       "    </tr>\n",
       "    <tr>\n",
       "      <th>75%</th>\n",
       "      <td>2011.000000</td>\n",
       "      <td>9.631825e+05</td>\n",
       "      <td>9.684328e+06</td>\n",
       "      <td>7.732208e+05</td>\n",
       "      <td>4.444259e+06</td>\n",
       "      <td>4.118835e+06</td>\n",
       "      <td>9.780398e+06</td>\n",
       "      <td>5.152055e+06</td>\n",
       "      <td>2.872585e+06</td>\n",
       "      <td>4.792252e+05</td>\n",
       "      <td>...</td>\n",
       "      <td>75201.500000</td>\n",
       "      <td>75501.500000</td>\n",
       "      <td>67372.000000</td>\n",
       "      <td>6.068028e+05</td>\n",
       "      <td>2.894372e+05</td>\n",
       "      <td>9.107612e+05</td>\n",
       "      <td>241.995486</td>\n",
       "      <td>285.347428</td>\n",
       "      <td>223.999337</td>\n",
       "      <td>268.190121</td>\n",
       "    </tr>\n",
       "    <tr>\n",
       "      <th>max</th>\n",
       "      <td>2017.000000</td>\n",
       "      <td>6.307022e+06</td>\n",
       "      <td>8.921726e+07</td>\n",
       "      <td>9.990221e+06</td>\n",
       "      <td>5.090457e+07</td>\n",
       "      <td>3.610526e+07</td>\n",
       "      <td>8.532013e+07</td>\n",
       "      <td>4.396452e+07</td>\n",
       "      <td>2.605802e+07</td>\n",
       "      <td>3.995951e+06</td>\n",
       "      <td>...</td>\n",
       "      <td>493415.000000</td>\n",
       "      <td>500143.000000</td>\n",
       "      <td>498403.000000</td>\n",
       "      <td>3.929869e+06</td>\n",
       "      <td>2.013687e+06</td>\n",
       "      <td>5.944746e+06</td>\n",
       "      <td>253.420961</td>\n",
       "      <td>300.568235</td>\n",
       "      <td>236.773867</td>\n",
       "      <td>280.499130</td>\n",
       "    </tr>\n",
       "  </tbody>\n",
       "</table>\n",
       "<p>8 rows × 23 columns</p>\n",
       "</div>"
      ],
      "text/plain": [
       "              YEAR        ENROLL  TOTAL_REVENUE  FEDERAL_REVENUE  \\\n",
       "count  1492.000000  1.492000e+03   1.492000e+03     1.492000e+03   \n",
       "mean   2004.433646  9.160580e+05   9.092664e+06     7.664310e+05   \n",
       "std       7.393983  1.005701e+06   1.106024e+07     1.076284e+06   \n",
       "min    1992.000000  4.386600e+04   4.656500e+05     3.102000e+04   \n",
       "25%    1998.000000  2.870410e+05   2.422636e+06     2.081370e+05   \n",
       "50%    2004.000000  7.362482e+05   6.055223e+06     4.880957e+05   \n",
       "75%    2011.000000  9.631825e+05   9.684328e+06     7.732208e+05   \n",
       "max    2017.000000  6.307022e+06   8.921726e+07     9.990221e+06   \n",
       "\n",
       "       STATE_REVENUE  LOCAL_REVENUE  TOTAL_EXPENDITURE  \\\n",
       "count   1.492000e+03   1.492000e+03       1.492000e+03   \n",
       "mean    4.216914e+06   4.109319e+06       9.197265e+06   \n",
       "std     5.220854e+06   5.163003e+06       1.128030e+07   \n",
       "min     0.000000e+00   2.209300e+04       4.816650e+05   \n",
       "25%     1.319451e+06   8.765120e+05       2.419590e+06   \n",
       "50%     2.956335e+06   2.494314e+06       6.161170e+06   \n",
       "75%     4.444259e+06   4.118835e+06       9.780398e+06   \n",
       "max     5.090457e+07   3.610526e+07       8.532013e+07   \n",
       "\n",
       "       INSTRUCTION_EXPENDITURE  SUPPORT_SERVICES_EXPENDITURE  \\\n",
       "count             1.492000e+03                  1.492000e+03   \n",
       "mean              4.763269e+06                  2.680485e+06   \n",
       "std               5.926444e+06                  3.157737e+06   \n",
       "min               2.655490e+05                  1.399630e+05   \n",
       "25%               1.302379e+06                  7.349388e+05   \n",
       "50%               3.153096e+06                  1.832252e+06   \n",
       "75%               5.152055e+06                  2.872585e+06   \n",
       "max               4.396452e+07                  2.605802e+07   \n",
       "\n",
       "       OTHER_EXPENDITURE  ...     GRADES_4_G     GRADES_8_G    GRADES_12_G  \\\n",
       "count       1.492000e+03  ...    1492.000000    1492.000000    1492.000000   \n",
       "mean        4.292705e+05  ...   63920.470186   63649.323593   53742.326058   \n",
       "std         5.023493e+05  ...   80027.568044   78646.031831   67566.267860   \n",
       "min         1.154100e+04  ...     633.000000     437.000000     311.000000   \n",
       "25%         1.201725e+05  ...   13336.500000   12989.250000   10748.406250   \n",
       "50%         3.301260e+05  ...   42767.000000   42993.500000   36585.000000   \n",
       "75%         4.792252e+05  ...   75201.500000   75501.500000   67372.000000   \n",
       "max         3.995951e+06  ...  493415.000000  500143.000000  498403.000000   \n",
       "\n",
       "       GRADES_1_8_G  GRADES_9_12_G  GRADES_ALL_G  AVG_MATH_4_SCORE  \\\n",
       "count  1.492000e+03   1.492000e+03  1.492000e+03        536.000000   \n",
       "mean   5.142279e+05   2.446825e+05  7.947983e+05        234.768293   \n",
       "std    6.415325e+05   3.065506e+05  9.623289e+05         10.221511   \n",
       "min    4.878000e+03   1.808000e+03  7.254000e+03        187.134670   \n",
       "25%    1.072088e+05   4.992725e+04  1.769522e+05        229.694352   \n",
       "50%    3.422030e+05   1.618015e+05  5.636270e+05        237.238552   \n",
       "75%    6.068028e+05   2.894372e+05  9.107612e+05        241.995486   \n",
       "max    3.929869e+06   2.013687e+06  5.944746e+06        253.420961   \n",
       "\n",
       "       AVG_MATH_8_SCORE  AVG_READING_4_SCORE  AVG_READING_8_SCORE  \n",
       "count        532.000000           533.000000           498.000000  \n",
       "mean         278.414711           218.866154           263.661132  \n",
       "std           10.159722             7.769616             6.803725  \n",
       "min          232.831510           178.557612           236.379102  \n",
       "25%          272.761598           214.663401           259.533171  \n",
       "50%          280.618803           220.416034           265.010912  \n",
       "75%          285.347428           223.999337           268.190121  \n",
       "max          300.568235           236.773867           280.499130  \n",
       "\n",
       "[8 rows x 23 columns]"
      ]
     },
     "execution_count": 4,
     "metadata": {},
     "output_type": "execute_result"
    }
   ],
   "source": [
    "education2.describe()"
   ]
  },
  {
   "cell_type": "markdown",
   "metadata": {},
   "source": [
    "Although it is hard to really find anything noticeable by just looking at the numbers, one thing I noticed was that total expenditures exceed total revenue on average. Another thing that I noticed was that the standard deviations seem to be very high for all columns which seems to indicate that there is a lot of variance in the data. This may make sense however since it is grouped by state and year. "
   ]
  },
  {
   "cell_type": "markdown",
   "metadata": {},
   "source": [
    "### 2. Choose a state (e.g. California) and draw a line graph of its total revenues and total expenditures along the years. How do these 2 variables evolve during the years? Try to explain the peaks and troughs with some state-wise news and information around those dates."
   ]
  },
  {
   "cell_type": "code",
   "execution_count": 11,
   "metadata": {},
   "outputs": [
    {
     "data": {
      "text/plain": [
       "<matplotlib.axes._subplots.AxesSubplot at 0x24509cb4208>"
      ]
     },
     "execution_count": 11,
     "metadata": {},
     "output_type": "execute_result"
    },
    {
     "data": {
      "image/png": "[encoded data removed]",
      "text/plain": [
       "<Figure size 432x288 with 1 Axes>"
      ]
     },
     "metadata": {
      "needs_background": "light"
     },
     "output_type": "display_data"
    }
   ],
   "source": [
    "sns.lineplot(x = 'YEAR', y = 'TOTAL_REVENUE', data = education2.loc[education2['STATE'] == \"COLORADO\"], color = 'blue')\n",
    "sns.lineplot(x = 'YEAR', y = 'TOTAL_EXPENDITURE', data = education2.loc[education2['STATE'] == \"COLORADO\"], color = 'red')"
   ]
  },
  {
   "cell_type": "markdown",
   "metadata": {},
   "source": [
    "Both revenue and expenditure seem to be increasing at around the same pace up until 2016 which seems to be expected. However, there is a sharp dropoff between 2016 to 2017. I wasn't able to find any information on why this occurred but it is strange that it happened shortly after marijuana was legalized (2014). Revenue from marijuana tax was supposed to go to educational funding so you would think that there would be an opposite effect. "
   ]
  },
  {
   "cell_type": "markdown",
   "metadata": {},
   "source": [
    "### 3. In your chosen state, which of the lessons are the students more successful, math or reading?"
   ]
  },
  {
   "cell_type": "code",
   "execution_count": 34,
   "metadata": {},
   "outputs": [
    {
     "name": "stdout",
     "output_type": "stream",
     "text": [
      "Average math score for fourth graders in Colorado  237.82670048293502\n",
      "Average reading score for fourth graders in Colorado  223.06924459055077\n",
      "Average math score for eigth graders in Colorado  283.90075558846564\n",
      "Average reading score for eigth graders in Colorado  262.67550169110314\n"
     ]
    }
   ],
   "source": [
    "CO = education2.loc[education2['STATE'] == \"COLORADO\"]\n",
    "print('Average math score for fourth graders in Colorado ', CO['AVG_MATH_4_SCORE'].mean())\n",
    "print('Average reading score for fourth graders in Colorado ', CO['AVG_READING_4_SCORE'].mean())\n",
    "print('Average math score for eigth graders in Colorado ', CO['AVG_MATH_8_SCORE'].mean())\n",
    "print('Average reading score for eigth graders in Colorado ', CO['AVG_READING_8_SCORE'].mean())"
   ]
  },
  {
   "cell_type": "markdown",
   "metadata": {},
   "source": [
    "In Colorado, both 4th and 8th graders score better on average in math than on reading "
   ]
  },
  {
   "cell_type": "markdown",
   "metadata": {},
   "source": [
    "### 4. What are the distributions of the math and reading scores in the sample?"
   ]
  },
  {
   "cell_type": "code",
   "execution_count": 32,
   "metadata": {},
   "outputs": [
    {
     "data": {
      "image/png": "[encoded data removed]",
      "text/plain": [
       "<Figure size 864x576 with 4 Axes>"
      ]
     },
     "metadata": {
      "needs_background": "light"
     },
     "output_type": "display_data"
    }
   ],
   "source": [
    "plt.figure(figsize=(12,8))\n",
    "\n",
    "plt.subplot(2, 2, 1)\n",
    "plt.hist(CO['AVG_MATH_4_SCORE'], color = 'blue')\n",
    "plt.title('4th Grade Math Scores')\n",
    "\n",
    "plt.subplot(2, 2, 2)\n",
    "plt.hist(CO['AVG_MATH_8_SCORE'], color = 'blue')\n",
    "plt.title('8th Grade Math Scores')\n",
    "\n",
    "plt.subplot(2, 2, 3)\n",
    "plt.hist(CO['AVG_READING_4_SCORE'], color = 'green')\n",
    "plt.title('4th Grade Reading Scores')\n",
    "\n",
    "plt.subplot(2, 2, 4)\n",
    "plt.hist(CO['AVG_READING_8_SCORE'], color = 'green')\n",
    "plt.title('8th Grade Reading Scores')\n",
    "\n",
    "plt.show()"
   ]
  },
  {
   "cell_type": "markdown",
   "metadata": {},
   "source": [
    "### 5. Notice there are too many missing values for math and reading scores. Fill out the missing values using mean, median, and linear interpolation. Then compare the effects of these techniques on the distributions of the score variables."
   ]
  },
  {
   "cell_type": "code",
   "execution_count": 39,
   "metadata": {},
   "outputs": [],
   "source": [
    "## mean method\n",
    "score_list = [\"AVG_MATH_4_SCORE\", \"AVG_MATH_8_SCORE\", \"AVG_READING_4_SCORE\", \"AVG_READING_8_SCORE\"]\n",
    "\n",
    "CO_mean = CO.copy()\n",
    "\n",
    "for col in score_list:\n",
    "    CO_mean.loc[:, col] = CO_mean.loc[:, col].fillna(CO_mean.loc[:, col].mean())"
   ]
  },
  {
   "cell_type": "code",
   "execution_count": 40,
   "metadata": {},
   "outputs": [],
   "source": [
    "## median method\n",
    "CO_median = CO.copy()\n",
    "\n",
    "for col in score_list:\n",
    "    CO_median.loc[:, col] = CO_median.loc[:, col].fillna(CO_median.loc[:, col].median())"
   ]
  },
  {
   "cell_type": "code",
   "execution_count": 41,
   "metadata": {},
   "outputs": [],
   "source": [
    "## interpolation method\n",
    "CO_int = CO.copy()\n",
    "\n",
    "for col in score_list:\n",
    "    CO_int.loc[:, col] = CO_int.loc[:, col].fillna(CO_int.loc[:, col].interpolate(limit_direction = 'both'))"
   ]
  },
  {
   "cell_type": "code",
   "execution_count": 37,
   "metadata": {},
   "outputs": [
    {
     "name": "stdout",
     "output_type": "stream",
     "text": [
      "DISTRIBUTIONS USING MEAN METHOD TO FILL IN MISSING VALUES\n"
     ]
    },
    {
     "data": {
      "image/png": "[encoded data removed]",
      "text/plain": [
       "<Figure size 864x576 with 4 Axes>"
      ]
     },
     "metadata": {
      "needs_background": "light"
     },
     "output_type": "display_data"
    }
   ],
   "source": [
    "print(\"DISTRIBUTIONS USING MEAN METHOD TO FILL IN MISSING VALUES\")\n",
    "\n",
    "plt.figure(figsize=(12,8))\n",
    "\n",
    "plt.subplot(2, 2, 1)\n",
    "plt.hist(CO_mean['AVG_MATH_4_SCORE'], color = 'blue')\n",
    "plt.title('4th Grade Math Scores')\n",
    "\n",
    "plt.subplot(2, 2, 2)\n",
    "plt.hist(CO_mean['AVG_MATH_8_SCORE'], color = 'blue')\n",
    "plt.title('8th Grade Math Scores')\n",
    "\n",
    "plt.subplot(2, 2, 3)\n",
    "plt.hist(CO_mean['AVG_READING_4_SCORE'], color = 'green')\n",
    "plt.title('4th Grade Reading Scores')\n",
    "\n",
    "plt.subplot(2, 2, 4)\n",
    "plt.hist(CO_mean['AVG_READING_8_SCORE'], color = 'green')\n",
    "plt.title('8th Grade Reading Scores')\n",
    "\n",
    "plt.show()"
   ]
  },
  {
   "cell_type": "code",
   "execution_count": 43,
   "metadata": {},
   "outputs": [
    {
     "name": "stdout",
     "output_type": "stream",
     "text": [
      "DISTRIBUTIONS USING MEDIAN METHOD TO FILL IN MISSING VALUES\n"
     ]
    },
    {
     "data": {
      "image/png": "[encoded data removed]",
      "text/plain": [
       "<Figure size 864x576 with 4 Axes>"
      ]
     },
     "metadata": {
      "needs_background": "light"
     },
     "output_type": "display_data"
    }
   ],
   "source": [
    "print(\"DISTRIBUTIONS USING MEDIAN METHOD TO FILL IN MISSING VALUES\")\n",
    "\n",
    "plt.figure(figsize=(12,8))\n",
    "\n",
    "plt.subplot(2, 2, 1)\n",
    "plt.hist(CO_median['AVG_MATH_4_SCORE'], color = 'blue')\n",
    "plt.title('4th Grade Math Scores')\n",
    "\n",
    "plt.subplot(2, 2, 2)\n",
    "plt.hist(CO_median['AVG_MATH_8_SCORE'], color = 'blue')\n",
    "plt.title('8th Grade Math Scores')\n",
    "\n",
    "plt.subplot(2, 2, 3)\n",
    "plt.hist(CO_median['AVG_READING_4_SCORE'], color = 'green')\n",
    "plt.title('4th Grade Reading Scores')\n",
    "\n",
    "plt.subplot(2, 2, 4)\n",
    "plt.hist(CO_median['AVG_READING_8_SCORE'], color = 'green')\n",
    "plt.title('8th Grade Reading Scores')\n",
    "\n",
    "plt.show()"
   ]
  },
  {
   "cell_type": "code",
   "execution_count": 42,
   "metadata": {},
   "outputs": [
    {
     "name": "stdout",
     "output_type": "stream",
     "text": [
      "DISTRIBUTIONS USING INTERPOLATION METHOD TO FILL IN MISSING VALUES\n"
     ]
    },
    {
     "data": {
      "image/png": "[encoded data removed]",
      "text/plain": [
       "<Figure size 864x576 with 4 Axes>"
      ]
     },
     "metadata": {
      "needs_background": "light"
     },
     "output_type": "display_data"
    }
   ],
   "source": [
    "print(\"DISTRIBUTIONS USING INTERPOLATION METHOD TO FILL IN MISSING VALUES\")\n",
    "\n",
    "plt.figure(figsize=(12,8))\n",
    "\n",
    "plt.subplot(2, 2, 1)\n",
    "plt.hist(CO_int['AVG_MATH_4_SCORE'], color = 'blue')\n",
    "plt.title('4th Grade Math Scores')\n",
    "\n",
    "plt.subplot(2, 2, 2)\n",
    "plt.hist(CO_int['AVG_MATH_8_SCORE'], color = 'blue')\n",
    "plt.title('8th Grade Math Scores')\n",
    "\n",
    "plt.subplot(2, 2, 3)\n",
    "plt.hist(CO_int['AVG_READING_4_SCORE'], color = 'green')\n",
    "plt.title('4th Grade Reading Scores')\n",
    "\n",
    "plt.subplot(2, 2, 4)\n",
    "plt.hist(CO_int['AVG_READING_8_SCORE'], color = 'green')\n",
    "plt.title('8th Grade Reading Scores')\n",
    "\n",
    "plt.show()"
   ]
  },
  {
   "cell_type": "markdown",
   "metadata": {},
   "source": [
    "Since there are so many missing values, both the mean and median methods of filling in for missing values result in plots with huge spikes where those values are located. The interpolation method does a better job at spreading out the values and looks closer to the original plots. With so much missing information though it would be difficult to trust any of the above methods to accurately depict the missing data. "
   ]
  },
  {
   "cell_type": "code",
   "execution_count": null,
   "metadata": {},
   "outputs": [],
   "source": []
  }
 ],
 "metadata": {
  "kernelspec": {
   "display_name": "Python 3",
   "language": "python",
   "name": "python3"
  },
  "language_info": {
   "codemirror_mode": {
    "name": "ipython",
    "version": 3
   },
   "file_extension": ".py",
   "mimetype": "text/x-python",
   "name": "python",
   "nbconvert_exporter": "python",
   "pygments_lexer": "ipython3",
   "version": "3.7.3"
  }
 },
 "nbformat": 4,
 "nbformat_minor": 2
}
