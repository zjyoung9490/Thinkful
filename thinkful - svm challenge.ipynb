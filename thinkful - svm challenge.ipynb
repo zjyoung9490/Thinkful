{
 "cells": [
  {
   "cell_type": "code",
   "execution_count": 1,
   "metadata": {
    "run_control": {
     "frozen": false,
     "read_only": false
    }
   },
   "outputs": [],
   "source": [
    "import numpy as np\n",
    "import pandas as pd\n",
    "import scipy\n",
    "import matplotlib.pyplot as plt\n",
    "import seaborn as sns\n",
    "%matplotlib inline"
   ]
  },
  {
   "cell_type": "code",
   "execution_count": 107,
   "metadata": {
    "run_control": {
     "frozen": false,
     "read_only": false
    }
   },
   "outputs": [],
   "source": [
    "raw_data = pd.read_csv('https://tf-assets-prod.s3.amazonaws.com/tf-curric/data-science/epi_r.csv')"
   ]
  },
  {
   "cell_type": "code",
   "execution_count": 111,
   "metadata": {
    "run_control": {
     "frozen": false,
     "read_only": false
    },
    "scrolled": true
   },
   "outputs": [
    {
     "data": {
      "text/html": [
       "<div>\n",
       "<style scoped>\n",
       "    .dataframe tbody tr th:only-of-type {\n",
       "        vertical-align: middle;\n",
       "    }\n",
       "\n",
       "    .dataframe tbody tr th {\n",
       "        vertical-align: top;\n",
       "    }\n",
       "\n",
       "    .dataframe thead th {\n",
       "        text-align: right;\n",
       "    }\n",
       "</style>\n",
       "<table border=\"1\" class=\"dataframe\">\n",
       "  <thead>\n",
       "    <tr style=\"text-align: right;\">\n",
       "      <th></th>\n",
       "      <th>title</th>\n",
       "      <th>rating</th>\n",
       "      <th>calories</th>\n",
       "      <th>protein</th>\n",
       "      <th>fat</th>\n",
       "      <th>sodium</th>\n",
       "      <th>#cakeweek</th>\n",
       "      <th>#wasteless</th>\n",
       "      <th>22-minute meals</th>\n",
       "      <th>3-ingredient recipes</th>\n",
       "      <th>...</th>\n",
       "      <th>yonkers</th>\n",
       "      <th>yuca</th>\n",
       "      <th>zucchini</th>\n",
       "      <th>cookbooks</th>\n",
       "      <th>leftovers</th>\n",
       "      <th>snack</th>\n",
       "      <th>snack week</th>\n",
       "      <th>turkey</th>\n",
       "      <th>Good</th>\n",
       "      <th>Poor</th>\n",
       "    </tr>\n",
       "  </thead>\n",
       "  <tbody>\n",
       "    <tr>\n",
       "      <th>0</th>\n",
       "      <td>Lentil, Apple, and Turkey Wrap</td>\n",
       "      <td>Poor</td>\n",
       "      <td>426.0</td>\n",
       "      <td>30.0</td>\n",
       "      <td>7.0</td>\n",
       "      <td>559.0</td>\n",
       "      <td>0.0</td>\n",
       "      <td>0.0</td>\n",
       "      <td>0.0</td>\n",
       "      <td>0.0</td>\n",
       "      <td>...</td>\n",
       "      <td>0.0</td>\n",
       "      <td>0.0</td>\n",
       "      <td>0.0</td>\n",
       "      <td>0.0</td>\n",
       "      <td>0.0</td>\n",
       "      <td>0.0</td>\n",
       "      <td>0.0</td>\n",
       "      <td>1.0</td>\n",
       "      <td>0</td>\n",
       "      <td>1</td>\n",
       "    </tr>\n",
       "    <tr>\n",
       "      <th>1</th>\n",
       "      <td>Boudin Blanc Terrine with Red Onion Confit</td>\n",
       "      <td>Good</td>\n",
       "      <td>403.0</td>\n",
       "      <td>18.0</td>\n",
       "      <td>23.0</td>\n",
       "      <td>1439.0</td>\n",
       "      <td>0.0</td>\n",
       "      <td>0.0</td>\n",
       "      <td>0.0</td>\n",
       "      <td>0.0</td>\n",
       "      <td>...</td>\n",
       "      <td>0.0</td>\n",
       "      <td>0.0</td>\n",
       "      <td>0.0</td>\n",
       "      <td>0.0</td>\n",
       "      <td>0.0</td>\n",
       "      <td>0.0</td>\n",
       "      <td>0.0</td>\n",
       "      <td>0.0</td>\n",
       "      <td>1</td>\n",
       "      <td>0</td>\n",
       "    </tr>\n",
       "    <tr>\n",
       "      <th>2</th>\n",
       "      <td>Potato and Fennel Soup Hodge</td>\n",
       "      <td>Poor</td>\n",
       "      <td>165.0</td>\n",
       "      <td>6.0</td>\n",
       "      <td>7.0</td>\n",
       "      <td>165.0</td>\n",
       "      <td>0.0</td>\n",
       "      <td>0.0</td>\n",
       "      <td>0.0</td>\n",
       "      <td>0.0</td>\n",
       "      <td>...</td>\n",
       "      <td>0.0</td>\n",
       "      <td>0.0</td>\n",
       "      <td>0.0</td>\n",
       "      <td>0.0</td>\n",
       "      <td>0.0</td>\n",
       "      <td>0.0</td>\n",
       "      <td>0.0</td>\n",
       "      <td>0.0</td>\n",
       "      <td>0</td>\n",
       "      <td>1</td>\n",
       "    </tr>\n",
       "    <tr>\n",
       "      <th>3</th>\n",
       "      <td>Mahi-Mahi in Tomato Olive Sauce</td>\n",
       "      <td>Good</td>\n",
       "      <td>NaN</td>\n",
       "      <td>NaN</td>\n",
       "      <td>NaN</td>\n",
       "      <td>NaN</td>\n",
       "      <td>0.0</td>\n",
       "      <td>0.0</td>\n",
       "      <td>0.0</td>\n",
       "      <td>0.0</td>\n",
       "      <td>...</td>\n",
       "      <td>0.0</td>\n",
       "      <td>0.0</td>\n",
       "      <td>0.0</td>\n",
       "      <td>0.0</td>\n",
       "      <td>0.0</td>\n",
       "      <td>0.0</td>\n",
       "      <td>0.0</td>\n",
       "      <td>0.0</td>\n",
       "      <td>1</td>\n",
       "      <td>0</td>\n",
       "    </tr>\n",
       "    <tr>\n",
       "      <th>4</th>\n",
       "      <td>Spinach Noodle Casserole</td>\n",
       "      <td>Poor</td>\n",
       "      <td>547.0</td>\n",
       "      <td>20.0</td>\n",
       "      <td>32.0</td>\n",
       "      <td>452.0</td>\n",
       "      <td>0.0</td>\n",
       "      <td>0.0</td>\n",
       "      <td>0.0</td>\n",
       "      <td>0.0</td>\n",
       "      <td>...</td>\n",
       "      <td>0.0</td>\n",
       "      <td>0.0</td>\n",
       "      <td>0.0</td>\n",
       "      <td>0.0</td>\n",
       "      <td>0.0</td>\n",
       "      <td>0.0</td>\n",
       "      <td>0.0</td>\n",
       "      <td>0.0</td>\n",
       "      <td>0</td>\n",
       "      <td>1</td>\n",
       "    </tr>\n",
       "  </tbody>\n",
       "</table>\n",
       "<p>5 rows × 682 columns</p>\n",
       "</div>"
      ],
      "text/plain": [
       "                                         title rating  calories  protein  \\\n",
       "0              Lentil, Apple, and Turkey Wrap    Poor     426.0     30.0   \n",
       "1  Boudin Blanc Terrine with Red Onion Confit    Good     403.0     18.0   \n",
       "2                Potato and Fennel Soup Hodge    Poor     165.0      6.0   \n",
       "3             Mahi-Mahi in Tomato Olive Sauce    Good       NaN      NaN   \n",
       "4                    Spinach Noodle Casserole    Poor     547.0     20.0   \n",
       "\n",
       "    fat  sodium  #cakeweek  #wasteless  22-minute meals  3-ingredient recipes  \\\n",
       "0   7.0   559.0        0.0         0.0              0.0                   0.0   \n",
       "1  23.0  1439.0        0.0         0.0              0.0                   0.0   \n",
       "2   7.0   165.0        0.0         0.0              0.0                   0.0   \n",
       "3   NaN     NaN        0.0         0.0              0.0                   0.0   \n",
       "4  32.0   452.0        0.0         0.0              0.0                   0.0   \n",
       "\n",
       "   ...  yonkers  yuca  zucchini  cookbooks  leftovers  snack  snack week  \\\n",
       "0  ...      0.0   0.0       0.0        0.0        0.0    0.0         0.0   \n",
       "1  ...      0.0   0.0       0.0        0.0        0.0    0.0         0.0   \n",
       "2  ...      0.0   0.0       0.0        0.0        0.0    0.0         0.0   \n",
       "3  ...      0.0   0.0       0.0        0.0        0.0    0.0         0.0   \n",
       "4  ...      0.0   0.0       0.0        0.0        0.0    0.0         0.0   \n",
       "\n",
       "   turkey  Good  Poor  \n",
       "0     1.0     0     1  \n",
       "1     0.0     1     0  \n",
       "2     0.0     0     1  \n",
       "3     0.0     1     0  \n",
       "4     0.0     0     1  \n",
       "\n",
       "[5 rows x 682 columns]"
      ]
     },
     "execution_count": 111,
     "metadata": {},
     "output_type": "execute_result"
    }
   ],
   "source": [
    "raw_data.head()"
   ]
  },
  {
   "cell_type": "code",
   "execution_count": 65,
   "metadata": {
    "run_control": {
     "frozen": false,
     "read_only": false
    },
    "scrolled": true
   },
   "outputs": [
    {
     "data": {
      "text/plain": [
       "count    20052.000000\n",
       "mean         3.714467\n",
       "std          1.340829\n",
       "min          0.000000\n",
       "25%          3.750000\n",
       "50%          4.375000\n",
       "75%          4.375000\n",
       "max          5.000000\n",
       "Name: rating, dtype: float64"
      ]
     },
     "execution_count": 65,
     "metadata": {},
     "output_type": "execute_result"
    }
   ],
   "source": [
    "raw_data.rating.describe()"
   ]
  },
  {
   "cell_type": "code",
   "execution_count": 66,
   "metadata": {},
   "outputs": [
    {
     "data": {
      "text/plain": [
       "4.375    8019\n",
       "3.750    5169\n",
       "5.000    2719\n",
       "0.000    1836\n",
       "3.125    1489\n",
       "2.500     532\n",
       "1.250     164\n",
       "1.875     124\n",
       "Name: rating, dtype: int64"
      ]
     },
     "execution_count": 66,
     "metadata": {},
     "output_type": "execute_result"
    }
   ],
   "source": [
    "raw_data.rating.value_counts()"
   ]
  },
  {
   "cell_type": "markdown",
   "metadata": {},
   "source": [
    "Looking at the value counts of the different ratings we see the vast majority lie at 3.750 or greater. This seems like a good cutoff for the binary classifier. Anything less than or equal to 3.750 will be a poor recipe and anything greater than this will be a good recipe. "
   ]
  },
  {
   "cell_type": "code",
   "execution_count": 108,
   "metadata": {},
   "outputs": [],
   "source": [
    "# Change the target to a binary outcome\n",
    "raw_data.rating.replace(to_replace = [4.375, 5.0], value = 'Good', inplace = True)\n",
    "raw_data.rating.replace(to_replace = [0.0, 3.125, 3.75, 2.5, 1.25, 1.875], value = 'Poor', inplace = True)"
   ]
  },
  {
   "cell_type": "code",
   "execution_count": 118,
   "metadata": {},
   "outputs": [
    {
     "data": {
      "text/plain": [
       "Good    10738\n",
       "Poor     9314\n",
       "Name: rating, dtype: int64"
      ]
     },
     "execution_count": 118,
     "metadata": {},
     "output_type": "execute_result"
    }
   ],
   "source": [
    "# Reexamine value counts\n",
    "raw_data.rating.value_counts()"
   ]
  },
  {
   "cell_type": "code",
   "execution_count": 110,
   "metadata": {},
   "outputs": [],
   "source": [
    "# Add the dummy variables to the data frame \n",
    "raw_data = pd.concat([raw_data, pd.get_dummies(raw_data['rating'])], axis = 1)"
   ]
  },
  {
   "cell_type": "code",
   "execution_count": 119,
   "metadata": {
    "run_control": {
     "frozen": false,
     "read_only": false
    }
   },
   "outputs": [
    {
     "data": {
      "text/plain": [
       "title                     0.000000\n",
       "rating                    0.000000\n",
       "calories                 25.836210\n",
       "protein                  26.192574\n",
       "fat                      26.359569\n",
       "sodium                   25.852005\n",
       "#cakeweek                 0.000000\n",
       "#wasteless                0.000000\n",
       "22-minute meals           0.000000\n",
       "3-ingredient recipes      0.000000\n",
       "30 days of groceries      0.000000\n",
       "advance prep required     0.000000\n",
       "alabama                   0.000000\n",
       "alaska                    0.000000\n",
       "alcoholic                 0.000000\n",
       "almond                    0.000000\n",
       "amaretto                  0.000000\n",
       "anchovy                   0.000000\n",
       "anise                     0.000000\n",
       "anniversary               0.000000\n",
       "anthony bourdain          0.000000\n",
       "aperitif                  0.000000\n",
       "appetizer                 0.000000\n",
       "apple                     0.000000\n",
       "apple juice               0.000000\n",
       "apricot                   0.000000\n",
       "arizona                   0.000000\n",
       "artichoke                 0.000000\n",
       "arugula                   0.000000\n",
       "asian pear                0.000000\n",
       "                           ...    \n",
       "washington                0.000000\n",
       "washington, d.c.          0.000000\n",
       "watercress                0.000000\n",
       "watermelon                0.000000\n",
       "wedding                   0.000000\n",
       "weelicious                0.000000\n",
       "west virginia             0.000000\n",
       "westwood                  0.000000\n",
       "wheat/gluten-free         0.000000\n",
       "whiskey                   0.000000\n",
       "white wine                0.000000\n",
       "whole wheat               0.000000\n",
       "wild rice                 0.000000\n",
       "windsor                   0.000000\n",
       "wine                      0.000000\n",
       "winter                    0.000000\n",
       "wisconsin                 0.000000\n",
       "wok                       0.000000\n",
       "yellow squash             0.000000\n",
       "yogurt                    0.000000\n",
       "yonkers                   0.000000\n",
       "yuca                      0.000000\n",
       "zucchini                  0.000000\n",
       "cookbooks                 0.000000\n",
       "leftovers                 0.000000\n",
       "snack                     0.000000\n",
       "snack week                0.000000\n",
       "turkey                    0.000000\n",
       "Good                      0.000000\n",
       "Poor                      0.000000\n",
       "Length: 682, dtype: float64"
      ]
     },
     "execution_count": 119,
     "metadata": {},
     "output_type": "execute_result"
    }
   ],
   "source": [
    "# Count null percentages \n",
    "raw_data.isnull().sum() * 100/raw_data.count()"
   ]
  },
  {
   "cell_type": "markdown",
   "metadata": {
    "run_control": {
     "frozen": false,
     "read_only": false
    }
   },
   "source": [
    "Over 25% of the nutritional information is missing, that is a lot to clean up so for now we will exclude it from the model. If improvements need to be made we can come back to this. "
   ]
  },
  {
   "cell_type": "code",
   "execution_count": 113,
   "metadata": {},
   "outputs": [
    {
     "name": "stdout",
     "output_type": "stream",
     "text": [
      "                 Specs         Score\n",
      "675               Poor  10738.000000\n",
      "674               Good   9314.000000\n",
      "277     house & garden    168.736737\n",
      "186              drink    130.854678\n",
      "8            alcoholic    114.406372\n",
      "57         bon appétit    100.806123\n",
      "235                gin    100.128167\n",
      "520              roast     87.120913\n",
      "616       thanksgiving     83.703405\n",
      "134     cocktail party     76.283693\n",
      "179             dinner     67.082465\n",
      "580             spirit     64.501838\n",
      "124          christmas     56.284523\n",
      "50             bitters     55.865868\n",
      "574           soy free     51.798720\n",
      "453        peanut free     50.641030\n",
      "251     grill/barbecue     49.678538\n",
      "343            low fat     46.345607\n",
      "30        backyard bbq     43.456861\n",
      "133           cocktail     41.317475\n",
      "204               fall     36.940820\n",
      "250              grill     35.906342\n",
      "593  stuffing/dressing     35.891319\n",
      "262      harpercollins     35.737446\n",
      "446              pasta     35.436904\n",
      "526                rum     34.444240\n",
      "237        goat cheese     33.527695\n",
      "624      tree nut free     29.899705\n",
      "590           stir-fry     29.136072\n",
      "634              vegan     28.338021\n",
      "207       father's day     26.414178\n",
      "367               meat     25.336066\n"
     ]
    }
   ],
   "source": [
    "# Find the 30 best features\n",
    "sklearn.feature_selection import SelectKBest\n",
    "from sklearn.feature_selection import chi2\n",
    "\n",
    "X = raw_data.iloc[:, 6:]\n",
    "y = raw_data.iloc[:, 1]\n",
    "\n",
    "bestfeatures = SelectKBest(score_func = chi2, k = 32)\n",
    "fit = bestfeatures.fit(X, y)\n",
    "dfscores = pd.DataFrame(fit.scores_)\n",
    "dfcolumns = pd.DataFrame(X.columns)\n",
    "scores = pd.concat([dfcolumns, dfscores], axis = 1)\n",
    "scores.columns = ['Specs', 'Score']\n",
    "print(scores.nlargest(32, 'Score'))"
   ]
  },
  {
   "cell_type": "code",
   "execution_count": 117,
   "metadata": {},
   "outputs": [],
   "source": [
    "# Select top features for target\n",
    "target = raw_data[['bon appétit', 'peanut free', 'soy free', 'tree nut free', 'vegan', 'grill', 'grill/barbecue', 'dinner',\n",
    "                   'house & garden', 'drink', 'alcoholic', 'gin', 'roast', 'thanksgiving', 'cocktail party', 'christmas',\n",
    "                   'spirit', 'bitters', 'cocktail', 'backyard bbq', 'low fat', 'fall', 'stuffing/dressing', 'pasta', 'rum',     \n",
    "                   'harpercollins', 'goat cheese', 'stir-fry', 'meat', 'father\\'s day']]\n"
   ]
  },
  {
   "cell_type": "markdown",
   "metadata": {},
   "source": [
    "### Support Vector Machine Model"
   ]
  },
  {
   "cell_type": "code",
   "execution_count": 125,
   "metadata": {
    "run_control": {
     "frozen": false,
     "read_only": false
    }
   },
   "outputs": [
    {
     "name": "stderr",
     "output_type": "stream",
     "text": [
      "C:\\Users\\mike1\\Anaconda3\\lib\\site-packages\\sklearn\\svm\\base.py:196: FutureWarning: The default value of gamma will change from 'auto' to 'scale' in version 0.22 to account better for unscaled features. Set gamma explicitly to 'auto' or 'scale' to avoid this warning.\n",
      "  \"avoid this warning.\", FutureWarning)\n"
     ]
    },
    {
     "data": {
      "text/plain": [
       "SVR(C=1.0, cache_size=200, coef0=0.0, degree=3, epsilon=0.1,\n",
       "  gamma='auto_deprecated', kernel='rbf', max_iter=-1, shrinking=True,\n",
       "  tol=0.001, verbose=False)"
      ]
     },
     "execution_count": 125,
     "metadata": {},
     "output_type": "execute_result"
    }
   ],
   "source": [
    "from sklearn.svm import SVR\n",
    "svr = SVR()\n",
    "X = target.sample(frac=0.3, replace=True, random_state=1)\n",
    "Y = raw_data.Good.sample(frac=0.3, replace=True, random_state=1)\n",
    "svr.fit(X,Y)"
   ]
  },
  {
   "cell_type": "code",
   "execution_count": 127,
   "metadata": {
    "run_control": {
     "frozen": false,
     "read_only": false
    }
   },
   "outputs": [
    {
     "data": {
      "text/plain": [
       "-0.1474697961207876"
      ]
     },
     "execution_count": 127,
     "metadata": {},
     "output_type": "execute_result"
    }
   ],
   "source": [
    "svr.score(X, Y)"
   ]
  },
  {
   "cell_type": "code",
   "execution_count": 122,
   "metadata": {
    "run_control": {
     "frozen": false,
     "read_only": false
    }
   },
   "outputs": [
    {
     "name": "stderr",
     "output_type": "stream",
     "text": [
      "C:\\Users\\mike1\\Anaconda3\\lib\\site-packages\\sklearn\\svm\\base.py:196: FutureWarning: The default value of gamma will change from 'auto' to 'scale' in version 0.22 to account better for unscaled features. Set gamma explicitly to 'auto' or 'scale' to avoid this warning.\n",
      "  \"avoid this warning.\", FutureWarning)\n",
      "C:\\Users\\mike1\\Anaconda3\\lib\\site-packages\\sklearn\\svm\\base.py:196: FutureWarning: The default value of gamma will change from 'auto' to 'scale' in version 0.22 to account better for unscaled features. Set gamma explicitly to 'auto' or 'scale' to avoid this warning.\n",
      "  \"avoid this warning.\", FutureWarning)\n",
      "C:\\Users\\mike1\\Anaconda3\\lib\\site-packages\\sklearn\\svm\\base.py:196: FutureWarning: The default value of gamma will change from 'auto' to 'scale' in version 0.22 to account better for unscaled features. Set gamma explicitly to 'auto' or 'scale' to avoid this warning.\n",
      "  \"avoid this warning.\", FutureWarning)\n",
      "C:\\Users\\mike1\\Anaconda3\\lib\\site-packages\\sklearn\\svm\\base.py:196: FutureWarning: The default value of gamma will change from 'auto' to 'scale' in version 0.22 to account better for unscaled features. Set gamma explicitly to 'auto' or 'scale' to avoid this warning.\n",
      "  \"avoid this warning.\", FutureWarning)\n",
      "C:\\Users\\mike1\\Anaconda3\\lib\\site-packages\\sklearn\\svm\\base.py:196: FutureWarning: The default value of gamma will change from 'auto' to 'scale' in version 0.22 to account better for unscaled features. Set gamma explicitly to 'auto' or 'scale' to avoid this warning.\n",
      "  \"avoid this warning.\", FutureWarning)\n"
     ]
    },
    {
     "data": {
      "text/plain": [
       "array([-0.17459752, -0.13355313, -0.14252552, -0.2093981 , -0.12044203])"
      ]
     },
     "execution_count": 122,
     "metadata": {},
     "output_type": "execute_result"
    }
   ],
   "source": [
    "from sklearn.model_selection import cross_val_score\n",
    "cross_val_score(svr, X, Y, cv=5)"
   ]
  }
 ],
 "metadata": {
  "hide_input": false,
  "kernelspec": {
   "display_name": "Python 3",
   "language": "python",
   "name": "python3"
  },
  "language_info": {
   "codemirror_mode": {
    "name": "ipython",
    "version": 3
   },
   "file_extension": ".py",
   "mimetype": "text/x-python",
   "name": "python",
   "nbconvert_exporter": "python",
   "pygments_lexer": "ipython3",
   "version": "3.7.3"
  },
  "toc": {
   "colors": {
    "hover_highlight": "#DAA520",
    "running_highlight": "#FF0000",
    "selected_highlight": "#FFD700"
   },
   "moveMenuLeft": true,
   "nav_menu": {
    "height": "12px",
    "width": "252px"
   },
   "navigate_menu": true,
   "number_sections": true,
   "sideBar": true,
   "threshold": 4,
   "toc_cell": false,
   "toc_section_display": "block",
   "toc_window_display": false
  }
 },
 "nbformat": 4,
 "nbformat_minor": 2
}
