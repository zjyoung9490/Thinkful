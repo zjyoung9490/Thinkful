{
 "cells": [
  {
   "cell_type": "markdown",
   "metadata": {},
   "source": [
    "## Breast Cancer Proteomes\n",
    "### Dividing cancer patients into separate sub-classes"
   ]
  },
  {
   "cell_type": "markdown",
   "metadata": {},
   "source": [
    "The data was acquired to assess how the mutations in the DNA are affecting the protein expression landscape in breast cancer. Genes in our DNA are first transcribed into RNA molecules which then are translated into proteins. Changing the information content of DNA has impact on the behavior of the proteome, which is the main functional unit of cells, taking care of cell division, DNA repair, enzymatic reactions and signaling etc. They original study performed K-means clustering on the protein data to divide the breast cancer patients into sub-types, each having unique protein expression signature. They found that the best clustering was achieved using 3 clusters (original PAM50 gene set yields four different subtypes using RNA data). I'll run various dimensionality reduction techniques and clustering methods and compare my results with the original study."
   ]
  },
  {
   "cell_type": "code",
   "execution_count": 1,
   "metadata": {},
   "outputs": [],
   "source": [
    "import numpy as np\n",
    "import pandas as pd\n",
    "import matplotlib.pyplot as plt\n",
    "import seaborn as sns\n",
    "import re\n",
    "from sklearn.cluster import KMeans\n",
    "from sklearn.mixture import GaussianMixture\n",
    "from sklearn.cluster import AgglomerativeClustering\n",
    "from scipy.cluster.hierarchy import dendrogram, linkage\n",
    "from sklearn.preprocessing import StandardScaler\n",
    "from sklearn.model_selection import train_test_split\n",
    "from sklearn.decomposition import PCA\n",
    "from sklearn import datasets, metrics\n",
    "from sklearn.manifold import TSNE\n",
    "import umap"
   ]
  },
  {
   "cell_type": "code",
   "execution_count": 2,
   "metadata": {},
   "outputs": [],
   "source": [
    "# Load data\n",
    "expression = pd.read_csv(r'C:\\Users\\mike1\\Documents\\Thinkful\\77_cancer_proteomes_CPTAC_itraq.csv', header = 0, index_col = 0)\n",
    "clinical = pd.read_csv(r'C:\\Users\\mike1\\Documents\\Thinkful\\clinical_data_breast_cancer.csv', header = 0, index_col = 0)\n",
    "proteins = pd.read_csv(r'C:\\Users\\mike1\\Documents\\Thinkful\\PAM50_proteins.csv', header = 0, index_col = 0)"
   ]
  },
  {
   "cell_type": "markdown",
   "metadata": {},
   "source": [
    "## Data Exploration: Protein Expression Data"
   ]
  },
  {
   "cell_type": "code",
   "execution_count": 3,
   "metadata": {},
   "outputs": [
    {
     "data": {
      "text/html": [
       "<div>\n",
       "<style scoped>\n",
       "    .dataframe tbody tr th:only-of-type {\n",
       "        vertical-align: middle;\n",
       "    }\n",
       "\n",
       "    .dataframe tbody tr th {\n",
       "        vertical-align: top;\n",
       "    }\n",
       "\n",
       "    .dataframe thead th {\n",
       "        text-align: right;\n",
       "    }\n",
       "</style>\n",
       "<table border=\"1\" class=\"dataframe\">\n",
       "  <thead>\n",
       "    <tr style=\"text-align: right;\">\n",
       "      <th></th>\n",
       "      <th>gene_symbol</th>\n",
       "      <th>gene_name</th>\n",
       "      <th>AO-A12D.01TCGA</th>\n",
       "      <th>C8-A131.01TCGA</th>\n",
       "      <th>AO-A12B.01TCGA</th>\n",
       "      <th>BH-A18Q.02TCGA</th>\n",
       "      <th>C8-A130.02TCGA</th>\n",
       "      <th>C8-A138.03TCGA</th>\n",
       "      <th>E2-A154.03TCGA</th>\n",
       "      <th>C8-A12L.04TCGA</th>\n",
       "      <th>...</th>\n",
       "      <th>AO-A12B.34TCGA</th>\n",
       "      <th>A2-A0SW.35TCGA</th>\n",
       "      <th>AO-A0JL.35TCGA</th>\n",
       "      <th>BH-A0BV.35TCGA</th>\n",
       "      <th>A2-A0YM.36TCGA</th>\n",
       "      <th>BH-A0C7.36TCGA</th>\n",
       "      <th>A2-A0SX.36TCGA</th>\n",
       "      <th>263d3f-I.CPTAC</th>\n",
       "      <th>blcdb9-I.CPTAC</th>\n",
       "      <th>c4155b-C.CPTAC</th>\n",
       "    </tr>\n",
       "    <tr>\n",
       "      <th>RefSeq_accession_number</th>\n",
       "      <th></th>\n",
       "      <th></th>\n",
       "      <th></th>\n",
       "      <th></th>\n",
       "      <th></th>\n",
       "      <th></th>\n",
       "      <th></th>\n",
       "      <th></th>\n",
       "      <th></th>\n",
       "      <th></th>\n",
       "      <th></th>\n",
       "      <th></th>\n",
       "      <th></th>\n",
       "      <th></th>\n",
       "      <th></th>\n",
       "      <th></th>\n",
       "      <th></th>\n",
       "      <th></th>\n",
       "      <th></th>\n",
       "      <th></th>\n",
       "      <th></th>\n",
       "    </tr>\n",
       "  </thead>\n",
       "  <tbody>\n",
       "    <tr>\n",
       "      <th>NP_958782</th>\n",
       "      <td>PLEC</td>\n",
       "      <td>plectin isoform 1</td>\n",
       "      <td>1.096131</td>\n",
       "      <td>2.609943</td>\n",
       "      <td>-0.659828</td>\n",
       "      <td>0.195341</td>\n",
       "      <td>-0.494060</td>\n",
       "      <td>2.765081</td>\n",
       "      <td>0.862659</td>\n",
       "      <td>1.407570</td>\n",
       "      <td>...</td>\n",
       "      <td>-0.963904</td>\n",
       "      <td>-0.487772</td>\n",
       "      <td>-0.10668</td>\n",
       "      <td>-0.065838</td>\n",
       "      <td>0.655850</td>\n",
       "      <td>-0.552212</td>\n",
       "      <td>-0.398560</td>\n",
       "      <td>0.598585</td>\n",
       "      <td>-0.191285</td>\n",
       "      <td>0.566975</td>\n",
       "    </tr>\n",
       "    <tr>\n",
       "      <th>NP_958785</th>\n",
       "      <td>NaN</td>\n",
       "      <td>plectin isoform 1g</td>\n",
       "      <td>1.111370</td>\n",
       "      <td>2.650422</td>\n",
       "      <td>-0.648742</td>\n",
       "      <td>0.215413</td>\n",
       "      <td>-0.503899</td>\n",
       "      <td>2.779709</td>\n",
       "      <td>0.870186</td>\n",
       "      <td>1.407570</td>\n",
       "      <td>...</td>\n",
       "      <td>-0.938210</td>\n",
       "      <td>-0.487772</td>\n",
       "      <td>-0.10668</td>\n",
       "      <td>-0.055893</td>\n",
       "      <td>0.658143</td>\n",
       "      <td>-0.547749</td>\n",
       "      <td>-0.392601</td>\n",
       "      <td>0.606697</td>\n",
       "      <td>-0.183918</td>\n",
       "      <td>0.578702</td>\n",
       "    </tr>\n",
       "    <tr>\n",
       "      <th>NP_958786</th>\n",
       "      <td>PLEC</td>\n",
       "      <td>plectin isoform 1a</td>\n",
       "      <td>1.111370</td>\n",
       "      <td>2.650422</td>\n",
       "      <td>-0.654285</td>\n",
       "      <td>0.215413</td>\n",
       "      <td>-0.500619</td>\n",
       "      <td>2.779709</td>\n",
       "      <td>0.870186</td>\n",
       "      <td>1.410312</td>\n",
       "      <td>...</td>\n",
       "      <td>-0.943919</td>\n",
       "      <td>-0.487772</td>\n",
       "      <td>-0.10668</td>\n",
       "      <td>-0.065838</td>\n",
       "      <td>0.655850</td>\n",
       "      <td>-0.552212</td>\n",
       "      <td>-0.392601</td>\n",
       "      <td>0.603993</td>\n",
       "      <td>-0.186022</td>\n",
       "      <td>0.576747</td>\n",
       "    </tr>\n",
       "    <tr>\n",
       "      <th>NP_000436</th>\n",
       "      <td>NaN</td>\n",
       "      <td>plectin isoform 1c</td>\n",
       "      <td>1.107561</td>\n",
       "      <td>2.646374</td>\n",
       "      <td>-0.632113</td>\n",
       "      <td>0.205377</td>\n",
       "      <td>-0.510459</td>\n",
       "      <td>2.797995</td>\n",
       "      <td>0.866423</td>\n",
       "      <td>1.407570</td>\n",
       "      <td>...</td>\n",
       "      <td>-0.935355</td>\n",
       "      <td>-0.487772</td>\n",
       "      <td>-0.10668</td>\n",
       "      <td>-0.055893</td>\n",
       "      <td>0.655850</td>\n",
       "      <td>-0.552212</td>\n",
       "      <td>-0.392601</td>\n",
       "      <td>0.603993</td>\n",
       "      <td>-0.186022</td>\n",
       "      <td>0.576747</td>\n",
       "    </tr>\n",
       "    <tr>\n",
       "      <th>NP_958781</th>\n",
       "      <td>NaN</td>\n",
       "      <td>plectin isoform 1e</td>\n",
       "      <td>1.115180</td>\n",
       "      <td>2.646374</td>\n",
       "      <td>-0.640428</td>\n",
       "      <td>0.215413</td>\n",
       "      <td>-0.503899</td>\n",
       "      <td>2.787023</td>\n",
       "      <td>0.870186</td>\n",
       "      <td>1.413053</td>\n",
       "      <td>...</td>\n",
       "      <td>-0.935355</td>\n",
       "      <td>-0.503853</td>\n",
       "      <td>-0.10668</td>\n",
       "      <td>-0.062523</td>\n",
       "      <td>0.651264</td>\n",
       "      <td>-0.556675</td>\n",
       "      <td>-0.395581</td>\n",
       "      <td>0.603993</td>\n",
       "      <td>-0.167079</td>\n",
       "      <td>0.576747</td>\n",
       "    </tr>\n",
       "  </tbody>\n",
       "</table>\n",
       "<p>5 rows × 85 columns</p>\n",
       "</div>"
      ],
      "text/plain": [
       "                        gene_symbol           gene_name  AO-A12D.01TCGA  \\\n",
       "RefSeq_accession_number                                                   \n",
       "NP_958782                      PLEC   plectin isoform 1        1.096131   \n",
       "NP_958785                       NaN  plectin isoform 1g        1.111370   \n",
       "NP_958786                      PLEC  plectin isoform 1a        1.111370   \n",
       "NP_000436                       NaN  plectin isoform 1c        1.107561   \n",
       "NP_958781                       NaN  plectin isoform 1e        1.115180   \n",
       "\n",
       "                         C8-A131.01TCGA  AO-A12B.01TCGA  BH-A18Q.02TCGA  \\\n",
       "RefSeq_accession_number                                                   \n",
       "NP_958782                      2.609943       -0.659828        0.195341   \n",
       "NP_958785                      2.650422       -0.648742        0.215413   \n",
       "NP_958786                      2.650422       -0.654285        0.215413   \n",
       "NP_000436                      2.646374       -0.632113        0.205377   \n",
       "NP_958781                      2.646374       -0.640428        0.215413   \n",
       "\n",
       "                         C8-A130.02TCGA  C8-A138.03TCGA  E2-A154.03TCGA  \\\n",
       "RefSeq_accession_number                                                   \n",
       "NP_958782                     -0.494060        2.765081        0.862659   \n",
       "NP_958785                     -0.503899        2.779709        0.870186   \n",
       "NP_958786                     -0.500619        2.779709        0.870186   \n",
       "NP_000436                     -0.510459        2.797995        0.866423   \n",
       "NP_958781                     -0.503899        2.787023        0.870186   \n",
       "\n",
       "                         C8-A12L.04TCGA  ...  AO-A12B.34TCGA  A2-A0SW.35TCGA  \\\n",
       "RefSeq_accession_number                  ...                                   \n",
       "NP_958782                      1.407570  ...       -0.963904       -0.487772   \n",
       "NP_958785                      1.407570  ...       -0.938210       -0.487772   \n",
       "NP_958786                      1.410312  ...       -0.943919       -0.487772   \n",
       "NP_000436                      1.407570  ...       -0.935355       -0.487772   \n",
       "NP_958781                      1.413053  ...       -0.935355       -0.503853   \n",
       "\n",
       "                         AO-A0JL.35TCGA  BH-A0BV.35TCGA  A2-A0YM.36TCGA  \\\n",
       "RefSeq_accession_number                                                   \n",
       "NP_958782                      -0.10668       -0.065838        0.655850   \n",
       "NP_958785                      -0.10668       -0.055893        0.658143   \n",
       "NP_958786                      -0.10668       -0.065838        0.655850   \n",
       "NP_000436                      -0.10668       -0.055893        0.655850   \n",
       "NP_958781                      -0.10668       -0.062523        0.651264   \n",
       "\n",
       "                         BH-A0C7.36TCGA  A2-A0SX.36TCGA  263d3f-I.CPTAC  \\\n",
       "RefSeq_accession_number                                                   \n",
       "NP_958782                     -0.552212       -0.398560        0.598585   \n",
       "NP_958785                     -0.547749       -0.392601        0.606697   \n",
       "NP_958786                     -0.552212       -0.392601        0.603993   \n",
       "NP_000436                     -0.552212       -0.392601        0.603993   \n",
       "NP_958781                     -0.556675       -0.395581        0.603993   \n",
       "\n",
       "                         blcdb9-I.CPTAC  c4155b-C.CPTAC  \n",
       "RefSeq_accession_number                                  \n",
       "NP_958782                     -0.191285        0.566975  \n",
       "NP_958785                     -0.183918        0.578702  \n",
       "NP_958786                     -0.186022        0.576747  \n",
       "NP_000436                     -0.186022        0.576747  \n",
       "NP_958781                     -0.167079        0.576747  \n",
       "\n",
       "[5 rows x 85 columns]"
      ]
     },
     "execution_count": 3,
     "metadata": {},
     "output_type": "execute_result"
    }
   ],
   "source": [
    "expression.head()"
   ]
  },
  {
   "cell_type": "code",
   "execution_count": 4,
   "metadata": {},
   "outputs": [
    {
     "data": {
      "text/html": [
       "<div>\n",
       "<style scoped>\n",
       "    .dataframe tbody tr th:only-of-type {\n",
       "        vertical-align: middle;\n",
       "    }\n",
       "\n",
       "    .dataframe tbody tr th {\n",
       "        vertical-align: top;\n",
       "    }\n",
       "\n",
       "    .dataframe thead th {\n",
       "        text-align: right;\n",
       "    }\n",
       "</style>\n",
       "<table border=\"1\" class=\"dataframe\">\n",
       "  <thead>\n",
       "    <tr style=\"text-align: right;\">\n",
       "      <th></th>\n",
       "      <th>AO-A12D.01TCGA</th>\n",
       "      <th>C8-A131.01TCGA</th>\n",
       "      <th>AO-A12B.01TCGA</th>\n",
       "      <th>BH-A18Q.02TCGA</th>\n",
       "      <th>C8-A130.02TCGA</th>\n",
       "      <th>C8-A138.03TCGA</th>\n",
       "      <th>E2-A154.03TCGA</th>\n",
       "      <th>C8-A12L.04TCGA</th>\n",
       "      <th>A2-A0EX.04TCGA</th>\n",
       "      <th>AO-A12D.05TCGA</th>\n",
       "      <th>...</th>\n",
       "      <th>AO-A12B.34TCGA</th>\n",
       "      <th>A2-A0SW.35TCGA</th>\n",
       "      <th>AO-A0JL.35TCGA</th>\n",
       "      <th>BH-A0BV.35TCGA</th>\n",
       "      <th>A2-A0YM.36TCGA</th>\n",
       "      <th>BH-A0C7.36TCGA</th>\n",
       "      <th>A2-A0SX.36TCGA</th>\n",
       "      <th>263d3f-I.CPTAC</th>\n",
       "      <th>blcdb9-I.CPTAC</th>\n",
       "      <th>c4155b-C.CPTAC</th>\n",
       "    </tr>\n",
       "  </thead>\n",
       "  <tbody>\n",
       "    <tr>\n",
       "      <th>count</th>\n",
       "      <td>11334.000000</td>\n",
       "      <td>11335.000000</td>\n",
       "      <td>11334.000000</td>\n",
       "      <td>12024.000000</td>\n",
       "      <td>12025.000000</td>\n",
       "      <td>11833.000000</td>\n",
       "      <td>11833.000000</td>\n",
       "      <td>11732.000000</td>\n",
       "      <td>11732.000000</td>\n",
       "      <td>11276.000000</td>\n",
       "      <td>...</td>\n",
       "      <td>11477.000000</td>\n",
       "      <td>10324.000000</td>\n",
       "      <td>10324.000000</td>\n",
       "      <td>10324.000000</td>\n",
       "      <td>9694.000000</td>\n",
       "      <td>9693.000000</td>\n",
       "      <td>9697.000000</td>\n",
       "      <td>10912.000000</td>\n",
       "      <td>10885.000000</td>\n",
       "      <td>10913.000000</td>\n",
       "    </tr>\n",
       "    <tr>\n",
       "      <th>mean</th>\n",
       "      <td>0.133079</td>\n",
       "      <td>0.128822</td>\n",
       "      <td>-0.440764</td>\n",
       "      <td>-0.729233</td>\n",
       "      <td>-0.039436</td>\n",
       "      <td>0.115353</td>\n",
       "      <td>-0.618354</td>\n",
       "      <td>-0.305320</td>\n",
       "      <td>-0.021228</td>\n",
       "      <td>0.077247</td>\n",
       "      <td>...</td>\n",
       "      <td>-0.677085</td>\n",
       "      <td>-0.103215</td>\n",
       "      <td>-0.021222</td>\n",
       "      <td>-0.100912</td>\n",
       "      <td>0.488502</td>\n",
       "      <td>-0.368762</td>\n",
       "      <td>-0.050669</td>\n",
       "      <td>0.069555</td>\n",
       "      <td>-0.298170</td>\n",
       "      <td>0.310974</td>\n",
       "    </tr>\n",
       "    <tr>\n",
       "      <th>std</th>\n",
       "      <td>1.734231</td>\n",
       "      <td>1.579845</td>\n",
       "      <td>1.634930</td>\n",
       "      <td>2.422452</td>\n",
       "      <td>1.353505</td>\n",
       "      <td>1.652918</td>\n",
       "      <td>2.281818</td>\n",
       "      <td>1.567687</td>\n",
       "      <td>1.651917</td>\n",
       "      <td>1.749695</td>\n",
       "      <td>...</td>\n",
       "      <td>2.018394</td>\n",
       "      <td>1.570606</td>\n",
       "      <td>1.656519</td>\n",
       "      <td>1.628017</td>\n",
       "      <td>1.658080</td>\n",
       "      <td>1.453737</td>\n",
       "      <td>1.716237</td>\n",
       "      <td>1.950822</td>\n",
       "      <td>1.307027</td>\n",
       "      <td>1.706759</td>\n",
       "    </tr>\n",
       "    <tr>\n",
       "      <th>min</th>\n",
       "      <td>-12.466750</td>\n",
       "      <td>-13.156553</td>\n",
       "      <td>-9.911008</td>\n",
       "      <td>-24.553794</td>\n",
       "      <td>-15.004199</td>\n",
       "      <td>-12.956961</td>\n",
       "      <td>-16.640848</td>\n",
       "      <td>-18.710032</td>\n",
       "      <td>-14.711526</td>\n",
       "      <td>-13.441463</td>\n",
       "      <td>...</td>\n",
       "      <td>-12.497832</td>\n",
       "      <td>-12.152747</td>\n",
       "      <td>-11.874381</td>\n",
       "      <td>-11.128835</td>\n",
       "      <td>-8.772601</td>\n",
       "      <td>-10.427946</td>\n",
       "      <td>-12.967849</td>\n",
       "      <td>-12.609296</td>\n",
       "      <td>-9.058864</td>\n",
       "      <td>-6.328154</td>\n",
       "    </tr>\n",
       "    <tr>\n",
       "      <th>25%</th>\n",
       "      <td>-0.656376</td>\n",
       "      <td>-0.583835</td>\n",
       "      <td>-1.330525</td>\n",
       "      <td>-1.266591</td>\n",
       "      <td>-0.671173</td>\n",
       "      <td>-0.679944</td>\n",
       "      <td>-1.278707</td>\n",
       "      <td>-0.991299</td>\n",
       "      <td>-0.718023</td>\n",
       "      <td>-0.728075</td>\n",
       "      <td>...</td>\n",
       "      <td>-1.731881</td>\n",
       "      <td>-0.815820</td>\n",
       "      <td>-0.740905</td>\n",
       "      <td>-0.805968</td>\n",
       "      <td>-0.497485</td>\n",
       "      <td>-1.063180</td>\n",
       "      <td>-0.934818</td>\n",
       "      <td>-0.867155</td>\n",
       "      <td>-1.056363</td>\n",
       "      <td>-0.652571</td>\n",
       "    </tr>\n",
       "    <tr>\n",
       "      <th>50%</th>\n",
       "      <td>0.078915</td>\n",
       "      <td>0.116448</td>\n",
       "      <td>-0.318937</td>\n",
       "      <td>-0.296430</td>\n",
       "      <td>0.024160</td>\n",
       "      <td>0.088055</td>\n",
       "      <td>-0.157218</td>\n",
       "      <td>-0.231885</td>\n",
       "      <td>0.037039</td>\n",
       "      <td>0.045209</td>\n",
       "      <td>...</td>\n",
       "      <td>-0.444306</td>\n",
       "      <td>-0.056808</td>\n",
       "      <td>0.023619</td>\n",
       "      <td>-0.037659</td>\n",
       "      <td>0.314206</td>\n",
       "      <td>-0.204129</td>\n",
       "      <td>-0.079784</td>\n",
       "      <td>0.052313</td>\n",
       "      <td>-0.191285</td>\n",
       "      <td>0.137007</td>\n",
       "    </tr>\n",
       "    <tr>\n",
       "      <th>75%</th>\n",
       "      <td>0.905641</td>\n",
       "      <td>0.853163</td>\n",
       "      <td>0.489641</td>\n",
       "      <td>0.449590</td>\n",
       "      <td>0.719492</td>\n",
       "      <td>0.929197</td>\n",
       "      <td>0.670727</td>\n",
       "      <td>0.483663</td>\n",
       "      <td>0.750830</td>\n",
       "      <td>0.862472</td>\n",
       "      <td>...</td>\n",
       "      <td>0.500677</td>\n",
       "      <td>0.657177</td>\n",
       "      <td>0.800701</td>\n",
       "      <td>0.714075</td>\n",
       "      <td>1.276655</td>\n",
       "      <td>0.521043</td>\n",
       "      <td>0.757374</td>\n",
       "      <td>1.009641</td>\n",
       "      <td>0.574868</td>\n",
       "      <td>1.059485</td>\n",
       "    </tr>\n",
       "    <tr>\n",
       "      <th>max</th>\n",
       "      <td>17.623036</td>\n",
       "      <td>12.677023</td>\n",
       "      <td>8.289261</td>\n",
       "      <td>11.790434</td>\n",
       "      <td>6.925004</td>\n",
       "      <td>10.602330</td>\n",
       "      <td>10.079191</td>\n",
       "      <td>8.804312</td>\n",
       "      <td>9.548006</td>\n",
       "      <td>13.066445</td>\n",
       "      <td>...</td>\n",
       "      <td>8.839935</td>\n",
       "      <td>10.694780</td>\n",
       "      <td>11.309371</td>\n",
       "      <td>12.638208</td>\n",
       "      <td>11.164262</td>\n",
       "      <td>7.886564</td>\n",
       "      <td>11.521261</td>\n",
       "      <td>16.183559</td>\n",
       "      <td>6.435721</td>\n",
       "      <td>10.497291</td>\n",
       "    </tr>\n",
       "  </tbody>\n",
       "</table>\n",
       "<p>8 rows × 83 columns</p>\n",
       "</div>"
      ],
      "text/plain": [
       "       AO-A12D.01TCGA  C8-A131.01TCGA  AO-A12B.01TCGA  BH-A18Q.02TCGA  \\\n",
       "count    11334.000000    11335.000000    11334.000000    12024.000000   \n",
       "mean         0.133079        0.128822       -0.440764       -0.729233   \n",
       "std          1.734231        1.579845        1.634930        2.422452   \n",
       "min        -12.466750      -13.156553       -9.911008      -24.553794   \n",
       "25%         -0.656376       -0.583835       -1.330525       -1.266591   \n",
       "50%          0.078915        0.116448       -0.318937       -0.296430   \n",
       "75%          0.905641        0.853163        0.489641        0.449590   \n",
       "max         17.623036       12.677023        8.289261       11.790434   \n",
       "\n",
       "       C8-A130.02TCGA  C8-A138.03TCGA  E2-A154.03TCGA  C8-A12L.04TCGA  \\\n",
       "count    12025.000000    11833.000000    11833.000000    11732.000000   \n",
       "mean        -0.039436        0.115353       -0.618354       -0.305320   \n",
       "std          1.353505        1.652918        2.281818        1.567687   \n",
       "min        -15.004199      -12.956961      -16.640848      -18.710032   \n",
       "25%         -0.671173       -0.679944       -1.278707       -0.991299   \n",
       "50%          0.024160        0.088055       -0.157218       -0.231885   \n",
       "75%          0.719492        0.929197        0.670727        0.483663   \n",
       "max          6.925004       10.602330       10.079191        8.804312   \n",
       "\n",
       "       A2-A0EX.04TCGA  AO-A12D.05TCGA  ...  AO-A12B.34TCGA  A2-A0SW.35TCGA  \\\n",
       "count    11732.000000    11276.000000  ...    11477.000000    10324.000000   \n",
       "mean        -0.021228        0.077247  ...       -0.677085       -0.103215   \n",
       "std          1.651917        1.749695  ...        2.018394        1.570606   \n",
       "min        -14.711526      -13.441463  ...      -12.497832      -12.152747   \n",
       "25%         -0.718023       -0.728075  ...       -1.731881       -0.815820   \n",
       "50%          0.037039        0.045209  ...       -0.444306       -0.056808   \n",
       "75%          0.750830        0.862472  ...        0.500677        0.657177   \n",
       "max          9.548006       13.066445  ...        8.839935       10.694780   \n",
       "\n",
       "       AO-A0JL.35TCGA  BH-A0BV.35TCGA  A2-A0YM.36TCGA  BH-A0C7.36TCGA  \\\n",
       "count    10324.000000    10324.000000     9694.000000     9693.000000   \n",
       "mean        -0.021222       -0.100912        0.488502       -0.368762   \n",
       "std          1.656519        1.628017        1.658080        1.453737   \n",
       "min        -11.874381      -11.128835       -8.772601      -10.427946   \n",
       "25%         -0.740905       -0.805968       -0.497485       -1.063180   \n",
       "50%          0.023619       -0.037659        0.314206       -0.204129   \n",
       "75%          0.800701        0.714075        1.276655        0.521043   \n",
       "max         11.309371       12.638208       11.164262        7.886564   \n",
       "\n",
       "       A2-A0SX.36TCGA  263d3f-I.CPTAC  blcdb9-I.CPTAC  c4155b-C.CPTAC  \n",
       "count     9697.000000    10912.000000    10885.000000    10913.000000  \n",
       "mean        -0.050669        0.069555       -0.298170        0.310974  \n",
       "std          1.716237        1.950822        1.307027        1.706759  \n",
       "min        -12.967849      -12.609296       -9.058864       -6.328154  \n",
       "25%         -0.934818       -0.867155       -1.056363       -0.652571  \n",
       "50%         -0.079784        0.052313       -0.191285        0.137007  \n",
       "75%          0.757374        1.009641        0.574868        1.059485  \n",
       "max         11.521261       16.183559        6.435721       10.497291  \n",
       "\n",
       "[8 rows x 83 columns]"
      ]
     },
     "execution_count": 4,
     "metadata": {},
     "output_type": "execute_result"
    }
   ],
   "source": [
    "expression.describe()"
   ]
  },
  {
   "cell_type": "code",
   "execution_count": 10,
   "metadata": {},
   "outputs": [
    {
     "name": "stdout",
     "output_type": "stream",
     "text": [
      "Top 10 most common proteins screened:\n",
      " NADH dehydrogenase                                                    41\n",
      "poly                                                                   7\n",
      "isocitrate dehydrogenase                                               6\n",
      "dimethylaniline monooxygenase                                          4\n",
      "PREDICTED: peptidyl-prolyl cis-trans isomerase A-like                  4\n",
      "succinyl-CoA ligase                                                    3\n",
      "PREDICTED: myomegalin-like isoform 2                                   3\n",
      "PREDICTED: serine/threonine-protein kinase SMG1-like                   3\n",
      "very-long-chain (3R)-3-hydroxyacyl                                     2\n",
      "HLA class I histocompatibility antigen, Cw-1 alpha chain precursor     2\n",
      "Name: gene_name, dtype: int64\n"
     ]
    },
    {
     "data": {
      "text/plain": [
       "<matplotlib.axes._subplots.AxesSubplot at 0x21489535a20>"
      ]
     },
     "execution_count": 10,
     "metadata": {},
     "output_type": "execute_result"
    },
    {
     "data": {
      "image/png": "[encoded data removed]",
      "text/plain": [
       "<Figure size 432x288 with 1 Axes>"
      ]
     },
     "metadata": {
      "needs_background": "light"
     },
     "output_type": "display_data"
    }
   ],
   "source": [
    "# Visualize the 20 most common proteins \n",
    "print(\"Top 10 most common proteins screened:\\n\", expression['gene_name'].value_counts().nlargest(10))\n",
    "\n",
    "# Plot results -- top 10\n",
    "expression['gene_name'].value_counts().nlargest(10).plot.barh(title = \"Most Common Proteins\")"
   ]
  },
  {
   "cell_type": "markdown",
   "metadata": {},
   "source": [
    "## Data Exploration: Clinical Data"
   ]
  },
  {
   "cell_type": "code",
   "execution_count": 11,
   "metadata": {},
   "outputs": [
    {
     "data": {
      "text/html": [
       "<div>\n",
       "<style scoped>\n",
       "    .dataframe tbody tr th:only-of-type {\n",
       "        vertical-align: middle;\n",
       "    }\n",
       "\n",
       "    .dataframe tbody tr th {\n",
       "        vertical-align: top;\n",
       "    }\n",
       "\n",
       "    .dataframe thead th {\n",
       "        text-align: right;\n",
       "    }\n",
       "</style>\n",
       "<table border=\"1\" class=\"dataframe\">\n",
       "  <thead>\n",
       "    <tr style=\"text-align: right;\">\n",
       "      <th></th>\n",
       "      <th>Gender</th>\n",
       "      <th>Age at Initial Pathologic Diagnosis</th>\n",
       "      <th>ER Status</th>\n",
       "      <th>PR Status</th>\n",
       "      <th>HER2 Final Status</th>\n",
       "      <th>Tumor</th>\n",
       "      <th>Tumor--T1 Coded</th>\n",
       "      <th>Node</th>\n",
       "      <th>Node-Coded</th>\n",
       "      <th>Metastasis</th>\n",
       "      <th>...</th>\n",
       "      <th>PAM50 mRNA</th>\n",
       "      <th>SigClust Unsupervised mRNA</th>\n",
       "      <th>SigClust Intrinsic mRNA</th>\n",
       "      <th>miRNA Clusters</th>\n",
       "      <th>methylation Clusters</th>\n",
       "      <th>RPPA Clusters</th>\n",
       "      <th>CN Clusters</th>\n",
       "      <th>Integrated Clusters (with PAM50)</th>\n",
       "      <th>Integrated Clusters (no exp)</th>\n",
       "      <th>Integrated Clusters (unsup exp)</th>\n",
       "    </tr>\n",
       "    <tr>\n",
       "      <th>Complete TCGA ID</th>\n",
       "      <th></th>\n",
       "      <th></th>\n",
       "      <th></th>\n",
       "      <th></th>\n",
       "      <th></th>\n",
       "      <th></th>\n",
       "      <th></th>\n",
       "      <th></th>\n",
       "      <th></th>\n",
       "      <th></th>\n",
       "      <th></th>\n",
       "      <th></th>\n",
       "      <th></th>\n",
       "      <th></th>\n",
       "      <th></th>\n",
       "      <th></th>\n",
       "      <th></th>\n",
       "      <th></th>\n",
       "      <th></th>\n",
       "      <th></th>\n",
       "      <th></th>\n",
       "    </tr>\n",
       "  </thead>\n",
       "  <tbody>\n",
       "    <tr>\n",
       "      <th>TCGA-A2-A0T2</th>\n",
       "      <td>FEMALE</td>\n",
       "      <td>66</td>\n",
       "      <td>Negative</td>\n",
       "      <td>Negative</td>\n",
       "      <td>Negative</td>\n",
       "      <td>T3</td>\n",
       "      <td>T_Other</td>\n",
       "      <td>N3</td>\n",
       "      <td>Positive</td>\n",
       "      <td>M1</td>\n",
       "      <td>...</td>\n",
       "      <td>Basal-like</td>\n",
       "      <td>0</td>\n",
       "      <td>-13</td>\n",
       "      <td>3</td>\n",
       "      <td>5</td>\n",
       "      <td>Basal</td>\n",
       "      <td>3</td>\n",
       "      <td>2</td>\n",
       "      <td>2</td>\n",
       "      <td>2</td>\n",
       "    </tr>\n",
       "    <tr>\n",
       "      <th>TCGA-A2-A0CM</th>\n",
       "      <td>FEMALE</td>\n",
       "      <td>40</td>\n",
       "      <td>Negative</td>\n",
       "      <td>Negative</td>\n",
       "      <td>Negative</td>\n",
       "      <td>T2</td>\n",
       "      <td>T_Other</td>\n",
       "      <td>N0</td>\n",
       "      <td>Negative</td>\n",
       "      <td>M0</td>\n",
       "      <td>...</td>\n",
       "      <td>Basal-like</td>\n",
       "      <td>-12</td>\n",
       "      <td>-13</td>\n",
       "      <td>4</td>\n",
       "      <td>4</td>\n",
       "      <td>Basal</td>\n",
       "      <td>4</td>\n",
       "      <td>2</td>\n",
       "      <td>1</td>\n",
       "      <td>1</td>\n",
       "    </tr>\n",
       "    <tr>\n",
       "      <th>TCGA-BH-A18V</th>\n",
       "      <td>FEMALE</td>\n",
       "      <td>48</td>\n",
       "      <td>Negative</td>\n",
       "      <td>Negative</td>\n",
       "      <td>Negative</td>\n",
       "      <td>T2</td>\n",
       "      <td>T_Other</td>\n",
       "      <td>N1</td>\n",
       "      <td>Positive</td>\n",
       "      <td>M0</td>\n",
       "      <td>...</td>\n",
       "      <td>Basal-like</td>\n",
       "      <td>-12</td>\n",
       "      <td>-13</td>\n",
       "      <td>5</td>\n",
       "      <td>5</td>\n",
       "      <td>Basal</td>\n",
       "      <td>1</td>\n",
       "      <td>2</td>\n",
       "      <td>2</td>\n",
       "      <td>2</td>\n",
       "    </tr>\n",
       "    <tr>\n",
       "      <th>TCGA-BH-A18Q</th>\n",
       "      <td>FEMALE</td>\n",
       "      <td>56</td>\n",
       "      <td>Negative</td>\n",
       "      <td>Negative</td>\n",
       "      <td>Negative</td>\n",
       "      <td>T2</td>\n",
       "      <td>T_Other</td>\n",
       "      <td>N1</td>\n",
       "      <td>Positive</td>\n",
       "      <td>M0</td>\n",
       "      <td>...</td>\n",
       "      <td>Basal-like</td>\n",
       "      <td>-12</td>\n",
       "      <td>-13</td>\n",
       "      <td>5</td>\n",
       "      <td>5</td>\n",
       "      <td>Basal</td>\n",
       "      <td>1</td>\n",
       "      <td>2</td>\n",
       "      <td>2</td>\n",
       "      <td>2</td>\n",
       "    </tr>\n",
       "    <tr>\n",
       "      <th>TCGA-BH-A0E0</th>\n",
       "      <td>FEMALE</td>\n",
       "      <td>38</td>\n",
       "      <td>Negative</td>\n",
       "      <td>Negative</td>\n",
       "      <td>Negative</td>\n",
       "      <td>T3</td>\n",
       "      <td>T_Other</td>\n",
       "      <td>N3</td>\n",
       "      <td>Positive</td>\n",
       "      <td>M0</td>\n",
       "      <td>...</td>\n",
       "      <td>Basal-like</td>\n",
       "      <td>0</td>\n",
       "      <td>-13</td>\n",
       "      <td>5</td>\n",
       "      <td>5</td>\n",
       "      <td>Basal</td>\n",
       "      <td>1</td>\n",
       "      <td>2</td>\n",
       "      <td>2</td>\n",
       "      <td>2</td>\n",
       "    </tr>\n",
       "  </tbody>\n",
       "</table>\n",
       "<p>5 rows × 29 columns</p>\n",
       "</div>"
      ],
      "text/plain": [
       "                  Gender  Age at Initial Pathologic Diagnosis ER Status  \\\n",
       "Complete TCGA ID                                                          \n",
       "TCGA-A2-A0T2      FEMALE                                   66  Negative   \n",
       "TCGA-A2-A0CM      FEMALE                                   40  Negative   \n",
       "TCGA-BH-A18V      FEMALE                                   48  Negative   \n",
       "TCGA-BH-A18Q      FEMALE                                   56  Negative   \n",
       "TCGA-BH-A0E0      FEMALE                                   38  Negative   \n",
       "\n",
       "                 PR Status HER2 Final Status Tumor Tumor--T1 Coded Node  \\\n",
       "Complete TCGA ID                                                          \n",
       "TCGA-A2-A0T2      Negative          Negative    T3         T_Other   N3   \n",
       "TCGA-A2-A0CM      Negative          Negative    T2         T_Other   N0   \n",
       "TCGA-BH-A18V      Negative          Negative    T2         T_Other   N1   \n",
       "TCGA-BH-A18Q      Negative          Negative    T2         T_Other   N1   \n",
       "TCGA-BH-A0E0      Negative          Negative    T3         T_Other   N3   \n",
       "\n",
       "                 Node-Coded Metastasis  ...  PAM50 mRNA  \\\n",
       "Complete TCGA ID                        ...               \n",
       "TCGA-A2-A0T2       Positive         M1  ...  Basal-like   \n",
       "TCGA-A2-A0CM       Negative         M0  ...  Basal-like   \n",
       "TCGA-BH-A18V       Positive         M0  ...  Basal-like   \n",
       "TCGA-BH-A18Q       Positive         M0  ...  Basal-like   \n",
       "TCGA-BH-A0E0       Positive         M0  ...  Basal-like   \n",
       "\n",
       "                 SigClust Unsupervised mRNA SigClust Intrinsic mRNA  \\\n",
       "Complete TCGA ID                                                      \n",
       "TCGA-A2-A0T2                              0                     -13   \n",
       "TCGA-A2-A0CM                            -12                     -13   \n",
       "TCGA-BH-A18V                            -12                     -13   \n",
       "TCGA-BH-A18Q                            -12                     -13   \n",
       "TCGA-BH-A0E0                              0                     -13   \n",
       "\n",
       "                 miRNA Clusters methylation Clusters  RPPA Clusters  \\\n",
       "Complete TCGA ID                                                      \n",
       "TCGA-A2-A0T2                  3                    5          Basal   \n",
       "TCGA-A2-A0CM                  4                    4          Basal   \n",
       "TCGA-BH-A18V                  5                    5          Basal   \n",
       "TCGA-BH-A18Q                  5                    5          Basal   \n",
       "TCGA-BH-A0E0                  5                    5          Basal   \n",
       "\n",
       "                  CN Clusters  Integrated Clusters (with PAM50)  \\\n",
       "Complete TCGA ID                                                  \n",
       "TCGA-A2-A0T2                3                                 2   \n",
       "TCGA-A2-A0CM                4                                 2   \n",
       "TCGA-BH-A18V                1                                 2   \n",
       "TCGA-BH-A18Q                1                                 2   \n",
       "TCGA-BH-A0E0                1                                 2   \n",
       "\n",
       "                  Integrated Clusters (no exp) Integrated Clusters (unsup exp)  \n",
       "Complete TCGA ID                                                                \n",
       "TCGA-A2-A0T2                                 2                               2  \n",
       "TCGA-A2-A0CM                                 1                               1  \n",
       "TCGA-BH-A18V                                 2                               2  \n",
       "TCGA-BH-A18Q                                 2                               2  \n",
       "TCGA-BH-A0E0                                 2                               2  \n",
       "\n",
       "[5 rows x 29 columns]"
      ]
     },
     "execution_count": 11,
     "metadata": {},
     "output_type": "execute_result"
    }
   ],
   "source": [
    "clinical.head()"
   ]
  },
  {
   "cell_type": "code",
   "execution_count": 12,
   "metadata": {},
   "outputs": [
    {
     "data": {
      "text/html": [
       "<div>\n",
       "<style scoped>\n",
       "    .dataframe tbody tr th:only-of-type {\n",
       "        vertical-align: middle;\n",
       "    }\n",
       "\n",
       "    .dataframe tbody tr th {\n",
       "        vertical-align: top;\n",
       "    }\n",
       "\n",
       "    .dataframe thead th {\n",
       "        text-align: right;\n",
       "    }\n",
       "</style>\n",
       "<table border=\"1\" class=\"dataframe\">\n",
       "  <thead>\n",
       "    <tr style=\"text-align: right;\">\n",
       "      <th></th>\n",
       "      <th>Age at Initial Pathologic Diagnosis</th>\n",
       "      <th>Days to Date of Last Contact</th>\n",
       "      <th>Days to date of Death</th>\n",
       "      <th>OS event</th>\n",
       "      <th>OS Time</th>\n",
       "      <th>SigClust Unsupervised mRNA</th>\n",
       "      <th>SigClust Intrinsic mRNA</th>\n",
       "      <th>miRNA Clusters</th>\n",
       "      <th>methylation Clusters</th>\n",
       "      <th>CN Clusters</th>\n",
       "      <th>Integrated Clusters (with PAM50)</th>\n",
       "      <th>Integrated Clusters (no exp)</th>\n",
       "      <th>Integrated Clusters (unsup exp)</th>\n",
       "    </tr>\n",
       "  </thead>\n",
       "  <tbody>\n",
       "    <tr>\n",
       "      <th>count</th>\n",
       "      <td>105.000000</td>\n",
       "      <td>105.000000</td>\n",
       "      <td>11.000000</td>\n",
       "      <td>105.000000</td>\n",
       "      <td>105.000000</td>\n",
       "      <td>105.000000</td>\n",
       "      <td>105.000000</td>\n",
       "      <td>105.000000</td>\n",
       "      <td>105.000000</td>\n",
       "      <td>105.000000</td>\n",
       "      <td>105.000000</td>\n",
       "      <td>105.000000</td>\n",
       "      <td>105.000000</td>\n",
       "    </tr>\n",
       "    <tr>\n",
       "      <th>mean</th>\n",
       "      <td>58.685714</td>\n",
       "      <td>788.390476</td>\n",
       "      <td>1254.454545</td>\n",
       "      <td>0.104762</td>\n",
       "      <td>817.647619</td>\n",
       "      <td>-4.885714</td>\n",
       "      <td>-7.180952</td>\n",
       "      <td>4.000000</td>\n",
       "      <td>3.342857</td>\n",
       "      <td>2.590476</td>\n",
       "      <td>2.742857</td>\n",
       "      <td>1.980952</td>\n",
       "      <td>2.352381</td>\n",
       "    </tr>\n",
       "    <tr>\n",
       "      <th>std</th>\n",
       "      <td>13.066630</td>\n",
       "      <td>645.283040</td>\n",
       "      <td>678.050642</td>\n",
       "      <td>0.307715</td>\n",
       "      <td>672.026613</td>\n",
       "      <td>3.558074</td>\n",
       "      <td>5.022605</td>\n",
       "      <td>1.593255</td>\n",
       "      <td>1.406226</td>\n",
       "      <td>1.342323</td>\n",
       "      <td>1.074428</td>\n",
       "      <td>0.970537</td>\n",
       "      <td>1.091761</td>\n",
       "    </tr>\n",
       "    <tr>\n",
       "      <th>min</th>\n",
       "      <td>30.000000</td>\n",
       "      <td>0.000000</td>\n",
       "      <td>160.000000</td>\n",
       "      <td>0.000000</td>\n",
       "      <td>0.000000</td>\n",
       "      <td>-12.000000</td>\n",
       "      <td>-13.000000</td>\n",
       "      <td>1.000000</td>\n",
       "      <td>1.000000</td>\n",
       "      <td>1.000000</td>\n",
       "      <td>1.000000</td>\n",
       "      <td>1.000000</td>\n",
       "      <td>1.000000</td>\n",
       "    </tr>\n",
       "    <tr>\n",
       "      <th>25%</th>\n",
       "      <td>49.000000</td>\n",
       "      <td>240.000000</td>\n",
       "      <td>947.500000</td>\n",
       "      <td>0.000000</td>\n",
       "      <td>240.000000</td>\n",
       "      <td>-6.000000</td>\n",
       "      <td>-12.000000</td>\n",
       "      <td>3.000000</td>\n",
       "      <td>2.000000</td>\n",
       "      <td>1.000000</td>\n",
       "      <td>2.000000</td>\n",
       "      <td>1.000000</td>\n",
       "      <td>1.000000</td>\n",
       "    </tr>\n",
       "    <tr>\n",
       "      <th>50%</th>\n",
       "      <td>58.000000</td>\n",
       "      <td>643.000000</td>\n",
       "      <td>1364.000000</td>\n",
       "      <td>0.000000</td>\n",
       "      <td>665.000000</td>\n",
       "      <td>-5.000000</td>\n",
       "      <td>-6.000000</td>\n",
       "      <td>4.000000</td>\n",
       "      <td>4.000000</td>\n",
       "      <td>3.000000</td>\n",
       "      <td>3.000000</td>\n",
       "      <td>2.000000</td>\n",
       "      <td>2.000000</td>\n",
       "    </tr>\n",
       "    <tr>\n",
       "      <th>75%</th>\n",
       "      <td>67.000000</td>\n",
       "      <td>1288.000000</td>\n",
       "      <td>1627.500000</td>\n",
       "      <td>0.000000</td>\n",
       "      <td>1305.000000</td>\n",
       "      <td>-3.000000</td>\n",
       "      <td>-2.000000</td>\n",
       "      <td>5.000000</td>\n",
       "      <td>4.000000</td>\n",
       "      <td>3.000000</td>\n",
       "      <td>4.000000</td>\n",
       "      <td>3.000000</td>\n",
       "      <td>3.000000</td>\n",
       "    </tr>\n",
       "    <tr>\n",
       "      <th>max</th>\n",
       "      <td>88.000000</td>\n",
       "      <td>2850.000000</td>\n",
       "      <td>2483.000000</td>\n",
       "      <td>1.000000</td>\n",
       "      <td>2850.000000</td>\n",
       "      <td>0.000000</td>\n",
       "      <td>0.000000</td>\n",
       "      <td>7.000000</td>\n",
       "      <td>5.000000</td>\n",
       "      <td>5.000000</td>\n",
       "      <td>4.000000</td>\n",
       "      <td>4.000000</td>\n",
       "      <td>5.000000</td>\n",
       "    </tr>\n",
       "  </tbody>\n",
       "</table>\n",
       "</div>"
      ],
      "text/plain": [
       "       Age at Initial Pathologic Diagnosis  Days to Date of Last Contact  \\\n",
       "count                           105.000000                    105.000000   \n",
       "mean                             58.685714                    788.390476   \n",
       "std                              13.066630                    645.283040   \n",
       "min                              30.000000                      0.000000   \n",
       "25%                              49.000000                    240.000000   \n",
       "50%                              58.000000                    643.000000   \n",
       "75%                              67.000000                   1288.000000   \n",
       "max                              88.000000                   2850.000000   \n",
       "\n",
       "       Days to date of Death    OS event      OS Time  \\\n",
       "count              11.000000  105.000000   105.000000   \n",
       "mean             1254.454545    0.104762   817.647619   \n",
       "std               678.050642    0.307715   672.026613   \n",
       "min               160.000000    0.000000     0.000000   \n",
       "25%               947.500000    0.000000   240.000000   \n",
       "50%              1364.000000    0.000000   665.000000   \n",
       "75%              1627.500000    0.000000  1305.000000   \n",
       "max              2483.000000    1.000000  2850.000000   \n",
       "\n",
       "       SigClust Unsupervised mRNA  SigClust Intrinsic mRNA  miRNA Clusters  \\\n",
       "count                  105.000000               105.000000      105.000000   \n",
       "mean                    -4.885714                -7.180952        4.000000   \n",
       "std                      3.558074                 5.022605        1.593255   \n",
       "min                    -12.000000               -13.000000        1.000000   \n",
       "25%                     -6.000000               -12.000000        3.000000   \n",
       "50%                     -5.000000                -6.000000        4.000000   \n",
       "75%                     -3.000000                -2.000000        5.000000   \n",
       "max                      0.000000                 0.000000        7.000000   \n",
       "\n",
       "       methylation Clusters  CN Clusters  Integrated Clusters (with PAM50)  \\\n",
       "count            105.000000   105.000000                        105.000000   \n",
       "mean               3.342857     2.590476                          2.742857   \n",
       "std                1.406226     1.342323                          1.074428   \n",
       "min                1.000000     1.000000                          1.000000   \n",
       "25%                2.000000     1.000000                          2.000000   \n",
       "50%                4.000000     3.000000                          3.000000   \n",
       "75%                4.000000     3.000000                          4.000000   \n",
       "max                5.000000     5.000000                          4.000000   \n",
       "\n",
       "       Integrated Clusters (no exp)  Integrated Clusters (unsup exp)  \n",
       "count                    105.000000                       105.000000  \n",
       "mean                       1.980952                         2.352381  \n",
       "std                        0.970537                         1.091761  \n",
       "min                        1.000000                         1.000000  \n",
       "25%                        1.000000                         1.000000  \n",
       "50%                        2.000000                         2.000000  \n",
       "75%                        3.000000                         3.000000  \n",
       "max                        4.000000                         5.000000  "
      ]
     },
     "execution_count": 12,
     "metadata": {},
     "output_type": "execute_result"
    }
   ],
   "source": [
    "clinical.describe()"
   ]
  },
  {
   "cell_type": "code",
   "execution_count": 13,
   "metadata": {},
   "outputs": [
    {
     "name": "stdout",
     "output_type": "stream",
     "text": [
      "<class 'pandas.core.frame.DataFrame'>\n",
      "Index: 105 entries, TCGA-A2-A0T2 to TCGA-E2-A15A\n",
      "Data columns (total 29 columns):\n",
      "Gender                                 105 non-null object\n",
      "Age at Initial Pathologic Diagnosis    105 non-null int64\n",
      "ER Status                              105 non-null object\n",
      "PR Status                              105 non-null object\n",
      "HER2 Final Status                      105 non-null object\n",
      "Tumor                                  105 non-null object\n",
      "Tumor--T1 Coded                        105 non-null object\n",
      "Node                                   105 non-null object\n",
      "Node-Coded                             105 non-null object\n",
      "Metastasis                             105 non-null object\n",
      "Metastasis-Coded                       105 non-null object\n",
      "AJCC Stage                             105 non-null object\n",
      "Converted Stage                        105 non-null object\n",
      "Survival Data Form                     105 non-null object\n",
      "Vital Status                           105 non-null object\n",
      "Days to Date of Last Contact           105 non-null int64\n",
      "Days to date of Death                  11 non-null float64\n",
      "OS event                               105 non-null int64\n",
      "OS Time                                105 non-null int64\n",
      "PAM50 mRNA                             105 non-null object\n",
      "SigClust Unsupervised mRNA             105 non-null int64\n",
      "SigClust Intrinsic mRNA                105 non-null int64\n",
      "miRNA Clusters                         105 non-null int64\n",
      "methylation Clusters                   105 non-null int64\n",
      "RPPA Clusters                          105 non-null object\n",
      "CN Clusters                            105 non-null int64\n",
      "Integrated Clusters (with PAM50)       105 non-null int64\n",
      "Integrated Clusters (no exp)           105 non-null int64\n",
      "Integrated Clusters (unsup exp)        105 non-null int64\n",
      "dtypes: float64(1), int64(12), object(16)\n",
      "memory usage: 24.6+ KB\n"
     ]
    }
   ],
   "source": [
    "clinical.info()"
   ]
  },
  {
   "cell_type": "code",
   "execution_count": 16,
   "metadata": {},
   "outputs": [
    {
     "data": {
      "image/png": "[encoded data removed]",
      "text/plain": [
       "<Figure size 1080x1080 with 6 Axes>"
      ]
     },
     "metadata": {
      "needs_background": "light"
     },
     "output_type": "display_data"
    }
   ],
   "source": [
    "plt.figure(figsize = (15, 15))\n",
    "\n",
    "plt.subplot(3, 2, 1)\n",
    "clinical['Node'].value_counts().plot(kind = \"bar\", rot = 0, title = \"Node\")\n",
    "\n",
    "plt.subplot(3, 2, 2)\n",
    "clinical['Tumor'].value_counts().plot(kind = \"bar\", rot = 0, title = \"Tumor\")\n",
    "\n",
    "plt.subplot(3, 2, 3)\n",
    "clinical['Metastasis'].value_counts().plot(kind = \"bar\", rot = 0, title = \"Metastasis\")\n",
    "\n",
    "plt.subplot(3, 2, 4)\n",
    "clinical['Vital Status'].value_counts().plot(kind = \"bar\", rot = 0, title = \"Vital Status\")\n",
    "\n",
    "plt.subplot(3, 2, 5)\n",
    "clinical['AJCC Stage'].value_counts().plot(kind = \"bar\", title = \"AJCC Stage\")\n",
    "\n",
    "plt.subplot(3, 2, 6)\n",
    "clinical['HER2 Final Status'].value_counts().plot(kind = \"bar\", rot = 0, title = \"HER2 Final Status\")\n",
    "\n",
    "plt.show()"
   ]
  },
  {
   "cell_type": "code",
   "execution_count": 17,
   "metadata": {},
   "outputs": [
    {
     "data": {
      "text/plain": [
       "<matplotlib.axes._subplots.AxesSubplot at 0x214896fd5f8>"
      ]
     },
     "execution_count": 17,
     "metadata": {},
     "output_type": "execute_result"
    },
    {
     "data": {
      "image/png": "[encoded data removed]",
      "text/plain": [
       "<Figure size 432x288 with 1 Axes>"
      ]
     },
     "metadata": {
      "needs_background": "light"
     },
     "output_type": "display_data"
    }
   ],
   "source": [
    "# This will be our target to compare against\n",
    "clinical['PAM50 mRNA'].value_counts().plot.bar(title = \"PAM50 mRNA\")"
   ]
  },
  {
   "cell_type": "code",
   "execution_count": 21,
   "metadata": {},
   "outputs": [
    {
     "data": {
      "image/png": "[encoded data removed]",
      "text/plain": [
       "<Figure size 1008x360 with 2 Axes>"
      ]
     },
     "metadata": {
      "needs_background": "light"
     },
     "output_type": "display_data"
    }
   ],
   "source": [
    "plt.figure(figsize = (14, 5))\n",
    "\n",
    "plt.subplot(1, 2, 1)\n",
    "sns.distplot(clinical['Age at Initial Pathologic Diagnosis'])\n",
    "plt.title(\"Age at Diagnosis\")\n",
    "\n",
    "plt.subplot(1, 2, 2)\n",
    "sns.distplot(clinical['Days to Date of Last Contact'])\n",
    "plt.title(\"Days Since Last Contact\")\n",
    "\n",
    "plt.show()"
   ]
  },
  {
   "cell_type": "markdown",
   "metadata": {},
   "source": [
    "## Data Exploration: PAM50 Protein Data"
   ]
  },
  {
   "cell_type": "code",
   "execution_count": 22,
   "metadata": {},
   "outputs": [
    {
     "data": {
      "text/html": [
       "<div>\n",
       "<style scoped>\n",
       "    .dataframe tbody tr th:only-of-type {\n",
       "        vertical-align: middle;\n",
       "    }\n",
       "\n",
       "    .dataframe tbody tr th {\n",
       "        vertical-align: top;\n",
       "    }\n",
       "\n",
       "    .dataframe thead th {\n",
       "        text-align: right;\n",
       "    }\n",
       "</style>\n",
       "<table border=\"1\" class=\"dataframe\">\n",
       "  <thead>\n",
       "    <tr style=\"text-align: right;\">\n",
       "      <th></th>\n",
       "      <th>RefSeqProteinID</th>\n",
       "      <th>Species</th>\n",
       "      <th>Gene Name</th>\n",
       "    </tr>\n",
       "    <tr>\n",
       "      <th>GeneSymbol</th>\n",
       "      <th></th>\n",
       "      <th></th>\n",
       "      <th></th>\n",
       "    </tr>\n",
       "  </thead>\n",
       "  <tbody>\n",
       "    <tr>\n",
       "      <th>MIA</th>\n",
       "      <td>NP_006524</td>\n",
       "      <td>Homo sapiens</td>\n",
       "      <td>melanoma inhibitory activity</td>\n",
       "    </tr>\n",
       "    <tr>\n",
       "      <th>FGFR4</th>\n",
       "      <td>NP_002002</td>\n",
       "      <td>Homo sapiens</td>\n",
       "      <td>fibroblast growth factor receptor 4</td>\n",
       "    </tr>\n",
       "    <tr>\n",
       "      <th>FGFR4</th>\n",
       "      <td>NP_998812</td>\n",
       "      <td>Homo sapiens</td>\n",
       "      <td>fibroblast growth factor receptor 4</td>\n",
       "    </tr>\n",
       "    <tr>\n",
       "      <th>FGFR4</th>\n",
       "      <td>NP_075252</td>\n",
       "      <td>Homo sapiens</td>\n",
       "      <td>fibroblast growth factor receptor 4</td>\n",
       "    </tr>\n",
       "    <tr>\n",
       "      <th>GPR160</th>\n",
       "      <td>NP_055188</td>\n",
       "      <td>Homo sapiens</td>\n",
       "      <td>G protein-coupled receptor 160</td>\n",
       "    </tr>\n",
       "  </tbody>\n",
       "</table>\n",
       "</div>"
      ],
      "text/plain": [
       "           RefSeqProteinID       Species                            Gene Name\n",
       "GeneSymbol                                                                   \n",
       "MIA              NP_006524  Homo sapiens         melanoma inhibitory activity\n",
       "FGFR4            NP_002002  Homo sapiens  fibroblast growth factor receptor 4\n",
       "FGFR4            NP_998812  Homo sapiens  fibroblast growth factor receptor 4\n",
       "FGFR4            NP_075252  Homo sapiens  fibroblast growth factor receptor 4\n",
       "GPR160           NP_055188  Homo sapiens       G protein-coupled receptor 160"
      ]
     },
     "execution_count": 22,
     "metadata": {},
     "output_type": "execute_result"
    }
   ],
   "source": [
    "proteins.head()"
   ]
  },
  {
   "cell_type": "code",
   "execution_count": 24,
   "metadata": {},
   "outputs": [
    {
     "name": "stdout",
     "output_type": "stream",
     "text": [
      "<class 'pandas.core.frame.DataFrame'>\n",
      "Index: 100 entries, MIA to UBE2T\n",
      "Data columns (total 3 columns):\n",
      "RefSeqProteinID    100 non-null object\n",
      "Species            100 non-null object\n",
      "Gene Name          100 non-null object\n",
      "dtypes: object(3)\n",
      "memory usage: 3.1+ KB\n"
     ]
    }
   ],
   "source": [
    "proteins.info()"
   ]
  },
  {
   "cell_type": "code",
   "execution_count": 23,
   "metadata": {},
   "outputs": [
    {
     "name": "stdout",
     "output_type": "stream",
     "text": [
      "Top 10 most common proteins screened:\n",
      " N-acetyltransferase 1 (arylamine N-acetyltransferase)                                         9\n",
      "Mdm2 p53 binding protein homolog (mouse)                                                      9\n",
      "microtubule-associated protein tau                                                            6\n",
      "ubiquitin-conjugating enzyme E2C                                                              6\n",
      "epidermal growth factor receptor (erythroblastic leukemia viral (v-erb-b) oncogene homolog    4\n",
      "estrogen receptor 1                                                                           4\n",
      "fibroblast growth factor receptor 4                                                           3\n",
      "exonuclease 1                                                                                 3\n",
      "baculoviral IAP repeat-containing 5                                                           3\n",
      "B-cell CLL/lymphoma 2                                                                         2\n",
      "Name: Gene Name, dtype: int64\n"
     ]
    },
    {
     "data": {
      "text/plain": [
       "<matplotlib.axes._subplots.AxesSubplot at 0x2148aba8cf8>"
      ]
     },
     "execution_count": 23,
     "metadata": {},
     "output_type": "execute_result"
    },
    {
     "data": {
      "image/png": "[encoded data removed]",
      "text/plain": [
       "<Figure size 432x288 with 1 Axes>"
      ]
     },
     "metadata": {
      "needs_background": "light"
     },
     "output_type": "display_data"
    }
   ],
   "source": [
    "# Visualize the 20 most common proteins \n",
    "print(\"Top 10 most common proteins screened:\\n\", proteins['Gene Name'].value_counts().nlargest(10))\n",
    "\n",
    "# Plot results -- top 10\n",
    "proteins['Gene Name'].value_counts().nlargest(10).plot.barh(title = \"Most Common Proteins\")"
   ]
  },
  {
   "cell_type": "markdown",
   "metadata": {},
   "source": [
    "### Setting Up Data for Unsupervised Learning:\n",
    "\n"
   ]
  },
  {
   "cell_type": "code",
   "execution_count": 25,
   "metadata": {},
   "outputs": [],
   "source": [
    "## Drop unused information columns and healthy patients\n",
    "expression.drop(['gene_symbol','gene_name'],axis=1,inplace=True)\n",
    "  \n",
    "## Change the protein data sample names to a format matching the clinical data set\n",
    "expression.rename(columns=lambda x: \"TCGA-%s\" % (re.split('[_|-|.]',x)[0]) if bool(re.search(\"TCGA\",x)) is True else x,inplace=True)\n",
    " \n",
    "## Transpose data for the clustering algorithm since we want to divide patient samples, not proteins\n",
    "expression = expression.transpose()\n",
    " \n",
    "## Drop clinical entries for samples not in our protein data set\n",
    "clinical = clinical.loc[[x for x in clinical.index.tolist() if x in expression.index],:]\n",
    " \n",
    "## Add clinical meta data to our protein data set, note: all numerical features for analysis start with NP_ or XP_\n",
    "merged = expression.merge(clinical,left_index=True,right_index=True)\n",
    "\n",
    "## Dataframe consisting of all protein expression data\n",
    "proteomes = merged.loc[:,[x for x in merged.columns if bool(re.search(\"NP_|XP_\",x)) == True]]\n",
    "\n",
    "## Numerical data for the algorithm, NP_xx/XP_xx are protein identifiers from RefSeq database\n",
    "numerical_cols = [x for x in merged.columns if bool(re.search(\"NP_|XP_\", x)) == True ]\n",
    "processed_numerical = proteomes.loc[:, numerical_cols]\n",
    "pam_50 = processed_numerical.columns.isin(proteins['RefSeqProteinID'])\n",
    "\n",
    "# Dataframe consisting of only protein data from PAM50 proteins\n",
    "p50 = processed_numerical.iloc[:, pam_50]"
   ]
  },
  {
   "cell_type": "markdown",
   "metadata": {},
   "source": [
    "## Data Cleaning"
   ]
  },
  {
   "cell_type": "code",
   "execution_count": 39,
   "metadata": {},
   "outputs": [],
   "source": [
    "# Drop columns with more than 55% of values as NaNs\n",
    "limitPer = len(proteomes) * 0.55\n",
    "proteomes = proteomes.dropna(thresh = limitPer, axis = 1)"
   ]
  },
  {
   "cell_type": "code",
   "execution_count": 41,
   "metadata": {},
   "outputs": [],
   "source": [
    "# Drop columns with more than 55% of values as NaNs\n",
    "limitPer = len(p50) * 0.55\n",
    "p50 = p50.dropna(thresh = limitPer, axis = 1)"
   ]
  },
  {
   "cell_type": "code",
   "execution_count": 40,
   "metadata": {},
   "outputs": [
    {
     "data": {
      "text/plain": [
       "NP_958782        0.00\n",
       "NP_958785        0.00\n",
       "NP_958786        0.00\n",
       "NP_000436        0.00\n",
       "NP_958781        0.00\n",
       "NP_958780        0.00\n",
       "NP_958783        0.00\n",
       "NP_958784        0.00\n",
       "NP_112598        0.00\n",
       "NP_001611        0.00\n",
       "NP_076965        0.00\n",
       "NP_001367        0.00\n",
       "NP_036222        0.00\n",
       "NP_001138241     0.00\n",
       "NP_001714        0.00\n",
       "NP_002464        0.00\n",
       "NP_001073936     0.00\n",
       "NP_061198        0.00\n",
       "NP_001074248     0.00\n",
       "NP_001074419     0.00\n",
       "NP_056009        0.00\n",
       "NP_036355        0.00\n",
       "NP_001155291     0.00\n",
       "NP_002462        0.00\n",
       "NP_000248        0.00\n",
       "NP_036467        0.00\n",
       "NP_004989        0.00\n",
       "NP_001243024     0.00\n",
       "NP_149043        0.00\n",
       "NP_067047       20.00\n",
       "                ...  \n",
       "NP_060152       28.75\n",
       "NP_001486       27.50\n",
       "NP_057655       11.25\n",
       "XP_003118572    36.25\n",
       "NP_057125       31.25\n",
       "NP_066009       27.50\n",
       "NP_653179        2.50\n",
       "NP_068741       26.25\n",
       "NP_002460       18.75\n",
       "NP_115956       31.25\n",
       "NP_006685       23.75\n",
       "NP_001092808    16.25\n",
       "NP_694948       23.75\n",
       "NP_000610       12.50\n",
       "NP_699178        3.75\n",
       "NP_006140        7.50\n",
       "NP_068835        3.75\n",
       "NP_872308       37.50\n",
       "NP_612382       10.00\n",
       "NP_061841       35.00\n",
       "NP_848561       10.00\n",
       "NP_057387       35.00\n",
       "NP_062558       33.75\n",
       "NP_665813        8.75\n",
       "NP_001165887    27.50\n",
       "NP_001010893    36.25\n",
       "NP_683762       28.75\n",
       "NP_699174       33.75\n",
       "NP_001193600    18.75\n",
       "NP_003593       35.00\n",
       "Length: 11130, dtype: float64"
      ]
     },
     "execution_count": 40,
     "metadata": {},
     "output_type": "execute_result"
    }
   ],
   "source": [
    "# Check for missing values\n",
    "proteomes.isnull().sum()/proteomes.isnull().count()*100"
   ]
  },
  {
   "cell_type": "markdown",
   "metadata": {},
   "source": [
    "There appears to be quite a bit of null values in the expression data frame. In this case, null values are indicative that no level of protein expression was detected. Taking this into consideration we can fill in those values with zero."
   ]
  },
  {
   "cell_type": "code",
   "execution_count": 42,
   "metadata": {},
   "outputs": [
    {
     "data": {
      "text/plain": [
       "NP_057427        0.00\n",
       "NP_002408        0.00\n",
       "NP_000415        0.00\n",
       "NP_000413        0.00\n",
       "NP_000517        0.00\n",
       "NP_004439        0.00\n",
       "NP_005219        0.00\n",
       "NP_058519        0.00\n",
       "NP_058518        0.00\n",
       "NP_001116539     0.00\n",
       "NP_061155        0.00\n",
       "NP_001035932     0.00\n",
       "NP_077006        0.00\n",
       "NP_000917        0.00\n",
       "NP_065178        0.00\n",
       "NP_006836        0.00\n",
       "NP_006614        0.00\n",
       "NP_001784        3.75\n",
       "NP_006092        2.50\n",
       "NP_001153651     0.00\n",
       "NP_001159403     0.00\n",
       "NP_000116        0.00\n",
       "NP_004314        0.00\n",
       "NP_060601        2.50\n",
       "NP_005931        0.00\n",
       "NP_003003        0.00\n",
       "NP_113611        6.25\n",
       "NP_002002       13.75\n",
       "NP_004487        0.00\n",
       "NP_008950        0.00\n",
       "NP_114172        7.50\n",
       "NP_001062        6.25\n",
       "NP_057547        7.50\n",
       "NP_054895        0.00\n",
       "NP_001246       11.25\n",
       "NP_055606       43.75\n",
       "NP_036451       22.50\n",
       "NP_000624       25.00\n",
       "NP_001159       18.75\n",
       "dtype: float64"
      ]
     },
     "execution_count": 42,
     "metadata": {},
     "output_type": "execute_result"
    }
   ],
   "source": [
    "# Check for missing values\n",
    "p50.isnull().sum()/p50.isnull().count()*100"
   ]
  },
  {
   "cell_type": "code",
   "execution_count": 43,
   "metadata": {},
   "outputs": [],
   "source": [
    "for column in proteomes:\n",
    "    proteomes.loc[:, column] = proteomes.loc[:, column].fillna(proteomes.loc[:, column].mean())"
   ]
  },
  {
   "cell_type": "code",
   "execution_count": 44,
   "metadata": {},
   "outputs": [],
   "source": [
    "for column in p50:\n",
    "    p50.loc[:, column] = p50.loc[:, column].fillna(p50.loc[:, column].mean())"
   ]
  },
  {
   "cell_type": "markdown",
   "metadata": {},
   "source": [
    "## Data Exploration: Proteomes and PAM50 Data"
   ]
  },
  {
   "cell_type": "code",
   "execution_count": 45,
   "metadata": {},
   "outputs": [
    {
     "data": {
      "text/html": [
       "<div>\n",
       "<style scoped>\n",
       "    .dataframe tbody tr th:only-of-type {\n",
       "        vertical-align: middle;\n",
       "    }\n",
       "\n",
       "    .dataframe tbody tr th {\n",
       "        vertical-align: top;\n",
       "    }\n",
       "\n",
       "    .dataframe thead th {\n",
       "        text-align: right;\n",
       "    }\n",
       "</style>\n",
       "<table border=\"1\" class=\"dataframe\">\n",
       "  <thead>\n",
       "    <tr style=\"text-align: right;\">\n",
       "      <th></th>\n",
       "      <th>NP_958782</th>\n",
       "      <th>NP_958785</th>\n",
       "      <th>NP_958786</th>\n",
       "      <th>NP_000436</th>\n",
       "      <th>NP_958781</th>\n",
       "      <th>NP_958780</th>\n",
       "      <th>NP_958783</th>\n",
       "      <th>NP_958784</th>\n",
       "      <th>NP_112598</th>\n",
       "      <th>NP_001611</th>\n",
       "      <th>...</th>\n",
       "      <th>NP_848561</th>\n",
       "      <th>NP_057387</th>\n",
       "      <th>NP_062558</th>\n",
       "      <th>NP_665813</th>\n",
       "      <th>NP_001165887</th>\n",
       "      <th>NP_001010893</th>\n",
       "      <th>NP_683762</th>\n",
       "      <th>NP_699174</th>\n",
       "      <th>NP_001193600</th>\n",
       "      <th>NP_003593</th>\n",
       "    </tr>\n",
       "  </thead>\n",
       "  <tbody>\n",
       "    <tr>\n",
       "      <th>TCGA-A2-A0CM</th>\n",
       "      <td>0.683404</td>\n",
       "      <td>0.694424</td>\n",
       "      <td>0.698098</td>\n",
       "      <td>0.687077</td>\n",
       "      <td>0.687077</td>\n",
       "      <td>0.698098</td>\n",
       "      <td>0.698098</td>\n",
       "      <td>0.698098</td>\n",
       "      <td>-2.652150</td>\n",
       "      <td>-0.984373</td>\n",
       "      <td>...</td>\n",
       "      <td>-0.841106</td>\n",
       "      <td>-1.660300</td>\n",
       "      <td>-1.355399</td>\n",
       "      <td>-1.101926</td>\n",
       "      <td>0.180132</td>\n",
       "      <td>-2.512556</td>\n",
       "      <td>-2.222349</td>\n",
       "      <td>0.999326</td>\n",
       "      <td>-0.997995</td>\n",
       "      <td>0.319917</td>\n",
       "    </tr>\n",
       "    <tr>\n",
       "      <th>TCGA-A2-A0D2</th>\n",
       "      <td>0.107491</td>\n",
       "      <td>0.104164</td>\n",
       "      <td>0.107491</td>\n",
       "      <td>0.097512</td>\n",
       "      <td>0.104164</td>\n",
       "      <td>0.104164</td>\n",
       "      <td>0.104164</td>\n",
       "      <td>0.104164</td>\n",
       "      <td>-0.880454</td>\n",
       "      <td>-1.512473</td>\n",
       "      <td>...</td>\n",
       "      <td>0.589821</td>\n",
       "      <td>-8.843890</td>\n",
       "      <td>0.748453</td>\n",
       "      <td>3.230994</td>\n",
       "      <td>1.561134</td>\n",
       "      <td>-0.517875</td>\n",
       "      <td>-2.586905</td>\n",
       "      <td>-0.384818</td>\n",
       "      <td>0.919136</td>\n",
       "      <td>0.319917</td>\n",
       "    </tr>\n",
       "    <tr>\n",
       "      <th>TCGA-A2-A0EQ</th>\n",
       "      <td>-0.912670</td>\n",
       "      <td>-0.927979</td>\n",
       "      <td>-0.927979</td>\n",
       "      <td>-0.931806</td>\n",
       "      <td>-0.927979</td>\n",
       "      <td>-0.927979</td>\n",
       "      <td>-0.927979</td>\n",
       "      <td>-0.927979</td>\n",
       "      <td>-3.071151</td>\n",
       "      <td>-2.278943</td>\n",
       "      <td>...</td>\n",
       "      <td>-0.400998</td>\n",
       "      <td>-6.771952</td>\n",
       "      <td>1.800740</td>\n",
       "      <td>-1.077235</td>\n",
       "      <td>0.473015</td>\n",
       "      <td>1.670618</td>\n",
       "      <td>-2.401410</td>\n",
       "      <td>0.057932</td>\n",
       "      <td>-0.801685</td>\n",
       "      <td>3.802310</td>\n",
       "    </tr>\n",
       "    <tr>\n",
       "      <th>TCGA-A2-A0EV</th>\n",
       "      <td>0.452986</td>\n",
       "      <td>0.472590</td>\n",
       "      <td>0.472590</td>\n",
       "      <td>0.458587</td>\n",
       "      <td>0.472590</td>\n",
       "      <td>0.472590</td>\n",
       "      <td>0.472590</td>\n",
       "      <td>0.472590</td>\n",
       "      <td>-0.742871</td>\n",
       "      <td>1.811277</td>\n",
       "      <td>...</td>\n",
       "      <td>-1.832304</td>\n",
       "      <td>-10.816632</td>\n",
       "      <td>0.705040</td>\n",
       "      <td>-0.504820</td>\n",
       "      <td>1.329574</td>\n",
       "      <td>-0.826889</td>\n",
       "      <td>-6.918196</td>\n",
       "      <td>-2.585666</td>\n",
       "      <td>-4.966177</td>\n",
       "      <td>-0.474013</td>\n",
       "    </tr>\n",
       "    <tr>\n",
       "      <th>TCGA-A2-A0EX</th>\n",
       "      <td>1.185108</td>\n",
       "      <td>1.192612</td>\n",
       "      <td>1.188860</td>\n",
       "      <td>1.185108</td>\n",
       "      <td>1.200116</td>\n",
       "      <td>1.188860</td>\n",
       "      <td>1.188860</td>\n",
       "      <td>1.192612</td>\n",
       "      <td>1.046289</td>\n",
       "      <td>2.138081</td>\n",
       "      <td>...</td>\n",
       "      <td>-0.400998</td>\n",
       "      <td>-11.815089</td>\n",
       "      <td>1.691609</td>\n",
       "      <td>0.626081</td>\n",
       "      <td>3.713862</td>\n",
       "      <td>1.504016</td>\n",
       "      <td>-3.812370</td>\n",
       "      <td>2.629575</td>\n",
       "      <td>1.451490</td>\n",
       "      <td>0.319917</td>\n",
       "    </tr>\n",
       "  </tbody>\n",
       "</table>\n",
       "<p>5 rows × 11130 columns</p>\n",
       "</div>"
      ],
      "text/plain": [
       "              NP_958782  NP_958785  NP_958786  NP_000436  NP_958781  \\\n",
       "TCGA-A2-A0CM   0.683404   0.694424   0.698098   0.687077   0.687077   \n",
       "TCGA-A2-A0D2   0.107491   0.104164   0.107491   0.097512   0.104164   \n",
       "TCGA-A2-A0EQ  -0.912670  -0.927979  -0.927979  -0.931806  -0.927979   \n",
       "TCGA-A2-A0EV   0.452986   0.472590   0.472590   0.458587   0.472590   \n",
       "TCGA-A2-A0EX   1.185108   1.192612   1.188860   1.185108   1.200116   \n",
       "\n",
       "              NP_958780  NP_958783  NP_958784  NP_112598  NP_001611  ...  \\\n",
       "TCGA-A2-A0CM   0.698098   0.698098   0.698098  -2.652150  -0.984373  ...   \n",
       "TCGA-A2-A0D2   0.104164   0.104164   0.104164  -0.880454  -1.512473  ...   \n",
       "TCGA-A2-A0EQ  -0.927979  -0.927979  -0.927979  -3.071151  -2.278943  ...   \n",
       "TCGA-A2-A0EV   0.472590   0.472590   0.472590  -0.742871   1.811277  ...   \n",
       "TCGA-A2-A0EX   1.188860   1.188860   1.192612   1.046289   2.138081  ...   \n",
       "\n",
       "              NP_848561  NP_057387  NP_062558  NP_665813  NP_001165887  \\\n",
       "TCGA-A2-A0CM  -0.841106  -1.660300  -1.355399  -1.101926      0.180132   \n",
       "TCGA-A2-A0D2   0.589821  -8.843890   0.748453   3.230994      1.561134   \n",
       "TCGA-A2-A0EQ  -0.400998  -6.771952   1.800740  -1.077235      0.473015   \n",
       "TCGA-A2-A0EV  -1.832304 -10.816632   0.705040  -0.504820      1.329574   \n",
       "TCGA-A2-A0EX  -0.400998 -11.815089   1.691609   0.626081      3.713862   \n",
       "\n",
       "              NP_001010893  NP_683762  NP_699174  NP_001193600  NP_003593  \n",
       "TCGA-A2-A0CM     -2.512556  -2.222349   0.999326     -0.997995   0.319917  \n",
       "TCGA-A2-A0D2     -0.517875  -2.586905  -0.384818      0.919136   0.319917  \n",
       "TCGA-A2-A0EQ      1.670618  -2.401410   0.057932     -0.801685   3.802310  \n",
       "TCGA-A2-A0EV     -0.826889  -6.918196  -2.585666     -4.966177  -0.474013  \n",
       "TCGA-A2-A0EX      1.504016  -3.812370   2.629575      1.451490   0.319917  \n",
       "\n",
       "[5 rows x 11130 columns]"
      ]
     },
     "execution_count": 45,
     "metadata": {},
     "output_type": "execute_result"
    }
   ],
   "source": [
    "proteomes.head()"
   ]
  },
  {
   "cell_type": "code",
   "execution_count": 46,
   "metadata": {},
   "outputs": [
    {
     "data": {
      "text/html": [
       "<div>\n",
       "<style scoped>\n",
       "    .dataframe tbody tr th:only-of-type {\n",
       "        vertical-align: middle;\n",
       "    }\n",
       "\n",
       "    .dataframe tbody tr th {\n",
       "        vertical-align: top;\n",
       "    }\n",
       "\n",
       "    .dataframe thead th {\n",
       "        text-align: right;\n",
       "    }\n",
       "</style>\n",
       "<table border=\"1\" class=\"dataframe\">\n",
       "  <thead>\n",
       "    <tr style=\"text-align: right;\">\n",
       "      <th></th>\n",
       "      <th>NP_057427</th>\n",
       "      <th>NP_002408</th>\n",
       "      <th>NP_000415</th>\n",
       "      <th>NP_000413</th>\n",
       "      <th>NP_000517</th>\n",
       "      <th>NP_004439</th>\n",
       "      <th>NP_005219</th>\n",
       "      <th>NP_058519</th>\n",
       "      <th>NP_058518</th>\n",
       "      <th>NP_001116539</th>\n",
       "      <th>...</th>\n",
       "      <th>NP_008950</th>\n",
       "      <th>NP_114172</th>\n",
       "      <th>NP_001062</th>\n",
       "      <th>NP_057547</th>\n",
       "      <th>NP_054895</th>\n",
       "      <th>NP_001246</th>\n",
       "      <th>NP_055606</th>\n",
       "      <th>NP_036451</th>\n",
       "      <th>NP_000624</th>\n",
       "      <th>NP_001159</th>\n",
       "    </tr>\n",
       "  </thead>\n",
       "  <tbody>\n",
       "    <tr>\n",
       "      <th>TCGA-A2-A0CM</th>\n",
       "      <td>2.160157</td>\n",
       "      <td>2.623021</td>\n",
       "      <td>4.768355</td>\n",
       "      <td>0.639321</td>\n",
       "      <td>4.933663</td>\n",
       "      <td>-4.419112</td>\n",
       "      <td>-0.271711</td>\n",
       "      <td>-6.013418</td>\n",
       "      <td>-6.013418</td>\n",
       "      <td>-6.318320</td>\n",
       "      <td>...</td>\n",
       "      <td>2.549550</td>\n",
       "      <td>2.733226</td>\n",
       "      <td>0.896468</td>\n",
       "      <td>-1.292949</td>\n",
       "      <td>3.541400</td>\n",
       "      <td>3.177722</td>\n",
       "      <td>0.025707</td>\n",
       "      <td>-1.792547</td>\n",
       "      <td>-0.545317</td>\n",
       "      <td>2.516489</td>\n",
       "    </tr>\n",
       "    <tr>\n",
       "      <th>TCGA-A2-A0D2</th>\n",
       "      <td>2.249702</td>\n",
       "      <td>3.576941</td>\n",
       "      <td>2.169868</td>\n",
       "      <td>2.968207</td>\n",
       "      <td>0.543251</td>\n",
       "      <td>-5.421010</td>\n",
       "      <td>-1.206443</td>\n",
       "      <td>-5.297932</td>\n",
       "      <td>-5.277974</td>\n",
       "      <td>-5.311238</td>\n",
       "      <td>...</td>\n",
       "      <td>2.376105</td>\n",
       "      <td>2.781928</td>\n",
       "      <td>6.836827</td>\n",
       "      <td>-3.694601</td>\n",
       "      <td>2.495856</td>\n",
       "      <td>2.722053</td>\n",
       "      <td>0.373604</td>\n",
       "      <td>-1.342826</td>\n",
       "      <td>-4.183584</td>\n",
       "      <td>3.487128</td>\n",
       "    </tr>\n",
       "    <tr>\n",
       "      <th>TCGA-A2-A0EQ</th>\n",
       "      <td>-0.020957</td>\n",
       "      <td>1.884936</td>\n",
       "      <td>-7.407249</td>\n",
       "      <td>-7.675146</td>\n",
       "      <td>-5.187535</td>\n",
       "      <td>-2.795601</td>\n",
       "      <td>7.158672</td>\n",
       "      <td>-9.114133</td>\n",
       "      <td>-8.762041</td>\n",
       "      <td>-9.573385</td>\n",
       "      <td>...</td>\n",
       "      <td>0.545453</td>\n",
       "      <td>-0.273546</td>\n",
       "      <td>1.460128</td>\n",
       "      <td>-1.410193</td>\n",
       "      <td>0.702364</td>\n",
       "      <td>-1.402538</td>\n",
       "      <td>0.025707</td>\n",
       "      <td>-0.269519</td>\n",
       "      <td>1.934688</td>\n",
       "      <td>0.798041</td>\n",
       "    </tr>\n",
       "    <tr>\n",
       "      <th>TCGA-A2-A0EV</th>\n",
       "      <td>-1.364604</td>\n",
       "      <td>-2.246793</td>\n",
       "      <td>-3.750716</td>\n",
       "      <td>-3.882344</td>\n",
       "      <td>-2.252395</td>\n",
       "      <td>-3.252209</td>\n",
       "      <td>-1.574649</td>\n",
       "      <td>-2.190781</td>\n",
       "      <td>-2.871327</td>\n",
       "      <td>-2.190781</td>\n",
       "      <td>...</td>\n",
       "      <td>-2.179579</td>\n",
       "      <td>-3.311022</td>\n",
       "      <td>0.139319</td>\n",
       "      <td>0.018893</td>\n",
       "      <td>-1.574649</td>\n",
       "      <td>-4.515280</td>\n",
       "      <td>0.025707</td>\n",
       "      <td>-0.269519</td>\n",
       "      <td>2.049328</td>\n",
       "      <td>-0.266769</td>\n",
       "    </tr>\n",
       "    <tr>\n",
       "      <th>TCGA-A2-A0EX</th>\n",
       "      <td>-2.506723</td>\n",
       "      <td>-2.953194</td>\n",
       "      <td>-0.803378</td>\n",
       "      <td>-2.315378</td>\n",
       "      <td>-0.098028</td>\n",
       "      <td>-1.643795</td>\n",
       "      <td>-1.212331</td>\n",
       "      <td>4.186597</td>\n",
       "      <td>3.976493</td>\n",
       "      <td>3.942726</td>\n",
       "      <td>...</td>\n",
       "      <td>-3.752341</td>\n",
       "      <td>-3.317125</td>\n",
       "      <td>-2.769353</td>\n",
       "      <td>-0.822137</td>\n",
       "      <td>-2.938187</td>\n",
       "      <td>-3.395914</td>\n",
       "      <td>-1.827636</td>\n",
       "      <td>0.082061</td>\n",
       "      <td>0.044543</td>\n",
       "      <td>-3.046991</td>\n",
       "    </tr>\n",
       "  </tbody>\n",
       "</table>\n",
       "<p>5 rows × 39 columns</p>\n",
       "</div>"
      ],
      "text/plain": [
       "              NP_057427  NP_002408  NP_000415  NP_000413  NP_000517  \\\n",
       "TCGA-A2-A0CM   2.160157   2.623021   4.768355   0.639321   4.933663   \n",
       "TCGA-A2-A0D2   2.249702   3.576941   2.169868   2.968207   0.543251   \n",
       "TCGA-A2-A0EQ  -0.020957   1.884936  -7.407249  -7.675146  -5.187535   \n",
       "TCGA-A2-A0EV  -1.364604  -2.246793  -3.750716  -3.882344  -2.252395   \n",
       "TCGA-A2-A0EX  -2.506723  -2.953194  -0.803378  -2.315378  -0.098028   \n",
       "\n",
       "              NP_004439  NP_005219  NP_058519  NP_058518  NP_001116539  ...  \\\n",
       "TCGA-A2-A0CM  -4.419112  -0.271711  -6.013418  -6.013418     -6.318320  ...   \n",
       "TCGA-A2-A0D2  -5.421010  -1.206443  -5.297932  -5.277974     -5.311238  ...   \n",
       "TCGA-A2-A0EQ  -2.795601   7.158672  -9.114133  -8.762041     -9.573385  ...   \n",
       "TCGA-A2-A0EV  -3.252209  -1.574649  -2.190781  -2.871327     -2.190781  ...   \n",
       "TCGA-A2-A0EX  -1.643795  -1.212331   4.186597   3.976493      3.942726  ...   \n",
       "\n",
       "              NP_008950  NP_114172  NP_001062  NP_057547  NP_054895  \\\n",
       "TCGA-A2-A0CM   2.549550   2.733226   0.896468  -1.292949   3.541400   \n",
       "TCGA-A2-A0D2   2.376105   2.781928   6.836827  -3.694601   2.495856   \n",
       "TCGA-A2-A0EQ   0.545453  -0.273546   1.460128  -1.410193   0.702364   \n",
       "TCGA-A2-A0EV  -2.179579  -3.311022   0.139319   0.018893  -1.574649   \n",
       "TCGA-A2-A0EX  -3.752341  -3.317125  -2.769353  -0.822137  -2.938187   \n",
       "\n",
       "              NP_001246  NP_055606  NP_036451  NP_000624  NP_001159  \n",
       "TCGA-A2-A0CM   3.177722   0.025707  -1.792547  -0.545317   2.516489  \n",
       "TCGA-A2-A0D2   2.722053   0.373604  -1.342826  -4.183584   3.487128  \n",
       "TCGA-A2-A0EQ  -1.402538   0.025707  -0.269519   1.934688   0.798041  \n",
       "TCGA-A2-A0EV  -4.515280   0.025707  -0.269519   2.049328  -0.266769  \n",
       "TCGA-A2-A0EX  -3.395914  -1.827636   0.082061   0.044543  -3.046991  \n",
       "\n",
       "[5 rows x 39 columns]"
      ]
     },
     "execution_count": 46,
     "metadata": {},
     "output_type": "execute_result"
    }
   ],
   "source": [
    "p50.head()"
   ]
  },
  {
   "cell_type": "code",
   "execution_count": 47,
   "metadata": {},
   "outputs": [
    {
     "name": "stdout",
     "output_type": "stream",
     "text": [
      "{'NP_057427': 1, 'NP_002408': 2, 'NP_000415': 3, 'NP_000413': 4, 'NP_000517': 5, 'NP_004439': 6, 'NP_005219': 7, 'NP_058519': 8, 'NP_058518': 9, 'NP_001116539': 10, 'NP_061155': 11, 'NP_001035932': 12, 'NP_077006': 13, 'NP_000917': 14, 'NP_065178': 15, 'NP_006836': 16, 'NP_006614': 17, 'NP_001784': 18, 'NP_006092': 19, 'NP_001153651': 20, 'NP_001159403': 21, 'NP_000116': 22, 'NP_004314': 23, 'NP_060601': 24, 'NP_005931': 25, 'NP_003003': 26, 'NP_113611': 27, 'NP_002002': 28, 'NP_004487': 29, 'NP_008950': 30, 'NP_114172': 31, 'NP_001062': 32, 'NP_057547': 33, 'NP_054895': 34, 'NP_001246': 35, 'NP_055606': 36, 'NP_036451': 37, 'NP_000624': 38, 'NP_001159': 39}\n"
     ]
    }
   ],
   "source": [
    "#Create a dictionary for pam50 columns \n",
    "list1 = p50[0:]\n",
    "list2 = [1, 2, 3, 4, 5, 6, 7, 8, 9, 10, 11, 12, 13, 14, 15, 16, 17, 18, 19, 20, 21, 22, 23, 24, 25, 26, 27, 28, 29, 30, 31,\n",
    "         32, 33, 34, 35, 36, 37, 38, 39]\n",
    "p50_dict = dict( zip( list1, list2))\n",
    "print(p50_dict)"
   ]
  },
  {
   "cell_type": "code",
   "execution_count": 48,
   "metadata": {},
   "outputs": [
    {
     "data": {
      "image/png": "[encoded data removed]",
      "text/plain": [
       "<Figure size 1440x5760 with 39 Axes>"
      ]
     },
     "metadata": {
      "needs_background": "light"
     },
     "output_type": "display_data"
    }
   ],
   "source": [
    "#visualizing the distribution of the pam50 genes\n",
    "plt.figure(figsize=(20, 80))\n",
    "\n",
    "for variable, i in p50_dict.items():\n",
    "                     plt.subplot(13, 3, i)\n",
    "                     sns.boxplot(p50[variable])\n",
    "                     plt.title(variable)\n",
    "\n",
    "plt.show()"
   ]
  },
  {
   "cell_type": "markdown",
   "metadata": {},
   "source": [
    "We now have a a cleaned up data frame with each row representing a different patient and each column representing a different protein and its expression level. Now we can perform unsupervised learning to cluster the patients together based off their protein expression levels. But first we'll perform dimensionality reduction techniques on the data.  "
   ]
  },
  {
   "cell_type": "markdown",
   "metadata": {},
   "source": [
    "### Apply dimensionality reduction techniques to visualize the observations"
   ]
  },
  {
   "cell_type": "code",
   "execution_count": 49,
   "metadata": {},
   "outputs": [],
   "source": [
    "merged.replace(['Luminal B', 'Luminal A', 'Basal-like', 'HER2-enriched'],\n",
    "                 [1, 2, 3, 4], inplace = True)"
   ]
  },
  {
   "cell_type": "code",
   "execution_count": 50,
   "metadata": {},
   "outputs": [],
   "source": [
    "X = proteomes\n",
    "y = merged['PAM50 mRNA']\n",
    "\n",
    "# Normalize\n",
    "X_std = StandardScaler().fit_transform(X)"
   ]
  },
  {
   "cell_type": "code",
   "execution_count": 51,
   "metadata": {},
   "outputs": [],
   "source": [
    "X_p50 = p50\n",
    "\n",
    "# Normalize\n",
    "X_std_p50 = StandardScaler().fit_transform(X_p50)"
   ]
  },
  {
   "cell_type": "code",
   "execution_count": 52,
   "metadata": {},
   "outputs": [
    {
     "ename": "IndexError",
     "evalue": "0",
     "output_type": "error",
     "traceback": [
      "\u001b[1;31m---------------------------------------------------------------------------\u001b[0m",
      "\u001b[1;31mTypeError\u001b[0m                                 Traceback (most recent call last)",
      "\u001b[1;32m~\\Anaconda3\\lib\\site-packages\\pandas\\core\\indexes\\base.py\u001b[0m in \u001b[0;36mget_value\u001b[1;34m(self, series, key)\u001b[0m\n\u001b[0;32m   4374\u001b[0m             return self._engine.get_value(s, k,\n\u001b[1;32m-> 4375\u001b[1;33m                                           tz=getattr(series.dtype, 'tz', None))\n\u001b[0m\u001b[0;32m   4376\u001b[0m         \u001b[1;32mexcept\u001b[0m \u001b[0mKeyError\u001b[0m \u001b[1;32mas\u001b[0m \u001b[0me1\u001b[0m\u001b[1;33m:\u001b[0m\u001b[1;33m\u001b[0m\u001b[1;33m\u001b[0m\u001b[0m\n",
      "\u001b[1;32mpandas/_libs/index.pyx\u001b[0m in \u001b[0;36mpandas._libs.index.IndexEngine.get_value\u001b[1;34m()\u001b[0m\n",
      "\u001b[1;32mpandas/_libs/index.pyx\u001b[0m in \u001b[0;36mpandas._libs.index.IndexEngine.get_value\u001b[1;34m()\u001b[0m\n",
      "\u001b[1;32mpandas/_libs/index.pyx\u001b[0m in \u001b[0;36mpandas._libs.index.IndexEngine.get_loc\u001b[1;34m()\u001b[0m\n",
      "\u001b[1;32mpandas/_libs/index.pyx\u001b[0m in \u001b[0;36mpandas._libs.index.IndexEngine._get_loc_duplicates\u001b[1;34m()\u001b[0m\n",
      "\u001b[1;31mTypeError\u001b[0m: '<' not supported between instances of 'str' and 'int'",
      "\nDuring handling of the above exception, another exception occurred:\n",
      "\u001b[1;31mIndexError\u001b[0m                                Traceback (most recent call last)",
      "\u001b[1;32m<ipython-input-52-d783bd1140bf>\u001b[0m in \u001b[0;36m<module>\u001b[1;34m\u001b[0m\n\u001b[0;32m      5\u001b[0m \u001b[0mcolours\u001b[0m \u001b[1;33m=\u001b[0m \u001b[1;33m[\u001b[0m\u001b[1;34m\"r\"\u001b[0m\u001b[1;33m,\u001b[0m\u001b[1;34m\"b\"\u001b[0m\u001b[1;33m,\u001b[0m\u001b[1;34m\"g\"\u001b[0m\u001b[1;33m,\u001b[0m\u001b[1;34m\"c\"\u001b[0m\u001b[1;33m]\u001b[0m\u001b[1;33m\u001b[0m\u001b[1;33m\u001b[0m\u001b[0m\n\u001b[0;32m      6\u001b[0m \u001b[1;32mfor\u001b[0m \u001b[0mi\u001b[0m \u001b[1;32min\u001b[0m \u001b[0mrange\u001b[0m\u001b[1;33m(\u001b[0m\u001b[0mpca_components\u001b[0m\u001b[1;33m.\u001b[0m\u001b[0mshape\u001b[0m\u001b[1;33m[\u001b[0m\u001b[1;36m0\u001b[0m\u001b[1;33m]\u001b[0m\u001b[1;33m)\u001b[0m\u001b[1;33m:\u001b[0m\u001b[1;33m\u001b[0m\u001b[1;33m\u001b[0m\u001b[0m\n\u001b[1;32m----> 7\u001b[1;33m     plt.text(pca_components[i, 0], pca_components[i, 1], str(y[i]),\n\u001b[0m\u001b[0;32m      8\u001b[0m              \u001b[0mcolor\u001b[0m\u001b[1;33m=\u001b[0m\u001b[0mcolours\u001b[0m\u001b[1;33m[\u001b[0m\u001b[0mint\u001b[0m\u001b[1;33m(\u001b[0m\u001b[0my\u001b[0m\u001b[1;33m[\u001b[0m\u001b[0mi\u001b[0m\u001b[1;33m]\u001b[0m\u001b[1;33m)\u001b[0m\u001b[1;33m]\u001b[0m\u001b[1;33m,\u001b[0m\u001b[1;33m\u001b[0m\u001b[1;33m\u001b[0m\u001b[0m\n\u001b[0;32m      9\u001b[0m              \u001b[0mfontdict\u001b[0m\u001b[1;33m=\u001b[0m\u001b[1;33m{\u001b[0m\u001b[1;34m'weight'\u001b[0m\u001b[1;33m:\u001b[0m \u001b[1;34m'bold'\u001b[0m\u001b[1;33m,\u001b[0m \u001b[1;34m'size'\u001b[0m\u001b[1;33m:\u001b[0m \u001b[1;36m50\u001b[0m\u001b[1;33m}\u001b[0m\u001b[1;33m\u001b[0m\u001b[1;33m\u001b[0m\u001b[0m\n",
      "\u001b[1;32m~\\Anaconda3\\lib\\site-packages\\pandas\\core\\series.py\u001b[0m in \u001b[0;36m__getitem__\u001b[1;34m(self, key)\u001b[0m\n\u001b[0;32m    866\u001b[0m         \u001b[0mkey\u001b[0m \u001b[1;33m=\u001b[0m \u001b[0mcom\u001b[0m\u001b[1;33m.\u001b[0m\u001b[0mapply_if_callable\u001b[0m\u001b[1;33m(\u001b[0m\u001b[0mkey\u001b[0m\u001b[1;33m,\u001b[0m \u001b[0mself\u001b[0m\u001b[1;33m)\u001b[0m\u001b[1;33m\u001b[0m\u001b[1;33m\u001b[0m\u001b[0m\n\u001b[0;32m    867\u001b[0m         \u001b[1;32mtry\u001b[0m\u001b[1;33m:\u001b[0m\u001b[1;33m\u001b[0m\u001b[1;33m\u001b[0m\u001b[0m\n\u001b[1;32m--> 868\u001b[1;33m             \u001b[0mresult\u001b[0m \u001b[1;33m=\u001b[0m \u001b[0mself\u001b[0m\u001b[1;33m.\u001b[0m\u001b[0mindex\u001b[0m\u001b[1;33m.\u001b[0m\u001b[0mget_value\u001b[0m\u001b[1;33m(\u001b[0m\u001b[0mself\u001b[0m\u001b[1;33m,\u001b[0m \u001b[0mkey\u001b[0m\u001b[1;33m)\u001b[0m\u001b[1;33m\u001b[0m\u001b[1;33m\u001b[0m\u001b[0m\n\u001b[0m\u001b[0;32m    869\u001b[0m \u001b[1;33m\u001b[0m\u001b[0m\n\u001b[0;32m    870\u001b[0m             \u001b[1;32mif\u001b[0m \u001b[1;32mnot\u001b[0m \u001b[0mis_scalar\u001b[0m\u001b[1;33m(\u001b[0m\u001b[0mresult\u001b[0m\u001b[1;33m)\u001b[0m\u001b[1;33m:\u001b[0m\u001b[1;33m\u001b[0m\u001b[1;33m\u001b[0m\u001b[0m\n",
      "\u001b[1;32m~\\Anaconda3\\lib\\site-packages\\pandas\\core\\indexes\\base.py\u001b[0m in \u001b[0;36mget_value\u001b[1;34m(self, series, key)\u001b[0m\n\u001b[0;32m   4393\u001b[0m             \u001b[1;31m# python 3\u001b[0m\u001b[1;33m\u001b[0m\u001b[1;33m\u001b[0m\u001b[1;33m\u001b[0m\u001b[0m\n\u001b[0;32m   4394\u001b[0m             \u001b[1;32mif\u001b[0m \u001b[0mis_scalar\u001b[0m\u001b[1;33m(\u001b[0m\u001b[0mkey\u001b[0m\u001b[1;33m)\u001b[0m\u001b[1;33m:\u001b[0m  \u001b[1;31m# pragma: no cover\u001b[0m\u001b[1;33m\u001b[0m\u001b[1;33m\u001b[0m\u001b[0m\n\u001b[1;32m-> 4395\u001b[1;33m                 \u001b[1;32mraise\u001b[0m \u001b[0mIndexError\u001b[0m\u001b[1;33m(\u001b[0m\u001b[0mkey\u001b[0m\u001b[1;33m)\u001b[0m\u001b[1;33m\u001b[0m\u001b[1;33m\u001b[0m\u001b[0m\n\u001b[0m\u001b[0;32m   4396\u001b[0m             \u001b[1;32mraise\u001b[0m \u001b[0mInvalidIndexError\u001b[0m\u001b[1;33m(\u001b[0m\u001b[0mkey\u001b[0m\u001b[1;33m)\u001b[0m\u001b[1;33m\u001b[0m\u001b[1;33m\u001b[0m\u001b[0m\n\u001b[0;32m   4397\u001b[0m \u001b[1;33m\u001b[0m\u001b[0m\n",
      "\u001b[1;31mIndexError\u001b[0m: 0"
     ]
    },
    {
     "data": {
      "text/plain": [
       "<Figure size 720x360 with 0 Axes>"
      ]
     },
     "metadata": {},
     "output_type": "display_data"
    }
   ],
   "source": [
    "pca = PCA(n_components=2)\n",
    "pca_components = pca.fit_transform(X_p50)\n",
    "\n",
    "plt.figure(figsize=(10,5))\n",
    "colours = [\"r\",\"b\",\"g\",\"c\"]\n",
    "for i in range(pca_components.shape[0]):\n",
    "    plt.text(pca_components[i, 0], pca_components[i, 1], str(y[i]),\n",
    "             color=colours[int(y[i])],\n",
    "             fontdict={'weight': 'bold', 'size': 50}\n",
    "        )\n",
    "\n",
    "plt.xticks([])\n",
    "plt.yticks([])\n",
    "plt.axis('off')\n",
    "plt.show()"
   ]
  },
  {
   "cell_type": "code",
   "execution_count": 53,
   "metadata": {},
   "outputs": [
    {
     "data": {
      "image/png": "[encoded data removed]",
      "text/plain": [
       "<Figure size 720x360 with 1 Axes>"
      ]
     },
     "metadata": {},
     "output_type": "display_data"
    }
   ],
   "source": [
    "# visualize pca\n",
    "pca = PCA(n_components=2)\n",
    "pca_components = pca.fit_transform(X_std)\n",
    "\n",
    "plt.figure(figsize=(10,5))\n",
    "plt.scatter(pca_components[:, 0], pca_components[:, 1])\n",
    "plt.xticks([])\n",
    "plt.yticks([])\n",
    "plt.axis('off')\n",
    "plt.show()"
   ]
  },
  {
   "cell_type": "code",
   "execution_count": 54,
   "metadata": {},
   "outputs": [
    {
     "data": {
      "image/png": "[encoded data removed]",
      "text/plain": [
       "<Figure size 720x360 with 1 Axes>"
      ]
     },
     "metadata": {},
     "output_type": "display_data"
    }
   ],
   "source": [
    "# visualize pca\n",
    "pca = PCA(n_components=2)\n",
    "pca_components = pca.fit_transform(X_std_p50)\n",
    "\n",
    "plt.figure(figsize=(10,5))\n",
    "plt.scatter(pca_components[:, 0], pca_components[:, 1])\n",
    "plt.xticks([])\n",
    "plt.yticks([])\n",
    "plt.axis('off')\n",
    "plt.show()"
   ]
  },
  {
   "cell_type": "code",
   "execution_count": 55,
   "metadata": {},
   "outputs": [
    {
     "name": "stdout",
     "output_type": "stream",
     "text": [
      "[t-SNE] Computing 31 nearest neighbors...\n",
      "[t-SNE] Indexed 80 samples in 0.141s...\n",
      "[t-SNE] Computed neighbors for 80 samples in 0.202s...\n",
      "[t-SNE] Computed conditional probabilities for sample 80 / 80\n",
      "[t-SNE] Mean sigma: 32.201649\n",
      "[t-SNE] KL divergence after 250 iterations with early exaggeration: 75.538567\n",
      "[t-SNE] KL divergence after 300 iterations: 1.762748\n"
     ]
    },
    {
     "data": {
      "image/png": "[encoded data removed]",
      "text/plain": [
       "<Figure size 720x360 with 1 Axes>"
      ]
     },
     "metadata": {},
     "output_type": "display_data"
    }
   ],
   "source": [
    "# visualize t-SNE\n",
    "tsne = TSNE(n_components=2, verbose=1, perplexity=10, n_iter=300)\n",
    "tsne_results = tsne.fit_transform(X_std)\n",
    "\n",
    "plt.figure(figsize=(10,5))\n",
    "plt.scatter(tsne_results[:, 0], tsne_results[:, 1])\n",
    "plt.xticks([])\n",
    "plt.yticks([])\n",
    "plt.axis('off')\n",
    "plt.show()"
   ]
  },
  {
   "cell_type": "code",
   "execution_count": 56,
   "metadata": {},
   "outputs": [
    {
     "name": "stdout",
     "output_type": "stream",
     "text": [
      "[t-SNE] Computing 31 nearest neighbors...\n",
      "[t-SNE] Indexed 80 samples in 0.000s...\n",
      "[t-SNE] Computed neighbors for 80 samples in 0.000s...\n",
      "[t-SNE] Computed conditional probabilities for sample 80 / 80\n",
      "[t-SNE] Mean sigma: 2.401752\n",
      "[t-SNE] KL divergence after 250 iterations with early exaggeration: 69.939194\n",
      "[t-SNE] KL divergence after 300 iterations: 1.937023\n"
     ]
    },
    {
     "data": {
      "image/png": "[encoded data removed]",
      "text/plain": [
       "<Figure size 720x360 with 1 Axes>"
      ]
     },
     "metadata": {},
     "output_type": "display_data"
    }
   ],
   "source": [
    "# visualize t-SNE\n",
    "tsne = TSNE(n_components=2, verbose=1, perplexity=10, n_iter=300)\n",
    "tsne_results = tsne.fit_transform(X_std_p50)\n",
    "\n",
    "plt.figure(figsize=(10,5))\n",
    "plt.scatter(tsne_results[:, 0], tsne_results[:, 1])\n",
    "plt.xticks([])\n",
    "plt.yticks([])\n",
    "plt.axis('off')\n",
    "plt.show()"
   ]
  },
  {
   "cell_type": "code",
   "execution_count": 57,
   "metadata": {},
   "outputs": [
    {
     "data": {
      "image/png": "[encoded data removed]",
      "text/plain": [
       "<Figure size 720x360 with 1 Axes>"
      ]
     },
     "metadata": {},
     "output_type": "display_data"
    }
   ],
   "source": [
    "# visualize UMAP\n",
    "umap_results = umap.UMAP(n_neighbors=5,\n",
    "                      min_dist=0.5,\n",
    "                      metric='correlation').fit_transform(X_std)\n",
    "\n",
    "plt.figure(figsize=(10,5))\n",
    "plt.scatter(umap_results[:, 0], umap_results[:, 1])\n",
    "plt.xticks([])\n",
    "plt.yticks([])\n",
    "plt.axis('off')\n",
    "plt.show()"
   ]
  },
  {
   "cell_type": "code",
   "execution_count": 58,
   "metadata": {},
   "outputs": [
    {
     "data": {
      "image/png": "[encoded data removed]",
      "text/plain": [
       "<Figure size 720x360 with 1 Axes>"
      ]
     },
     "metadata": {},
     "output_type": "display_data"
    }
   ],
   "source": [
    "# visualize UMAP\n",
    "umap_results = umap.UMAP(n_neighbors=5,\n",
    "                      min_dist=0.5,\n",
    "                      metric='correlation').fit_transform(X_std_p50)\n",
    "\n",
    "plt.figure(figsize=(10,5))\n",
    "plt.scatter(umap_results[:, 0], umap_results[:, 1])\n",
    "plt.xticks([])\n",
    "plt.yticks([])\n",
    "plt.axis('off')\n",
    "plt.show()"
   ]
  },
  {
   "cell_type": "markdown",
   "metadata": {},
   "source": [
    "Applying the dimensionality reductions using PCA, t-SNE, and UMAP they all did a really good job at separating out the patients based off their protein expression levels. UMAP and t-SNE seemed to have separated the patients more clearly than PCA and since we were only dealing with 80 rows, all these methods were very fast so speed was not an issue. It's pretty interesting that there is enough of a difference in the expression levels for all patients that we can visualize each patient as being rather distinguishable from the next. Next, we'll look at three different clustering methods and see if we can group patients together based off their proteomes.  "
   ]
  },
  {
   "cell_type": "markdown",
   "metadata": {},
   "source": [
    "### Apply clustering techniques to group together similar observations."
   ]
  },
  {
   "cell_type": "markdown",
   "metadata": {},
   "source": [
    "#### K-means clustering"
   ]
  },
  {
   "cell_type": "code",
   "execution_count": 59,
   "metadata": {},
   "outputs": [],
   "source": [
    "## Check which number of clusters works best, 20 and 79 are just for fun and comparison.\n",
    "n_clusters = [2, 3, 4, 5, 6, 7, 10, 20]"
   ]
  },
  {
   "cell_type": "code",
   "execution_count": 60,
   "metadata": {},
   "outputs": [],
   "source": [
    "def compare_k_means(k_list, data):\n",
    "    ## Run clustering with different k and check the metrics\n",
    "    for k in k_list:\n",
    "        clusterer = KMeans(n_clusters=k, random_state=123)\n",
    "        clusterer.fit(data)\n",
    "        ##\n",
    "        print(\"Adjusted Rand Index for k == {}: {}\".format(k, metrics.adjusted_rand_score(y, clusterer.labels_)))\n",
    "        print(\"Silhouette Coefficient for k == {}: {}\".format(k, metrics.silhouette_score(data, clusterer.labels_)))\n",
    "        print(\"\\n\")"
   ]
  },
  {
   "cell_type": "code",
   "execution_count": 61,
   "metadata": {},
   "outputs": [
    {
     "name": "stdout",
     "output_type": "stream",
     "text": [
      "Adjusted Rand Index for k == 2: 0.0028939413475451755\n",
      "Silhouette Coefficient for k == 2: 0.12020309099125175\n",
      "\n",
      "\n",
      "Adjusted Rand Index for k == 3: 0.15813588528818923\n",
      "Silhouette Coefficient for k == 3: 0.05577213316124898\n",
      "\n",
      "\n",
      "Adjusted Rand Index for k == 4: 0.18579790331676335\n",
      "Silhouette Coefficient for k == 4: 0.051354518596864886\n",
      "\n",
      "\n",
      "Adjusted Rand Index for k == 5: 0.22022049529001833\n",
      "Silhouette Coefficient for k == 5: 0.04140040990724001\n",
      "\n",
      "\n",
      "Adjusted Rand Index for k == 6: 0.0407200863486842\n",
      "Silhouette Coefficient for k == 6: 0.04973954425908367\n",
      "\n",
      "\n",
      "Adjusted Rand Index for k == 7: 0.0781548257417862\n",
      "Silhouette Coefficient for k == 7: 0.047095181121979836\n",
      "\n",
      "\n",
      "Adjusted Rand Index for k == 10: 0.09069754057956146\n",
      "Silhouette Coefficient for k == 10: 0.04705896928127461\n",
      "\n",
      "\n",
      "Adjusted Rand Index for k == 20: 0.040787470554747844\n",
      "Silhouette Coefficient for k == 20: 0.047302849837309265\n",
      "\n",
      "\n"
     ]
    }
   ],
   "source": [
    "# Evaluate k-means for the proteomes data\n",
    "compare_k_means(n_clusters, proteomes)"
   ]
  },
  {
   "cell_type": "code",
   "execution_count": 62,
   "metadata": {},
   "outputs": [
    {
     "name": "stdout",
     "output_type": "stream",
     "text": [
      "Adjusted Rand Index for k == 2: 0.22133865889109447\n",
      "Silhouette Coefficient for k == 2: 0.21899920135727316\n",
      "\n",
      "\n",
      "Adjusted Rand Index for k == 3: 0.38346002224083564\n",
      "Silhouette Coefficient for k == 3: 0.18178966873347366\n",
      "\n",
      "\n",
      "Adjusted Rand Index for k == 4: 0.33286692426468145\n",
      "Silhouette Coefficient for k == 4: 0.14551426096230918\n",
      "\n",
      "\n",
      "Adjusted Rand Index for k == 5: 0.42020668526224336\n",
      "Silhouette Coefficient for k == 5: 0.14853850428498028\n",
      "\n",
      "\n",
      "Adjusted Rand Index for k == 6: 0.43028056481266963\n",
      "Silhouette Coefficient for k == 6: 0.14230616774171528\n",
      "\n",
      "\n",
      "Adjusted Rand Index for k == 7: 0.34279288953400827\n",
      "Silhouette Coefficient for k == 7: 0.11607921088366484\n",
      "\n",
      "\n",
      "Adjusted Rand Index for k == 10: 0.2081551367377609\n",
      "Silhouette Coefficient for k == 10: 0.1030253025002406\n",
      "\n",
      "\n",
      "Adjusted Rand Index for k == 20: 0.1642416713464822\n",
      "Silhouette Coefficient for k == 20: 0.07726421653215035\n",
      "\n",
      "\n"
     ]
    }
   ],
   "source": [
    "# Evaluate k-means for the PAM50 data\n",
    "compare_k_means(n_clusters, p50)"
   ]
  },
  {
   "cell_type": "markdown",
   "metadata": {},
   "source": [
    "The best silhouette score for k-means clustering was at 2 clusters with a score of 0.101. As we increase the number of clusters the score seems to drop, but not significantly after 3 clusters. "
   ]
  },
  {
   "cell_type": "markdown",
   "metadata": {},
   "source": [
    "#### Hierarchical clustering"
   ]
  },
  {
   "cell_type": "code",
   "execution_count": 66,
   "metadata": {},
   "outputs": [],
   "source": [
    "def compare_agg_clusters_complete(k_list, data):\n",
    "    print('LINKAGE: COMPLETE\\n')\n",
    "    ## Run clustering with different k and check the metrics\n",
    "    for k in k_list:\n",
    "        clusterer = AgglomerativeClustering(linkage='complete',\n",
    "                                      affinity = 'cosine',\n",
    "                                      n_clusters = k)\n",
    "        clusterer.fit(data)\n",
    "        \n",
    "        print(\"Adjusted Rand Index for k == {}: {}\".format(k, metrics.adjusted_rand_score(y, clusterer.labels_)))\n",
    "        print(\"Silhouette Coefficient for k == {}: {}\".format(k, metrics.silhouette_score(data, clusterer.labels_)))\n",
    "        print('\\n')"
   ]
  },
  {
   "cell_type": "code",
   "execution_count": 67,
   "metadata": {},
   "outputs": [
    {
     "data": {
      "image/png": "[encoded data removed]",
      "text/plain": [
       "<Figure size 1440x720 with 1 Axes>"
      ]
     },
     "metadata": {
      "needs_background": "light"
     },
     "output_type": "display_data"
    }
   ],
   "source": [
    "plt.figure(figsize=(20,10))\n",
    "dendrogram(linkage(X_std, method='complete'))\n",
    "plt.show()"
   ]
  },
  {
   "cell_type": "code",
   "execution_count": 68,
   "metadata": {},
   "outputs": [
    {
     "name": "stdout",
     "output_type": "stream",
     "text": [
      "LINKAGE: COMPLETE\n",
      "\n",
      "Adjusted Rand Index for k == 2: 0.05868979861659757\n",
      "Silhouette Coefficient for k == 2: 0.061737965933372066\n",
      "\n",
      "\n",
      "Adjusted Rand Index for k == 3: 0.08187020871752192\n",
      "Silhouette Coefficient for k == 3: 0.031939945081069114\n",
      "\n",
      "\n",
      "Adjusted Rand Index for k == 4: 0.10696119978418131\n",
      "Silhouette Coefficient for k == 4: 0.03940328423279702\n",
      "\n",
      "\n",
      "Adjusted Rand Index for k == 5: 0.08069838176037238\n",
      "Silhouette Coefficient for k == 5: 0.024175210028098675\n",
      "\n",
      "\n",
      "Adjusted Rand Index for k == 6: 0.06504449914788864\n",
      "Silhouette Coefficient for k == 6: 0.017284807255232924\n",
      "\n",
      "\n",
      "Adjusted Rand Index for k == 7: 0.0970771302733593\n",
      "Silhouette Coefficient for k == 7: 0.028965649970796807\n",
      "\n",
      "\n",
      "Adjusted Rand Index for k == 10: 0.10651254038595741\n",
      "Silhouette Coefficient for k == 10: 0.03890547058899037\n",
      "\n",
      "\n",
      "Adjusted Rand Index for k == 20: 0.04739332551622051\n",
      "Silhouette Coefficient for k == 20: 0.04394172054685645\n",
      "\n",
      "\n"
     ]
    }
   ],
   "source": [
    "compare_agg_clusters_complete(n_clusters, proteomes)"
   ]
  },
  {
   "cell_type": "code",
   "execution_count": 69,
   "metadata": {},
   "outputs": [
    {
     "data": {
      "image/png": "[encoded data removed]",
      "text/plain": [
       "<Figure size 1440x720 with 1 Axes>"
      ]
     },
     "metadata": {
      "needs_background": "light"
     },
     "output_type": "display_data"
    }
   ],
   "source": [
    "plt.figure(figsize=(20,10))\n",
    "dendrogram(linkage(X_std_p50, method='complete'))\n",
    "plt.show()"
   ]
  },
  {
   "cell_type": "code",
   "execution_count": 70,
   "metadata": {},
   "outputs": [
    {
     "name": "stdout",
     "output_type": "stream",
     "text": [
      "LINKAGE: COMPLETE\n",
      "\n",
      "Adjusted Rand Index for k == 2: 0.03219715819609267\n",
      "Silhouette Coefficient for k == 2: 0.17516183152009498\n",
      "\n",
      "\n",
      "Adjusted Rand Index for k == 3: 0.1028089965686343\n",
      "Silhouette Coefficient for k == 3: 0.10533767583261455\n",
      "\n",
      "\n",
      "Adjusted Rand Index for k == 4: 0.27497341010114057\n",
      "Silhouette Coefficient for k == 4: 0.10196317477037016\n",
      "\n",
      "\n",
      "Adjusted Rand Index for k == 5: 0.26445682122664954\n",
      "Silhouette Coefficient for k == 5: 0.09355871531644935\n",
      "\n",
      "\n",
      "Adjusted Rand Index for k == 6: 0.26291736097243185\n",
      "Silhouette Coefficient for k == 6: 0.09133332216133225\n",
      "\n",
      "\n",
      "Adjusted Rand Index for k == 7: 0.33627564683307665\n",
      "Silhouette Coefficient for k == 7: 0.12144823407719496\n",
      "\n",
      "\n",
      "Adjusted Rand Index for k == 10: 0.31876753311589306\n",
      "Silhouette Coefficient for k == 10: 0.10505430365594033\n",
      "\n",
      "\n",
      "Adjusted Rand Index for k == 20: 0.1635827622617976\n",
      "Silhouette Coefficient for k == 20: 0.07825234310852706\n",
      "\n",
      "\n"
     ]
    }
   ],
   "source": [
    "compare_agg_clusters_complete(n_clusters, p50)"
   ]
  },
  {
   "cell_type": "code",
   "execution_count": 71,
   "metadata": {},
   "outputs": [],
   "source": [
    "def compare_agg_clusters_average(k_list, data):\n",
    "    print('LINKAGE: AVERAGE')\n",
    "    ## Run clustering with different k and check the metrics\n",
    "    for k in k_list:\n",
    "        clusterer = AgglomerativeClustering(linkage='average',\n",
    "                                      affinity = 'cosine',\n",
    "                                      n_clusters = k)\n",
    "        clusterer.fit(data)\n",
    "        \n",
    "        print(\"Adjusted Rand Index for k == {}: {}\".format(k, metrics.adjusted_rand_score(y, clusterer.labels_)))\n",
    "        print(\"Silhouette Coefficient for k == {}: {}\".format(k, metrics.silhouette_score(data, clusterer.labels_)))\n",
    "        print('\\n')"
   ]
  },
  {
   "cell_type": "code",
   "execution_count": 72,
   "metadata": {},
   "outputs": [
    {
     "data": {
      "image/png": "[encoded data removed]",
      "text/plain": [
       "<Figure size 1440x720 with 1 Axes>"
      ]
     },
     "metadata": {
      "needs_background": "light"
     },
     "output_type": "display_data"
    }
   ],
   "source": [
    "# Average linkage method\n",
    "plt.figure(figsize=(20,10))\n",
    "dendrogram(linkage(X_std, method='average'))\n",
    "plt.show()"
   ]
  },
  {
   "cell_type": "code",
   "execution_count": 73,
   "metadata": {},
   "outputs": [
    {
     "name": "stdout",
     "output_type": "stream",
     "text": [
      "LINKAGE: AVERAGE\n",
      "Adjusted Rand Index for k == 2: 0.01915894171838923\n",
      "Silhouette Coefficient for k == 2: 0.04837508642546877\n",
      "\n",
      "\n",
      "Adjusted Rand Index for k == 3: 0.010140585388338341\n",
      "Silhouette Coefficient for k == 3: 0.022448310119022038\n",
      "\n",
      "\n",
      "Adjusted Rand Index for k == 4: 0.0031439142802147445\n",
      "Silhouette Coefficient for k == 4: -0.002776437717660249\n",
      "\n",
      "\n",
      "Adjusted Rand Index for k == 5: -0.0025492772080011926\n",
      "Silhouette Coefficient for k == 5: -0.0012576412362738294\n",
      "\n",
      "\n",
      "Adjusted Rand Index for k == 6: 0.03159805657486729\n",
      "Silhouette Coefficient for k == 6: 0.017840571176497014\n",
      "\n",
      "\n",
      "Adjusted Rand Index for k == 7: 0.0555509952369226\n",
      "Silhouette Coefficient for k == 7: 0.02005377771559746\n",
      "\n",
      "\n",
      "Adjusted Rand Index for k == 10: 0.05928661956768113\n",
      "Silhouette Coefficient for k == 10: 0.02194638780767904\n",
      "\n",
      "\n",
      "Adjusted Rand Index for k == 20: 0.04245718686402215\n",
      "Silhouette Coefficient for k == 20: 0.04881662105056049\n",
      "\n",
      "\n"
     ]
    }
   ],
   "source": [
    "compare_agg_clusters_average(n_clusters, proteomes)"
   ]
  },
  {
   "cell_type": "code",
   "execution_count": 74,
   "metadata": {},
   "outputs": [
    {
     "data": {
      "image/png": "[encoded data removed]",
      "text/plain": [
       "<Figure size 1440x720 with 1 Axes>"
      ]
     },
     "metadata": {
      "needs_background": "light"
     },
     "output_type": "display_data"
    }
   ],
   "source": [
    "# Average linkage method\n",
    "plt.figure(figsize=(20,10))\n",
    "dendrogram(linkage(X_std_p50, method='average'))\n",
    "plt.show()"
   ]
  },
  {
   "cell_type": "code",
   "execution_count": 75,
   "metadata": {},
   "outputs": [
    {
     "name": "stdout",
     "output_type": "stream",
     "text": [
      "LINKAGE: AVERAGE\n",
      "Adjusted Rand Index for k == 2: 0.07885015706333294\n",
      "Silhouette Coefficient for k == 2: 0.19583469715008678\n",
      "\n",
      "\n",
      "Adjusted Rand Index for k == 3: 0.06608207311644225\n",
      "Silhouette Coefficient for k == 3: 0.13536141252821096\n",
      "\n",
      "\n",
      "Adjusted Rand Index for k == 4: 0.12747679711944246\n",
      "Silhouette Coefficient for k == 4: 0.09294424155567775\n",
      "\n",
      "\n",
      "Adjusted Rand Index for k == 5: 0.12549073052354848\n",
      "Silhouette Coefficient for k == 5: 0.07059139596140819\n",
      "\n",
      "\n",
      "Adjusted Rand Index for k == 6: 0.14272535400860592\n",
      "Silhouette Coefficient for k == 6: 0.053016516818098526\n",
      "\n",
      "\n",
      "Adjusted Rand Index for k == 7: 0.12987484853038805\n",
      "Silhouette Coefficient for k == 7: 0.0569431863630131\n",
      "\n",
      "\n",
      "Adjusted Rand Index for k == 10: 0.12313049616528103\n",
      "Silhouette Coefficient for k == 10: 0.00459811889165569\n",
      "\n",
      "\n",
      "Adjusted Rand Index for k == 20: 0.3139635271748624\n",
      "Silhouette Coefficient for k == 20: 0.05045346121864872\n",
      "\n",
      "\n"
     ]
    }
   ],
   "source": [
    "compare_agg_clusters_average(n_clusters, p50)"
   ]
  },
  {
   "cell_type": "code",
   "execution_count": 76,
   "metadata": {},
   "outputs": [],
   "source": [
    "def compare_agg_clusters_ward(k_list, data):\n",
    "    print('LINKAGE: WARD')\n",
    "    ## Run clustering with different k and check the metrics\n",
    "    for k in k_list:\n",
    "        clusterer = AgglomerativeClustering(linkage='ward',\n",
    "                                      affinity = 'euclidean',\n",
    "                                      n_clusters = k)\n",
    "        clusterer.fit(data)\n",
    "        \n",
    "        print(\"Adjusted Rand Index for k == {}: {}\".format(k, metrics.adjusted_rand_score(y, clusterer.labels_)))\n",
    "        print(\"Silhouette Coefficient for k == {}: {}\".format(k, metrics.silhouette_score(data, clusterer.labels_)))\n",
    "        print('\\n')"
   ]
  },
  {
   "cell_type": "code",
   "execution_count": 77,
   "metadata": {},
   "outputs": [
    {
     "data": {
      "image/png": "[encoded data removed]",
      "text/plain": [
       "<Figure size 1440x720 with 1 Axes>"
      ]
     },
     "metadata": {
      "needs_background": "light"
     },
     "output_type": "display_data"
    }
   ],
   "source": [
    "# Ward linkage method - proteomes\n",
    "plt.figure(figsize=(20,10))\n",
    "dendrogram(linkage(X_std, method='ward'))\n",
    "plt.show()"
   ]
  },
  {
   "cell_type": "code",
   "execution_count": 78,
   "metadata": {},
   "outputs": [
    {
     "name": "stdout",
     "output_type": "stream",
     "text": [
      "LINKAGE: WARD\n",
      "Adjusted Rand Index for k == 2: -0.0020020293711987135\n",
      "Silhouette Coefficient for k == 2: 0.09496279093090174\n",
      "\n",
      "\n",
      "Adjusted Rand Index for k == 3: 0.13333998204846914\n",
      "Silhouette Coefficient for k == 3: 0.05444332462210262\n",
      "\n",
      "\n",
      "Adjusted Rand Index for k == 4: 0.15560093604029732\n",
      "Silhouette Coefficient for k == 4: 0.05195001864065211\n",
      "\n",
      "\n",
      "Adjusted Rand Index for k == 5: 0.13836227057422723\n",
      "Silhouette Coefficient for k == 5: 0.0554571763884415\n",
      "\n",
      "\n",
      "Adjusted Rand Index for k == 6: 0.17828846727145725\n",
      "Silhouette Coefficient for k == 6: 0.05870429708614792\n",
      "\n",
      "\n",
      "Adjusted Rand Index for k == 7: 0.1765222635967903\n",
      "Silhouette Coefficient for k == 7: 0.06278284413254763\n",
      "\n",
      "\n",
      "Adjusted Rand Index for k == 10: 0.15045719467062396\n",
      "Silhouette Coefficient for k == 10: 0.0574520914356744\n",
      "\n",
      "\n",
      "Adjusted Rand Index for k == 20: 0.09419308480703728\n",
      "Silhouette Coefficient for k == 20: 0.06622026773208928\n",
      "\n",
      "\n"
     ]
    }
   ],
   "source": [
    "# ward linkage - proteomes\n",
    "compare_agg_clusters_ward(n_clusters, proteomes)"
   ]
  },
  {
   "cell_type": "code",
   "execution_count": 79,
   "metadata": {},
   "outputs": [
    {
     "data": {
      "image/png": "[encoded data removed]",
      "text/plain": [
       "<Figure size 1440x720 with 1 Axes>"
      ]
     },
     "metadata": {
      "needs_background": "light"
     },
     "output_type": "display_data"
    }
   ],
   "source": [
    "# Ward linkage method - PAM50\n",
    "plt.figure(figsize=(20,10))\n",
    "dendrogram(linkage(X_std_p50, method='ward'))\n",
    "plt.title('PAM50: Ward Linkage')\n",
    "plt.show()"
   ]
  },
  {
   "cell_type": "code",
   "execution_count": 80,
   "metadata": {},
   "outputs": [
    {
     "name": "stdout",
     "output_type": "stream",
     "text": [
      "LINKAGE: WARD\n",
      "Adjusted Rand Index for k == 2: 0.29351548824111423\n",
      "Silhouette Coefficient for k == 2: 0.209627923936194\n",
      "\n",
      "\n",
      "Adjusted Rand Index for k == 3: 0.2994298333358982\n",
      "Silhouette Coefficient for k == 3: 0.15717082840634647\n",
      "\n",
      "\n",
      "Adjusted Rand Index for k == 4: 0.3643807858179961\n",
      "Silhouette Coefficient for k == 4: 0.1415726748905616\n",
      "\n",
      "\n",
      "Adjusted Rand Index for k == 5: 0.326797538913776\n",
      "Silhouette Coefficient for k == 5: 0.12423863752577073\n",
      "\n",
      "\n",
      "Adjusted Rand Index for k == 6: 0.32143635501198675\n",
      "Silhouette Coefficient for k == 6: 0.11672480151390725\n",
      "\n",
      "\n",
      "Adjusted Rand Index for k == 7: 0.28562077559372\n",
      "Silhouette Coefficient for k == 7: 0.10563872765212881\n",
      "\n",
      "\n",
      "Adjusted Rand Index for k == 10: 0.2175966152635346\n",
      "Silhouette Coefficient for k == 10: 0.10304396717279203\n",
      "\n",
      "\n",
      "Adjusted Rand Index for k == 20: 0.1283619185329071\n",
      "Silhouette Coefficient for k == 20: 0.11633194077807932\n",
      "\n",
      "\n"
     ]
    }
   ],
   "source": [
    "# ward linkage - PAM50\n",
    "compare_agg_clusters_ward(n_clusters, p50)"
   ]
  },
  {
   "cell_type": "markdown",
   "metadata": {},
   "source": [
    "Looking at the dendrograms, the ward method seemed to do the best job of grouping the patients together and there seems to be four good clusters there. "
   ]
  },
  {
   "cell_type": "markdown",
   "metadata": {},
   "source": [
    "#### GMM clustering"
   ]
  },
  {
   "cell_type": "code",
   "execution_count": 81,
   "metadata": {},
   "outputs": [
    {
     "name": "stdout",
     "output_type": "stream",
     "text": [
      "Adjusted Rand Index for k == 2: 0.00854030663787393\n",
      "Silhoutte Coeffiecient for k == 2: 0.09656537766313626\n",
      "\n",
      "\n",
      "Adjusted Rand Index for k == 3: 0.05178058406633451\n",
      "Silhoutte Coeffiecient for k == 3: 0.057265403988267426\n",
      "\n",
      "\n",
      "Adjusted Rand Index for k == 4: 0.13079127917977756\n",
      "Silhoutte Coeffiecient for k == 4: 0.03935067007594327\n",
      "\n",
      "\n",
      "Adjusted Rand Index for k == 5: 0.08437051583390726\n",
      "Silhoutte Coeffiecient for k == 5: 0.024659520907641515\n"
     ]
    }
   ],
   "source": [
    "# diag covariance type\n",
    "gmm_cluster2 = GaussianMixture(n_components=2, covariance_type = 'diag', random_state=123)\n",
    "clusters2 = gmm_cluster2.fit_predict(X_std)\n",
    "\n",
    "gmm_cluster3 = GaussianMixture(n_components=3, covariance_type = 'diag', random_state=123)\n",
    "clusters3 = gmm_cluster3.fit_predict(X_std)\n",
    "\n",
    "gmm_cluster4 = GaussianMixture(n_components=4, covariance_type = 'diag', random_state=123)\n",
    "clusters4 = gmm_cluster4.fit_predict(X_std)\n",
    "\n",
    "gmm_cluster5 = GaussianMixture(n_components=5, covariance_type = 'diag', random_state=123)\n",
    "clusters5 = gmm_cluster5.fit_predict(X_std)\n",
    "\n",
    "# Fit model\n",
    "print(\"Adjusted Rand Index for k == 2: {}\".format(metrics.adjusted_rand_score(y, clusters2)))\n",
    "print(\"Silhoutte Coeffiecient for k == 2: {}\".format(metrics.silhouette_score(X_std, clusters2, metric='euclidean')))\n",
    "print(\"\\n\")\n",
    "\n",
    "print(\"Adjusted Rand Index for k == 3: {}\".format(metrics.adjusted_rand_score(y, clusters3)))\n",
    "print(\"Silhoutte Coeffiecient for k == 3: {}\".format(metrics.silhouette_score(X_std, clusters3, metric='euclidean')))\n",
    "print(\"\\n\")\n",
    "\n",
    "print(\"Adjusted Rand Index for k == 4: {}\".format(metrics.adjusted_rand_score(y, clusters4)))\n",
    "print(\"Silhoutte Coeffiecient for k == 4: {}\".format(metrics.silhouette_score(X_std, clusters4, metric='euclidean')))\n",
    "print(\"\\n\")\n",
    "\n",
    "print(\"Adjusted Rand Index for k == 5: {}\".format(metrics.adjusted_rand_score(y, clusters5)))\n",
    "print(\"Silhoutte Coeffiecient for k == 5: {}\".format(metrics.silhouette_score(X_std, clusters5, metric='euclidean')))"
   ]
  },
  {
   "cell_type": "code",
   "execution_count": 82,
   "metadata": {},
   "outputs": [
    {
     "name": "stdout",
     "output_type": "stream",
     "text": [
      "Adjusted Rand Index for k == 2: 0.19773407644844881\n",
      "Silhoutte Coeffiecient for k == 2: 0.16155052888751248\n",
      "\n",
      "\n",
      "Adjusted Rand Index for k == 3: 0.4126641974100625\n",
      "Silhoutte Coeffiecient for k == 3: 0.14398424457869693\n",
      "\n",
      "\n",
      "Adjusted Rand Index for k == 4: 0.49883940767464535\n",
      "Silhoutte Coeffiecient for k == 4: 0.11691297270622954\n",
      "\n",
      "\n",
      "Adjusted Rand Index for k == 5: 0.3095756287557166\n",
      "Silhoutte Coeffiecient for k == 5: 0.09418865737897225\n"
     ]
    }
   ],
   "source": [
    "# diag covariance type\n",
    "gmm_cluster2 = GaussianMixture(n_components=2, covariance_type = 'diag', random_state=123)\n",
    "clusters2 = gmm_cluster2.fit_predict(X_std_p50)\n",
    "\n",
    "gmm_cluster3 = GaussianMixture(n_components=3, covariance_type = 'diag', random_state=123)\n",
    "clusters3 = gmm_cluster3.fit_predict(X_std_p50)\n",
    "\n",
    "gmm_cluster4 = GaussianMixture(n_components=4, covariance_type = 'diag', random_state=123)\n",
    "clusters4 = gmm_cluster4.fit_predict(X_std_p50)\n",
    "\n",
    "gmm_cluster5 = GaussianMixture(n_components=5, covariance_type = 'diag', random_state=123)\n",
    "clusters5 = gmm_cluster5.fit_predict(X_std_p50)\n",
    "\n",
    "# Fit model\n",
    "print(\"Adjusted Rand Index for k == 2: {}\".format(metrics.adjusted_rand_score(y, clusters2)))\n",
    "print(\"Silhoutte Coeffiecient for k == 2: {}\".format(metrics.silhouette_score(X_std_p50, clusters2, metric='euclidean')))\n",
    "print(\"\\n\")\n",
    "\n",
    "print(\"Adjusted Rand Index for k == 3: {}\".format(metrics.adjusted_rand_score(y, clusters3)))\n",
    "print(\"Silhoutte Coeffiecient for k == 3: {}\".format(metrics.silhouette_score(X_std_p50, clusters3, metric='euclidean')))\n",
    "print(\"\\n\")\n",
    "\n",
    "print(\"Adjusted Rand Index for k == 4: {}\".format(metrics.adjusted_rand_score(y, clusters4)))\n",
    "print(\"Silhoutte Coeffiecient for k == 4: {}\".format(metrics.silhouette_score(X_std_p50, clusters4, metric='euclidean')))\n",
    "print(\"\\n\")\n",
    "\n",
    "print(\"Adjusted Rand Index for k == 5: {}\".format(metrics.adjusted_rand_score(y, clusters5)))\n",
    "print(\"Silhoutte Coeffiecient for k == 5: {}\".format(metrics.silhouette_score(X_std_p50, clusters5, metric='euclidean')))"
   ]
  },
  {
   "cell_type": "code",
   "execution_count": 83,
   "metadata": {},
   "outputs": [
    {
     "name": "stdout",
     "output_type": "stream",
     "text": [
      "Adjusted Rand Index for k == 2: 0.00854030663787393\n",
      "Silhoutte Coeffiecient for k == 2: 0.09656537766313626\n",
      "\n",
      "\n",
      "Adjusted Rand Index for k == 3: 0.04934989718955353\n",
      "Silhoutte Coeffiecient for k == 3: 0.049311044714496564\n",
      "\n",
      "\n",
      "Adjusted Rand Index for k == 4: 0.13079127917977756\n",
      "Silhoutte Coeffiecient for k == 4: 0.03935067007594327\n",
      "\n",
      "\n",
      "Adjusted Rand Index for k == 5: 0.09703205488883594\n",
      "Silhoutte Coeffiecient for k == 5: 0.025986000996081837\n"
     ]
    }
   ],
   "source": [
    "# spherical covariance type\n",
    "gmm_cluster2 = GaussianMixture(n_components=2, covariance_type = 'spherical', random_state=123)\n",
    "clusters2 = gmm_cluster2.fit_predict(X_std)\n",
    "\n",
    "gmm_cluster3 = GaussianMixture(n_components=3, covariance_type = 'spherical', random_state=123)\n",
    "clusters3 = gmm_cluster3.fit_predict(X_std)\n",
    "\n",
    "gmm_cluster4 = GaussianMixture(n_components=4, covariance_type = 'spherical', random_state=123)\n",
    "clusters4 = gmm_cluster4.fit_predict(X_std)\n",
    "\n",
    "gmm_cluster5 = GaussianMixture(n_components=5, covariance_type = 'spherical', random_state=123)\n",
    "clusters5 = gmm_cluster5.fit_predict(X_std)\n",
    "\n",
    "# Fit model\n",
    "print(\"Adjusted Rand Index for k == 2: {}\".format(metrics.adjusted_rand_score(y, clusters2)))\n",
    "print(\"Silhoutte Coeffiecient for k == 2: {}\".format(metrics.silhouette_score(X_std, clusters2, metric='euclidean')))\n",
    "print(\"\\n\")\n",
    "\n",
    "print(\"Adjusted Rand Index for k == 3: {}\".format(metrics.adjusted_rand_score(y, clusters3)))\n",
    "print(\"Silhoutte Coeffiecient for k == 3: {}\".format(metrics.silhouette_score(X_std, clusters3, metric='euclidean')))\n",
    "print(\"\\n\")\n",
    "\n",
    "print(\"Adjusted Rand Index for k == 4: {}\".format(metrics.adjusted_rand_score(y, clusters4)))\n",
    "print(\"Silhoutte Coeffiecient for k == 4: {}\".format(metrics.silhouette_score(X_std, clusters4, metric='euclidean')))\n",
    "print(\"\\n\")\n",
    "\n",
    "print(\"Adjusted Rand Index for k == 5: {}\".format(metrics.adjusted_rand_score(y, clusters5)))\n",
    "print(\"Silhoutte Coeffiecient for k == 5: {}\".format(metrics.silhouette_score(X_std, clusters5, metric='euclidean')))"
   ]
  },
  {
   "cell_type": "code",
   "execution_count": 84,
   "metadata": {},
   "outputs": [
    {
     "name": "stdout",
     "output_type": "stream",
     "text": [
      "Adjusted Rand Index for k == 2: 0.19773407644844881\n",
      "Silhoutte Coeffiecient for k == 2: 0.16155052888751248\n",
      "\n",
      "\n",
      "Adjusted Rand Index for k == 3: 0.42370424761574277\n",
      "Silhoutte Coeffiecient for k == 3: 0.14378587891842293\n",
      "\n",
      "\n",
      "Adjusted Rand Index for k == 4: 0.3823221032429121\n",
      "Silhoutte Coeffiecient for k == 4: 0.10022128869859845\n",
      "\n",
      "\n",
      "Adjusted Rand Index for k == 5: 0.3446123540171662\n",
      "Silhoutte Coeffiecient for k == 5: 0.10190398630004557\n"
     ]
    }
   ],
   "source": [
    "# spherical covariance type\n",
    "gmm_cluster2 = GaussianMixture(n_components=2, covariance_type = 'spherical', random_state=123)\n",
    "clusters2 = gmm_cluster2.fit_predict(X_std_p50)\n",
    "\n",
    "gmm_cluster3 = GaussianMixture(n_components=3, covariance_type = 'spherical', random_state=123)\n",
    "clusters3 = gmm_cluster3.fit_predict(X_std_p50)\n",
    "\n",
    "gmm_cluster4 = GaussianMixture(n_components=4, covariance_type = 'spherical', random_state=123)\n",
    "clusters4 = gmm_cluster4.fit_predict(X_std_p50)\n",
    "\n",
    "gmm_cluster5 = GaussianMixture(n_components=5, covariance_type = 'spherical', random_state=123)\n",
    "clusters5 = gmm_cluster5.fit_predict(X_std_p50)\n",
    "\n",
    "# Fit model\n",
    "print(\"Adjusted Rand Index for k == 2: {}\".format(metrics.adjusted_rand_score(y, clusters2)))\n",
    "print(\"Silhoutte Coeffiecient for k == 2: {}\".format(metrics.silhouette_score(X_std_p50, clusters2, metric='euclidean')))\n",
    "print(\"\\n\")\n",
    "\n",
    "print(\"Adjusted Rand Index for k == 3: {}\".format(metrics.adjusted_rand_score(y, clusters3)))\n",
    "print(\"Silhoutte Coeffiecient for k == 3: {}\".format(metrics.silhouette_score(X_std_p50, clusters3, metric='euclidean')))\n",
    "print(\"\\n\")\n",
    "\n",
    "print(\"Adjusted Rand Index for k == 4: {}\".format(metrics.adjusted_rand_score(y, clusters4)))\n",
    "print(\"Silhoutte Coeffiecient for k == 4: {}\".format(metrics.silhouette_score(X_std_p50, clusters4, metric='euclidean')))\n",
    "print(\"\\n\")\n",
    "\n",
    "print(\"Adjusted Rand Index for k == 5: {}\".format(metrics.adjusted_rand_score(y, clusters5)))\n",
    "print(\"Silhoutte Coeffiecient for k == 5: {}\".format(metrics.silhouette_score(X_std_p50, clusters5, metric='euclidean')))"
   ]
  },
  {
   "cell_type": "markdown",
   "metadata": {},
   "source": [
    "Again the best silhouette score occurs with two clusters and this was a very similar score to the other methods used. "
   ]
  },
  {
   "cell_type": "markdown",
   "metadata": {},
   "source": [
    "### Discussion\n",
    "\n",
    "Applying the three different unsupervised clustering methods to the data, it appears that two clusters was achieving the best outcome. Without a target variable, I had to rely solely on the silhouette scores and for all three clustering methods we got very similar scores between 0.101 to 0.109. This isn't a great result, suggesting to me that there is quite a bit of difference in the protein expression patterns between the 80 patients and that there was difficulty for the algorithms grouping the clusters together. This was also evident when we got such clearly defined results while performing the dimensionality reduction techniques. The original study found an optimization at 3 clusters; however, they only observed 50 proteins known to be highly associated with breast cancer. For the sake of this assignment, I wanted to examine all of the >12,000 proteins in order to have a more robust dataset. Because we had so many features in the dataset, we got to see the power of the dimensionality reduction techniques which were able to take all of those features and separate them out in a two-dimensional visualization. Clustering algorithms are a good way to find similarities between the observations in your data, however for the reasons mentioned above it is understandable how for this data we had a difficult time getting good clusters. Perhaps if we had similar data for many more breast cancer patients we would start to get better separation. "
   ]
  },
  {
   "cell_type": "code",
   "execution_count": null,
   "metadata": {},
   "outputs": [],
   "source": []
  }
 ],
 "metadata": {
  "kernelspec": {
   "display_name": "Python 3",
   "language": "python",
   "name": "python3"
  },
  "language_info": {
   "codemirror_mode": {
    "name": "ipython",
    "version": 3
   },
   "file_extension": ".py",
   "mimetype": "text/x-python",
   "name": "python",
   "nbconvert_exporter": "python",
   "pygments_lexer": "ipython3",
   "version": "3.7.3"
  }
 },
 "nbformat": 4,
 "nbformat_minor": 2
}
