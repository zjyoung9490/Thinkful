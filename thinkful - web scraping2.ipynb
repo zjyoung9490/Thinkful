{
 "cells": [
  {
   "cell_type": "markdown",
   "metadata": {},
   "source": [
    "## Web Scraping Goodreads Quotes"
   ]
  },
  {
   "cell_type": "code",
   "execution_count": 1,
   "metadata": {},
   "outputs": [
    {
     "name": "stdout",
     "output_type": "stream",
     "text": [
      "Success!\n"
     ]
    }
   ],
   "source": [
    "# Importing in each cell because of the kernel restarts.\n",
    "import scrapy\n",
    "import re\n",
    "from scrapy.crawler import CrawlerProcess\n",
    "\n",
    "class ESSpider(scrapy.Spider):\n",
    "    # Naming the spider is important if you are running more than one spider of\n",
    "    # this class simultaneously.\n",
    "    name = \"ESS\"\n",
    "    \n",
    "    # URL(s) to start with.\n",
    "    start_urls = [\n",
    "        'https://www.goodreads.com/quotes',\n",
    "    ]\n",
    "\n",
    "    # Use XPath to parse the response we get.\n",
    "    def parse(self, response):\n",
    "        \n",
    "        # Iterate over every element on the page.\n",
    "        for div in response.xpath('//div[@class=\"quote\"]'):\n",
    "            \n",
    "            # Yield a dictionary with the values we want.\n",
    "            yield {\n",
    "                'quote': div.xpath('div/div[1]/text()').extract(),\n",
    "                'author': div.xpath('div/div[1]/span/text()').extract(),\n",
    "                'likes': div.xpath('div/div[2]/div[2]/a/text()').extract(),\n",
    "            }\n",
    "        # Get the URL of the previous page.\n",
    "        next_page = response.xpath('//div[@style=\"text-align: right; width: 100%\"]/div/a/@href').extract_first()\n",
    "        \n",
    "        pagenum = int(re.findall(r'\\d+',next_page)[0])\n",
    "        # Recursively call the spider to run on the next page, if it exists.\n",
    "        if next_page is not None and pagenum < 25:\n",
    "            next_page = response.urljoin(next_page)\n",
    "            # Request the next page and recursively parse it the same way we did above\n",
    "            yield scrapy.Request(next_page, callback=self.parse)\n",
    "\n",
    "# Tell the script how to run the crawler by passing in settings.\n",
    "# The new settings have to do with scraping etiquette.          \n",
    "process = CrawlerProcess({\n",
    "    'FEED_FORMAT': 'json',         # Store data in JSON format.\n",
    "    'FEED_URI': 'data.json',       # Name our storage file.\n",
    "    'LOG_ENABLED': False,          # Turn off logging for now.\n",
    "    'ROBOTSTXT_OBEY': True,\n",
    "    'USER_AGENT': 'ThinkfulDataScienceBootcampCrawler (thinkful.com)',\n",
    "    'AUTOTHROTTLE_ENABLED': True,\n",
    "    'HTTPCACHE_ENABLED': True\n",
    "})\n",
    "\n",
    "# Start the crawler with our spider.\n",
    "process.crawl(ESSpider)\n",
    "process.start()\n",
    "print('Success!')"
   ]
  },
  {
   "cell_type": "code",
   "execution_count": 2,
   "metadata": {},
   "outputs": [],
   "source": [
    "import matplotlib.pyplot as plt\n",
    "import numpy as np\n",
    "import pandas as pd\n",
    "\n",
    "%matplotlib inline"
   ]
  },
  {
   "cell_type": "code",
   "execution_count": 3,
   "metadata": {},
   "outputs": [
    {
     "data": {
      "text/html": [
       "<div>\n",
       "<style scoped>\n",
       "    .dataframe tbody tr th:only-of-type {\n",
       "        vertical-align: middle;\n",
       "    }\n",
       "\n",
       "    .dataframe tbody tr th {\n",
       "        vertical-align: top;\n",
       "    }\n",
       "\n",
       "    .dataframe thead th {\n",
       "        text-align: right;\n",
       "    }\n",
       "</style>\n",
       "<table border=\"1\" class=\"dataframe\">\n",
       "  <thead>\n",
       "    <tr style=\"text-align: right;\">\n",
       "      <th></th>\n",
       "      <th>author</th>\n",
       "      <th>likes</th>\n",
       "      <th>quote</th>\n",
       "    </tr>\n",
       "  </thead>\n",
       "  <tbody>\n",
       "    <tr>\n",
       "      <th>0</th>\n",
       "      <td>[\\n    Marilyn Monroe\\n  ]</td>\n",
       "      <td>[149316 likes]</td>\n",
       "      <td>[\\n      “I'm selfish, impatient and a little ...</td>\n",
       "    </tr>\n",
       "    <tr>\n",
       "      <th>1</th>\n",
       "      <td>[\\n    Oscar Wilde\\n  ]</td>\n",
       "      <td>[147356 likes]</td>\n",
       "      <td>[\\n      “Be yourself; everyone else is alread...</td>\n",
       "    </tr>\n",
       "    <tr>\n",
       "      <th>2</th>\n",
       "      <td>[\\n    Albert Einstein\\n  ]</td>\n",
       "      <td>[130706 likes]</td>\n",
       "      <td>[\\n      “Two things are infinite: the univers...</td>\n",
       "    </tr>\n",
       "    <tr>\n",
       "      <th>3</th>\n",
       "      <td>[\\n    Frank Zappa\\n  ]</td>\n",
       "      <td>[126341 likes]</td>\n",
       "      <td>[\\n      “So many books, so little time.”\\n  ,...</td>\n",
       "    </tr>\n",
       "    <tr>\n",
       "      <th>4</th>\n",
       "      <td>[\\n    Bernard M. Baruch\\n  ]</td>\n",
       "      <td>[120238 likes]</td>\n",
       "      <td>[\\n      “Be who you are and say what you feel...</td>\n",
       "    </tr>\n",
       "  </tbody>\n",
       "</table>\n",
       "</div>"
      ],
      "text/plain": [
       "                          author           likes  \\\n",
       "0     [\\n    Marilyn Monroe\\n  ]  [149316 likes]   \n",
       "1        [\\n    Oscar Wilde\\n  ]  [147356 likes]   \n",
       "2    [\\n    Albert Einstein\\n  ]  [130706 likes]   \n",
       "3        [\\n    Frank Zappa\\n  ]  [126341 likes]   \n",
       "4  [\\n    Bernard M. Baruch\\n  ]  [120238 likes]   \n",
       "\n",
       "                                               quote  \n",
       "0  [\\n      “I'm selfish, impatient and a little ...  \n",
       "1  [\\n      “Be yourself; everyone else is alread...  \n",
       "2  [\\n      “Two things are infinite: the univers...  \n",
       "3  [\\n      “So many books, so little time.”\\n  ,...  \n",
       "4  [\\n      “Be who you are and say what you feel...  "
      ]
     },
     "execution_count": 3,
     "metadata": {},
     "output_type": "execute_result"
    }
   ],
   "source": [
    "quotes=pd.read_json('data.json', orient='records')\n",
    "quotes.head()"
   ]
  },
  {
   "cell_type": "code",
   "execution_count": 4,
   "metadata": {},
   "outputs": [
    {
     "name": "stdout",
     "output_type": "stream",
     "text": [
      "<class 'pandas.core.frame.DataFrame'>\n",
      "RangeIndex: 90 entries, 0 to 89\n",
      "Data columns (total 3 columns):\n",
      "author    90 non-null object\n",
      "likes     90 non-null object\n",
      "quote     90 non-null object\n",
      "dtypes: object(3)\n",
      "memory usage: 2.2+ KB\n"
     ]
    }
   ],
   "source": [
    "quotes.info()"
   ]
  },
  {
   "cell_type": "markdown",
   "metadata": {},
   "source": [
    "## Data Cleaning"
   ]
  },
  {
   "cell_type": "code",
   "execution_count": 5,
   "metadata": {},
   "outputs": [],
   "source": [
    "# Remove '[]' from dataframe\n",
    "quotes['likes'] = quotes['likes'].str.get(0)\n",
    "quotes['author'] = quotes['author'].str.get(0)\n",
    "quotes['quote'] = quotes['quote'].str.get(0)"
   ]
  },
  {
   "cell_type": "code",
   "execution_count": 6,
   "metadata": {},
   "outputs": [],
   "source": [
    "# Remove all \\n from dataframe\n",
    "quotes = quotes.replace('\\n', '', regex=True)\n",
    "\n",
    "# Remove ',' from author column\n",
    "quotes['author'] = quotes['author'].replace(',', '', regex=True)"
   ]
  },
  {
   "cell_type": "code",
   "execution_count": 7,
   "metadata": {},
   "outputs": [],
   "source": [
    "# Get rid of 'likes' in likes column\n",
    "quotes['likes'] = quotes['likes'].str.replace(\"likes\", \"\")\n",
    "\n",
    "# Make likes column numeric\n",
    "quotes['likes'] = pd.to_numeric(quotes['likes'])"
   ]
  },
  {
   "cell_type": "code",
   "execution_count": 8,
   "metadata": {},
   "outputs": [
    {
     "data": {
      "text/html": [
       "<div>\n",
       "<style scoped>\n",
       "    .dataframe tbody tr th:only-of-type {\n",
       "        vertical-align: middle;\n",
       "    }\n",
       "\n",
       "    .dataframe tbody tr th {\n",
       "        vertical-align: top;\n",
       "    }\n",
       "\n",
       "    .dataframe thead th {\n",
       "        text-align: right;\n",
       "    }\n",
       "</style>\n",
       "<table border=\"1\" class=\"dataframe\">\n",
       "  <thead>\n",
       "    <tr style=\"text-align: right;\">\n",
       "      <th></th>\n",
       "      <th>author</th>\n",
       "      <th>likes</th>\n",
       "      <th>quote</th>\n",
       "      <th>word_counts</th>\n",
       "    </tr>\n",
       "  </thead>\n",
       "  <tbody>\n",
       "    <tr>\n",
       "      <th>0</th>\n",
       "      <td>Marilyn Monroe</td>\n",
       "      <td>149316.0</td>\n",
       "      <td>“I'm selfish, impatient and a little ins...</td>\n",
       "      <td>41</td>\n",
       "    </tr>\n",
       "    <tr>\n",
       "      <th>1</th>\n",
       "      <td>Oscar Wilde</td>\n",
       "      <td>147356.0</td>\n",
       "      <td>“Be yourself; everyone else is already t...</td>\n",
       "      <td>7</td>\n",
       "    </tr>\n",
       "    <tr>\n",
       "      <th>2</th>\n",
       "      <td>Albert Einstein</td>\n",
       "      <td>130706.0</td>\n",
       "      <td>“Two things are infinite: the universe a...</td>\n",
       "      <td>16</td>\n",
       "    </tr>\n",
       "    <tr>\n",
       "      <th>3</th>\n",
       "      <td>Frank Zappa</td>\n",
       "      <td>126341.0</td>\n",
       "      <td>“So many books, so little time.”</td>\n",
       "      <td>6</td>\n",
       "    </tr>\n",
       "    <tr>\n",
       "      <th>4</th>\n",
       "      <td>Bernard M. Baruch</td>\n",
       "      <td>120238.0</td>\n",
       "      <td>“Be who you are and say what you feel, b...</td>\n",
       "      <td>21</td>\n",
       "    </tr>\n",
       "  </tbody>\n",
       "</table>\n",
       "</div>"
      ],
      "text/plain": [
       "                    author     likes  \\\n",
       "0         Marilyn Monroe    149316.0   \n",
       "1            Oscar Wilde    147356.0   \n",
       "2        Albert Einstein    130706.0   \n",
       "3            Frank Zappa    126341.0   \n",
       "4      Bernard M. Baruch    120238.0   \n",
       "\n",
       "                                               quote  word_counts  \n",
       "0        “I'm selfish, impatient and a little ins...           41  \n",
       "1        “Be yourself; everyone else is already t...            7  \n",
       "2        “Two things are infinite: the universe a...           16  \n",
       "3                 “So many books, so little time.”              6  \n",
       "4        “Be who you are and say what you feel, b...           21  "
      ]
     },
     "execution_count": 8,
     "metadata": {},
     "output_type": "execute_result"
    }
   ],
   "source": [
    "# Create new column word counts\n",
    "quotes['word_counts'] = quotes['quote'].apply(lambda x: len(x.split()))\n",
    "quotes.head()"
   ]
  },
  {
   "cell_type": "markdown",
   "metadata": {},
   "source": [
    "## Data Exploration"
   ]
  },
  {
   "cell_type": "code",
   "execution_count": 9,
   "metadata": {},
   "outputs": [
    {
     "data": {
      "text/plain": [
       "    Oscar Wilde              9\n",
       "    Marilyn Monroe           5\n",
       "    J.K. Rowling             5\n",
       "    Mark Twain               5\n",
       "    Mahatma Gandhi           4\n",
       "    Albert Einstein          4\n",
       "    Eleanor Roosevelt        3\n",
       "    Dr. Seuss                3\n",
       "    Friedrich Nietzsche      3\n",
       "    Bernard M. Baruch        2\n",
       "Name: author, dtype: int64"
      ]
     },
     "execution_count": 9,
     "metadata": {},
     "output_type": "execute_result"
    }
   ],
   "source": [
    "quotes['author'].value_counts().nlargest(10)"
   ]
  },
  {
   "cell_type": "code",
   "execution_count": 10,
   "metadata": {},
   "outputs": [
    {
     "data": {
      "text/plain": [
       "<matplotlib.axes._subplots.AxesSubplot at 0x266285a8748>"
      ]
     },
     "execution_count": 10,
     "metadata": {},
     "output_type": "execute_result"
    },
    {
     "data": {
      "image/png": "[encoded data removed]",
      "text/plain": [
       "<Figure size 432x288 with 1 Axes>"
      ]
     },
     "metadata": {
      "needs_background": "light"
     },
     "output_type": "display_data"
    }
   ],
   "source": [
    "quotes['author'].value_counts().nlargest(10).plot.barh(title = \"Top Ten Most\")"
   ]
  },
  {
   "cell_type": "code",
   "execution_count": 11,
   "metadata": {},
   "outputs": [
    {
     "name": "stdout",
     "output_type": "stream",
     "text": [
      "Average number of likes: 74270.91860465116\n"
     ]
    },
    {
     "data": {
      "image/png": "[encoded data removed]",
      "text/plain": [
       "<Figure size 864x360 with 2 Axes>"
      ]
     },
     "metadata": {
      "needs_background": "light"
     },
     "output_type": "display_data"
    }
   ],
   "source": [
    "print(\"Average number of likes:\", quotes['likes'].mean())\n",
    "\n",
    "plt.figure(figsize = (12,5))\n",
    "\n",
    "plt.subplot(1,2,1)\n",
    "plt.hist(quotes['likes'])\n",
    "plt.title(\"Number of Likes\")\n",
    "\n",
    "plt.subplot(1,2,2)\n",
    "quotes.boxplot(column = ['likes'])\n",
    "plt.title(\"Number of Likes\")\n",
    "\n",
    "plt.show()"
   ]
  },
  {
   "cell_type": "code",
   "execution_count": 12,
   "metadata": {},
   "outputs": [
    {
     "name": "stdout",
     "output_type": "stream",
     "text": [
      "Average words per quote: 24.644444444444446\n"
     ]
    },
    {
     "data": {
      "image/png": "[encoded data removed]",
      "text/plain": [
       "<Figure size 864x360 with 2 Axes>"
      ]
     },
     "metadata": {
      "needs_background": "light"
     },
     "output_type": "display_data"
    }
   ],
   "source": [
    "print(\"Average words per quote:\", quotes['word_counts'].mean())\n",
    "\n",
    "plt.figure(figsize = (12,5))\n",
    "\n",
    "plt.subplot(1,2,1)\n",
    "plt.hist(quotes['word_counts'])\n",
    "plt.title(\"Word Counts\")\n",
    "\n",
    "plt.subplot(1,2,2)\n",
    "quotes.boxplot(column = ['word_counts'])\n",
    "plt.title(\"Word Counts\")\n",
    "\n",
    "plt.show()"
   ]
  },
  {
   "cell_type": "code",
   "execution_count": 13,
   "metadata": {},
   "outputs": [
    {
     "data": {
      "image/png": "[encoded data removed]",
      "text/plain": [
       "<Figure size 432x288 with 1 Axes>"
      ]
     },
     "metadata": {
      "needs_background": "light"
     },
     "output_type": "display_data"
    }
   ],
   "source": [
    "plt.scatter(quotes['likes'], quotes['word_counts'], s = 10)\n",
    "plt.xlim(0, 150000)\n",
    "plt.ylim(-1, 100)\n",
    "plt.xlabel(\"Likes\")\n",
    "plt.ylabel(\"Word Count\")\n",
    "plt.title(\"Number of Likes vs Word Count\")\n",
    "\n",
    "plt.show()"
   ]
  }
 ],
 "metadata": {
  "kernelspec": {
   "display_name": "Python 3",
   "language": "python",
   "name": "python3"
  },
  "language_info": {
   "codemirror_mode": {
    "name": "ipython",
    "version": 3
   },
   "file_extension": ".py",
   "mimetype": "text/x-python",
   "name": "python",
   "nbconvert_exporter": "python",
   "pygments_lexer": "ipython3",
   "version": "3.7.3"
  }
 },
 "nbformat": 4,
 "nbformat_minor": 2
}
