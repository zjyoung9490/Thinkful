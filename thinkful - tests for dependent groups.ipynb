{
 "cells": [
  {
   "cell_type": "markdown",
   "metadata": {},
   "source": [
    "### Tests for Dependent Groups\n",
    "Why use dependent groups? Come up with a few scenarios where getting repeated measures from the same people would be beneficial."
   ]
  },
  {
   "cell_type": "markdown",
   "metadata": {},
   "source": [
    "#### Marketing Campaigns:\n",
    "You may want to use dependent groups when testing different marketing campaigns whether it be emails, commercials, etc. For example, you could get data on how people feel about and respond to one advertisement and then how they feel and react to another advertisement. Depending on which one people favor the most, this could guide your decision for which advertisement to run.  "
   ]
  },
  {
   "cell_type": "markdown",
   "metadata": {},
   "source": [
    "#### Drug Testing\n",
    "Another area where using dependent groups would make sense would be on testing new drugs. For example, if you have developed a new blood pressure medication, you may want to compare its effects against other medications or by itself. You could collect data on individuals before and after taking the medication and then use statistical tests to measure if there is a statistically significant effect from taking the medication. "
   ]
  },
  {
   "cell_type": "code",
   "execution_count": null,
   "metadata": {},
   "outputs": [],
   "source": []
  }
 ],
 "metadata": {
  "kernelspec": {
   "display_name": "Python 3",
   "language": "python",
   "name": "python3"
  },
  "language_info": {
   "codemirror_mode": {
    "name": "ipython",
    "version": 3
   },
   "file_extension": ".py",
   "mimetype": "text/x-python",
   "name": "python",
   "nbconvert_exporter": "python",
   "pygments_lexer": "ipython3",
   "version": "3.7.3"
  }
 },
 "nbformat": 4,
 "nbformat_minor": 2
}
