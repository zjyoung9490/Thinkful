{
 "cells": [
  {
   "cell_type": "code",
   "execution_count": 1,
   "metadata": {},
   "outputs": [],
   "source": [
    "%matplotlib inline\n",
    "import numpy as np\n",
    "import pandas as pd\n",
    "import scipy\n",
    "import sklearn\n",
    "import matplotlib.pyplot as plt\n",
    "import seaborn as sns"
   ]
  },
  {
   "cell_type": "code",
   "execution_count": 2,
   "metadata": {},
   "outputs": [],
   "source": [
    "# Grab and process the raw data.\n",
    "data_path = (\"https://raw.githubusercontent.com/Thinkful-Ed/data-201-resources/\"\n",
    "             \"master/sms_spam_collection/SMSSpamCollection\"\n",
    "            )\n",
    "sms_raw = pd.read_csv(data_path, delimiter= '\\t', header=None)\n",
    "sms_raw.columns = ['spam', 'message']\n",
    "\n",
    "# Enumerate our spammy keywords.\n",
    "keywords = ['click', 'offer', 'winner', 'buy', 'free', 'cash', 'urgent']\n",
    "\n",
    "for key in keywords:\n",
    "    sms_raw[str(key)] = sms_raw.message.str.contains(\n",
    "        ' ' + str(key) + ' ',\n",
    "        case=False\n",
    ")\n",
    "\n",
    "sms_raw['allcaps'] = sms_raw.message.str.isupper()\n",
    "sms_raw['spam'] = (sms_raw['spam'] == 'spam')\n",
    "data = sms_raw[keywords + ['allcaps']]\n",
    "target = sms_raw['spam']\n",
    "\n",
    "from sklearn.naive_bayes import BernoulliNB\n",
    "bnb = BernoulliNB()\n",
    "y_pred = bnb.fit(data, target).predict(data)"
   ]
  },
  {
   "cell_type": "code",
   "execution_count": 3,
   "metadata": {},
   "outputs": [
    {
     "name": "stdout",
     "output_type": "stream",
     "text": [
      "spam       0.891601\n",
      "message    0.891601\n",
      "click      0.891601\n",
      "offer      0.891601\n",
      "winner     0.891601\n",
      "buy        0.891601\n",
      "free       0.891601\n",
      "cash       0.891601\n",
      "urgent     0.891601\n",
      "allcaps    0.891601\n",
      "dtype: float64\n"
     ]
    }
   ],
   "source": [
    "# Calculate the accuracy of your model here.\n",
    "correct = (target == y_pred).sum()\n",
    "accuracy = correct/sms_raw.count()\n",
    "print(accuracy)"
   ]
  },
  {
   "cell_type": "code",
   "execution_count": 4,
   "metadata": {},
   "outputs": [
    {
     "data": {
      "text/plain": [
       "array([[4770,   55],\n",
       "       [ 549,  198]], dtype=int64)"
      ]
     },
     "execution_count": 4,
     "metadata": {},
     "output_type": "execute_result"
    }
   ],
   "source": [
    "from sklearn.metrics import confusion_matrix\n",
    "confusion_matrix(target, y_pred)"
   ]
  },
  {
   "cell_type": "code",
   "execution_count": 5,
   "metadata": {},
   "outputs": [
    {
     "name": "stdout",
     "output_type": "stream",
     "text": [
      "4770\n",
      "55\n",
      "198\n",
      "549\n"
     ]
    }
   ],
   "source": [
    "#Find counts for confusion matrix\n",
    "sms_raw['y_pred'] = y_pred\n",
    "\n",
    "true_positive = len(sms_raw[(sms_raw['spam'] == False) & (sms_raw['y_pred'] == False)])\n",
    "print(true_positive)\n",
    "\n",
    "false_positive = len(sms_raw[(sms_raw['spam'] == False) & (sms_raw['y_pred'] == True)]) #Type I Error\n",
    "print(false_positive)\n",
    "\n",
    "true_negative = len(sms_raw[(sms_raw['spam'] == True) & (sms_raw['y_pred'] == True)])\n",
    "print(true_negative)\n",
    "\n",
    "false_negative = len(sms_raw[(sms_raw['spam'] == True) & (sms_raw['y_pred'] == False)]) #Type II Error\n",
    "print(false_negative)"
   ]
  },
  {
   "cell_type": "code",
   "execution_count": 6,
   "metadata": {},
   "outputs": [
    {
     "name": "stdout",
     "output_type": "stream",
     "text": [
      "0.26506024096385544\n",
      "0.9886010362694301\n"
     ]
    }
   ],
   "source": [
    "#Sensitivity\n",
    "print(true_negative/(false_negative + true_negative))\n",
    "\n",
    "#Specificity\n",
    "print(true_positive/(false_positive + true_positive))"
   ]
  }
 ],
 "metadata": {
  "kernelspec": {
   "display_name": "Python 3",
   "language": "python",
   "name": "python3"
  },
  "language_info": {
   "codemirror_mode": {
    "name": "ipython",
    "version": 3
   },
   "file_extension": ".py",
   "mimetype": "text/x-python",
   "name": "python",
   "nbconvert_exporter": "python",
   "pygments_lexer": "ipython3",
   "version": "3.7.3"
  }
 },
 "nbformat": 4,
 "nbformat_minor": 2
}
